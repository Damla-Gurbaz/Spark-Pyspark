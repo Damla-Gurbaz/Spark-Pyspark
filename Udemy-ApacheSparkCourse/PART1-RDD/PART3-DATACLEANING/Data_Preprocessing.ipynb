{
  "nbformat": 4,
  "nbformat_minor": 0,
  "metadata": {
    "colab": {
      "name": "Data Preprocessing.ipynb",
      "provenance": []
    },
    "kernelspec": {
      "name": "python3",
      "display_name": "Python 3"
    },
    "language_info": {
      "name": "python"
    }
  },
  "cells": [
    {
      "cell_type": "code",
      "execution_count": 1,
      "metadata": {
        "colab": {
          "base_uri": "https://localhost:8080/"
        },
        "id": "QajFIDcJys4I",
        "outputId": "611c5fd3-2f68-4b72-ced3-c0a4eb7e8c59"
      },
      "outputs": [
        {
          "output_type": "stream",
          "name": "stdout",
          "text": [
            "Collecting pyspark\n",
            "  Downloading pyspark-3.2.0.tar.gz (281.3 MB)\n",
            "\u001b[K     |████████████████████████████████| 281.3 MB 38 kB/s \n",
            "\u001b[?25hCollecting py4j==0.10.9.2\n",
            "  Downloading py4j-0.10.9.2-py2.py3-none-any.whl (198 kB)\n",
            "\u001b[K     |████████████████████████████████| 198 kB 44.6 MB/s \n",
            "\u001b[?25hBuilding wheels for collected packages: pyspark\n",
            "  Building wheel for pyspark (setup.py) ... \u001b[?25l\u001b[?25hdone\n",
            "  Created wheel for pyspark: filename=pyspark-3.2.0-py2.py3-none-any.whl size=281805912 sha256=9c02598ea1b9bb2eb2227b7426e9fd7d981cf719e835231e1f6dcc8d3bd7085f\n",
            "  Stored in directory: /root/.cache/pip/wheels/0b/de/d2/9be5d59d7331c6c2a7c1b6d1a4f463ce107332b1ecd4e80718\n",
            "Successfully built pyspark\n",
            "Installing collected packages: py4j, pyspark\n",
            "Successfully installed py4j-0.10.9.2 pyspark-3.2.0\n"
          ]
        }
      ],
      "source": [
        "!pip install pyspark"
      ]
    },
    {
      "cell_type": "code",
      "source": [
        "\n",
        "from pyspark.sql import SparkSession\n",
        "spark = SparkSession.builder \\\n",
        ".master(\"local[4]\") \\\n",
        ".appName(\"DataExplore\") \\\n",
        ".config(\"spark.executor.memory\",\"4g\") \\\n",
        ".config(\"spark.driver.memory\",\"4g\") \\\n",
        ".getOrCreate()"
      ],
      "metadata": {
        "id": "V5Oha4vzzDhV"
      },
      "execution_count": 3,
      "outputs": []
    },
    {
      "cell_type": "code",
      "source": [
        "df = spark.read \\\n",
        ".option(\"header\",\"True\") \\\n",
        ".option(\"inferSchema\",\"True\") \\\n",
        ".option(\"sep\",\",\") \\\n",
        ".csv(\"/content/simple_data.csv\")"
      ],
      "metadata": {
        "id": "l_M0d2XPzDkd"
      },
      "execution_count": 4,
      "outputs": []
    },
    {
      "cell_type": "code",
      "source": [
        "df.toPandas().head()"
      ],
      "metadata": {
        "colab": {
          "base_uri": "https://localhost:8080/",
          "height": 201
        },
        "id": "8ufEh5QbzDnG",
        "outputId": "c2ef7095-8592-4bb0-92b2-6f394bd95054"
      },
      "execution_count": 5,
      "outputs": [
        {
          "output_type": "execute_result",
          "data": {
            "text/html": [
              "<div>\n",
              "<style scoped>\n",
              "    .dataframe tbody tr th:only-of-type {\n",
              "        vertical-align: middle;\n",
              "    }\n",
              "\n",
              "    .dataframe tbody tr th {\n",
              "        vertical-align: top;\n",
              "    }\n",
              "\n",
              "    .dataframe thead th {\n",
              "        text-align: right;\n",
              "    }\n",
              "</style>\n",
              "<table border=\"1\" class=\"dataframe\">\n",
              "  <thead>\n",
              "    <tr style=\"text-align: right;\">\n",
              "      <th></th>\n",
              "      <th>sirano</th>\n",
              "      <th>isim</th>\n",
              "      <th>yas</th>\n",
              "      <th>meslek</th>\n",
              "      <th>sehir</th>\n",
              "      <th>aylik_gelir</th>\n",
              "    </tr>\n",
              "  </thead>\n",
              "  <tbody>\n",
              "    <tr>\n",
              "      <th>0</th>\n",
              "      <td>1</td>\n",
              "      <td>Cemal</td>\n",
              "      <td>35</td>\n",
              "      <td>Isci</td>\n",
              "      <td>Ankara</td>\n",
              "      <td>3500</td>\n",
              "    </tr>\n",
              "    <tr>\n",
              "      <th>1</th>\n",
              "      <td>2</td>\n",
              "      <td>Ceyda</td>\n",
              "      <td>42</td>\n",
              "      <td>Memur</td>\n",
              "      <td>Kayseri</td>\n",
              "      <td>4200</td>\n",
              "    </tr>\n",
              "    <tr>\n",
              "      <th>2</th>\n",
              "      <td>3</td>\n",
              "      <td>Timur</td>\n",
              "      <td>30</td>\n",
              "      <td>Müzisyen</td>\n",
              "      <td>Istanbul</td>\n",
              "      <td>9000</td>\n",
              "    </tr>\n",
              "    <tr>\n",
              "      <th>3</th>\n",
              "      <td>4</td>\n",
              "      <td>Burcu</td>\n",
              "      <td>29</td>\n",
              "      <td>Pazarlamaci</td>\n",
              "      <td>Ankara</td>\n",
              "      <td>4200</td>\n",
              "    </tr>\n",
              "    <tr>\n",
              "      <th>4</th>\n",
              "      <td>5</td>\n",
              "      <td>Yasemin</td>\n",
              "      <td>23</td>\n",
              "      <td>Pazarlamaci</td>\n",
              "      <td>Bursa</td>\n",
              "      <td>4800</td>\n",
              "    </tr>\n",
              "  </tbody>\n",
              "</table>\n",
              "</div>"
            ],
            "text/plain": [
              "   sirano     isim  yas       meslek     sehir  aylik_gelir\n",
              "0       1    Cemal   35         Isci    Ankara         3500\n",
              "1       2    Ceyda   42        Memur   Kayseri         4200\n",
              "2       3    Timur   30     Müzisyen  Istanbul         9000\n",
              "3       4    Burcu   29  Pazarlamaci    Ankara         4200\n",
              "4       5  Yasemin   23  Pazarlamaci     Bursa         4800"
            ]
          },
          "metadata": {},
          "execution_count": 5
        }
      ]
    },
    {
      "cell_type": "code",
      "source": [
        "from pyspark.sql.functions import *\n",
        "\n",
        "df1 = df.withColumn(\"ekonomik_durum\",\n",
        "when(col(\"aylik_gelir\") >= 7000, \"iyi\").otherwise(\"kötü\")\n",
        ")\n",
        "\n",
        "df1.toPandas().head()"
      ],
      "metadata": {
        "colab": {
          "base_uri": "https://localhost:8080/",
          "height": 201
        },
        "id": "yrJ2w4KRzDpf",
        "outputId": "bead750a-fde5-4ccf-bbcb-c16fb0a81907"
      },
      "execution_count": 6,
      "outputs": [
        {
          "output_type": "execute_result",
          "data": {
            "text/html": [
              "<div>\n",
              "<style scoped>\n",
              "    .dataframe tbody tr th:only-of-type {\n",
              "        vertical-align: middle;\n",
              "    }\n",
              "\n",
              "    .dataframe tbody tr th {\n",
              "        vertical-align: top;\n",
              "    }\n",
              "\n",
              "    .dataframe thead th {\n",
              "        text-align: right;\n",
              "    }\n",
              "</style>\n",
              "<table border=\"1\" class=\"dataframe\">\n",
              "  <thead>\n",
              "    <tr style=\"text-align: right;\">\n",
              "      <th></th>\n",
              "      <th>sirano</th>\n",
              "      <th>isim</th>\n",
              "      <th>yas</th>\n",
              "      <th>meslek</th>\n",
              "      <th>sehir</th>\n",
              "      <th>aylik_gelir</th>\n",
              "      <th>ekonomik_durum</th>\n",
              "    </tr>\n",
              "  </thead>\n",
              "  <tbody>\n",
              "    <tr>\n",
              "      <th>0</th>\n",
              "      <td>1</td>\n",
              "      <td>Cemal</td>\n",
              "      <td>35</td>\n",
              "      <td>Isci</td>\n",
              "      <td>Ankara</td>\n",
              "      <td>3500</td>\n",
              "      <td>kötü</td>\n",
              "    </tr>\n",
              "    <tr>\n",
              "      <th>1</th>\n",
              "      <td>2</td>\n",
              "      <td>Ceyda</td>\n",
              "      <td>42</td>\n",
              "      <td>Memur</td>\n",
              "      <td>Kayseri</td>\n",
              "      <td>4200</td>\n",
              "      <td>kötü</td>\n",
              "    </tr>\n",
              "    <tr>\n",
              "      <th>2</th>\n",
              "      <td>3</td>\n",
              "      <td>Timur</td>\n",
              "      <td>30</td>\n",
              "      <td>Müzisyen</td>\n",
              "      <td>Istanbul</td>\n",
              "      <td>9000</td>\n",
              "      <td>iyi</td>\n",
              "    </tr>\n",
              "    <tr>\n",
              "      <th>3</th>\n",
              "      <td>4</td>\n",
              "      <td>Burcu</td>\n",
              "      <td>29</td>\n",
              "      <td>Pazarlamaci</td>\n",
              "      <td>Ankara</td>\n",
              "      <td>4200</td>\n",
              "      <td>kötü</td>\n",
              "    </tr>\n",
              "    <tr>\n",
              "      <th>4</th>\n",
              "      <td>5</td>\n",
              "      <td>Yasemin</td>\n",
              "      <td>23</td>\n",
              "      <td>Pazarlamaci</td>\n",
              "      <td>Bursa</td>\n",
              "      <td>4800</td>\n",
              "      <td>kötü</td>\n",
              "    </tr>\n",
              "  </tbody>\n",
              "</table>\n",
              "</div>"
            ],
            "text/plain": [
              "   sirano     isim  yas       meslek     sehir  aylik_gelir ekonomik_durum\n",
              "0       1    Cemal   35         Isci    Ankara         3500           kötü\n",
              "1       2    Ceyda   42        Memur   Kayseri         4200           kötü\n",
              "2       3    Timur   30     Müzisyen  Istanbul         9000            iyi\n",
              "3       4    Burcu   29  Pazarlamaci    Ankara         4200           kötü\n",
              "4       5  Yasemin   23  Pazarlamaci     Bursa         4800           kötü"
            ]
          },
          "metadata": {},
          "execution_count": 6
        }
      ]
    },
    {
      "cell_type": "markdown",
      "source": [
        "### **🔍StringIndexer**"
      ],
      "metadata": {
        "id": "vU9x00O60ZmF"
      }
    },
    {
      "cell_type": "code",
      "source": [
        "from pyspark.ml.feature import StringIndexer, OneHotEncoder, VectorAssembler, StandardScaler"
      ],
      "metadata": {
        "id": "0rQ7lvyE01Wk"
      },
      "execution_count": 31,
      "outputs": []
    },
    {
      "cell_type": "code",
      "source": [
        "meslek_indexer = StringIndexer() \\\n",
        ".setInputCol(\"meslek\") \\\n",
        ".setOutputCol(\"meslek_index\") \\\n",
        ".setHandleInvalid(\"skip\") \n",
        "\n",
        "meslek_indexer_model = meslek_indexer.fit(df1)\n",
        "meslek_idexer_df = meslek_indexer_model.transform(df1)"
      ],
      "metadata": {
        "id": "YCKd84ej0ZNu"
      },
      "execution_count": 10,
      "outputs": []
    },
    {
      "cell_type": "code",
      "source": [
        "#en cok tekrarlanana sifir vererek ardisik sekilde index tanimliyor basliyor.\n",
        "\n",
        "meslek_idexer_df.toPandas().head(15)"
      ],
      "metadata": {
        "colab": {
          "base_uri": "https://localhost:8080/",
          "height": 504
        },
        "id": "wc7lv66LzDsT",
        "outputId": "f2747f32-87e8-4ec6-ca4f-12dac78e118b"
      },
      "execution_count": 11,
      "outputs": [
        {
          "output_type": "execute_result",
          "data": {
            "text/html": [
              "<div>\n",
              "<style scoped>\n",
              "    .dataframe tbody tr th:only-of-type {\n",
              "        vertical-align: middle;\n",
              "    }\n",
              "\n",
              "    .dataframe tbody tr th {\n",
              "        vertical-align: top;\n",
              "    }\n",
              "\n",
              "    .dataframe thead th {\n",
              "        text-align: right;\n",
              "    }\n",
              "</style>\n",
              "<table border=\"1\" class=\"dataframe\">\n",
              "  <thead>\n",
              "    <tr style=\"text-align: right;\">\n",
              "      <th></th>\n",
              "      <th>sirano</th>\n",
              "      <th>isim</th>\n",
              "      <th>yas</th>\n",
              "      <th>meslek</th>\n",
              "      <th>sehir</th>\n",
              "      <th>aylik_gelir</th>\n",
              "      <th>ekonomik_durum</th>\n",
              "      <th>meslek_index</th>\n",
              "    </tr>\n",
              "  </thead>\n",
              "  <tbody>\n",
              "    <tr>\n",
              "      <th>0</th>\n",
              "      <td>1</td>\n",
              "      <td>Cemal</td>\n",
              "      <td>35</td>\n",
              "      <td>Isci</td>\n",
              "      <td>Ankara</td>\n",
              "      <td>3500</td>\n",
              "      <td>kötü</td>\n",
              "      <td>5.0</td>\n",
              "    </tr>\n",
              "    <tr>\n",
              "      <th>1</th>\n",
              "      <td>2</td>\n",
              "      <td>Ceyda</td>\n",
              "      <td>42</td>\n",
              "      <td>Memur</td>\n",
              "      <td>Kayseri</td>\n",
              "      <td>4200</td>\n",
              "      <td>kötü</td>\n",
              "      <td>0.0</td>\n",
              "    </tr>\n",
              "    <tr>\n",
              "      <th>2</th>\n",
              "      <td>3</td>\n",
              "      <td>Timur</td>\n",
              "      <td>30</td>\n",
              "      <td>Müzisyen</td>\n",
              "      <td>Istanbul</td>\n",
              "      <td>9000</td>\n",
              "      <td>iyi</td>\n",
              "      <td>1.0</td>\n",
              "    </tr>\n",
              "    <tr>\n",
              "      <th>3</th>\n",
              "      <td>4</td>\n",
              "      <td>Burcu</td>\n",
              "      <td>29</td>\n",
              "      <td>Pazarlamaci</td>\n",
              "      <td>Ankara</td>\n",
              "      <td>4200</td>\n",
              "      <td>kötü</td>\n",
              "      <td>2.0</td>\n",
              "    </tr>\n",
              "    <tr>\n",
              "      <th>4</th>\n",
              "      <td>5</td>\n",
              "      <td>Yasemin</td>\n",
              "      <td>23</td>\n",
              "      <td>Pazarlamaci</td>\n",
              "      <td>Bursa</td>\n",
              "      <td>4800</td>\n",
              "      <td>kötü</td>\n",
              "      <td>2.0</td>\n",
              "    </tr>\n",
              "    <tr>\n",
              "      <th>5</th>\n",
              "      <td>6</td>\n",
              "      <td>Ali</td>\n",
              "      <td>33</td>\n",
              "      <td>Memur</td>\n",
              "      <td>Ankara</td>\n",
              "      <td>4250</td>\n",
              "      <td>kötü</td>\n",
              "      <td>0.0</td>\n",
              "    </tr>\n",
              "    <tr>\n",
              "      <th>6</th>\n",
              "      <td>7</td>\n",
              "      <td>Dilek</td>\n",
              "      <td>29</td>\n",
              "      <td>Pazarlamaci</td>\n",
              "      <td>Istanbul</td>\n",
              "      <td>7300</td>\n",
              "      <td>iyi</td>\n",
              "      <td>2.0</td>\n",
              "    </tr>\n",
              "    <tr>\n",
              "      <th>7</th>\n",
              "      <td>8</td>\n",
              "      <td>Murat</td>\n",
              "      <td>31</td>\n",
              "      <td>Müzisyen</td>\n",
              "      <td>Istanbul</td>\n",
              "      <td>12000</td>\n",
              "      <td>iyi</td>\n",
              "      <td>1.0</td>\n",
              "    </tr>\n",
              "    <tr>\n",
              "      <th>8</th>\n",
              "      <td>9</td>\n",
              "      <td>Ahmet</td>\n",
              "      <td>33</td>\n",
              "      <td>Doktor</td>\n",
              "      <td>Ankara</td>\n",
              "      <td>18000</td>\n",
              "      <td>iyi</td>\n",
              "      <td>3.0</td>\n",
              "    </tr>\n",
              "    <tr>\n",
              "      <th>9</th>\n",
              "      <td>10</td>\n",
              "      <td>Muhittin</td>\n",
              "      <td>46</td>\n",
              "      <td>Berber</td>\n",
              "      <td>Istanbul</td>\n",
              "      <td>12000</td>\n",
              "      <td>iyi</td>\n",
              "      <td>4.0</td>\n",
              "    </tr>\n",
              "    <tr>\n",
              "      <th>10</th>\n",
              "      <td>11</td>\n",
              "      <td>Hicaziye</td>\n",
              "      <td>47</td>\n",
              "      <td>Tuhafiyeci</td>\n",
              "      <td>Ankara</td>\n",
              "      <td>4800</td>\n",
              "      <td>kötü</td>\n",
              "      <td>7.0</td>\n",
              "    </tr>\n",
              "    <tr>\n",
              "      <th>11</th>\n",
              "      <td>12</td>\n",
              "      <td>Harun</td>\n",
              "      <td>43</td>\n",
              "      <td>Tornacı</td>\n",
              "      <td>Ankara</td>\n",
              "      <td>4200</td>\n",
              "      <td>kötü</td>\n",
              "      <td>6.0</td>\n",
              "    </tr>\n",
              "    <tr>\n",
              "      <th>12</th>\n",
              "      <td>13</td>\n",
              "      <td>Hakkı</td>\n",
              "      <td>33</td>\n",
              "      <td>Memur</td>\n",
              "      <td>Çorum</td>\n",
              "      <td>3750</td>\n",
              "      <td>kötü</td>\n",
              "      <td>0.0</td>\n",
              "    </tr>\n",
              "    <tr>\n",
              "      <th>13</th>\n",
              "      <td>14</td>\n",
              "      <td>Gülizar</td>\n",
              "      <td>37</td>\n",
              "      <td>Doktor</td>\n",
              "      <td>İzmir</td>\n",
              "      <td>14250</td>\n",
              "      <td>iyi</td>\n",
              "      <td>3.0</td>\n",
              "    </tr>\n",
              "    <tr>\n",
              "      <th>14</th>\n",
              "      <td>15</td>\n",
              "      <td>Şehmuz</td>\n",
              "      <td>41</td>\n",
              "      <td>Müzisyen</td>\n",
              "      <td>Ankara</td>\n",
              "      <td>8700</td>\n",
              "      <td>iyi</td>\n",
              "      <td>1.0</td>\n",
              "    </tr>\n",
              "  </tbody>\n",
              "</table>\n",
              "</div>"
            ],
            "text/plain": [
              "    sirano      isim  yas  ... aylik_gelir ekonomik_durum  meslek_index\n",
              "0        1     Cemal   35  ...        3500           kötü           5.0\n",
              "1        2     Ceyda   42  ...        4200           kötü           0.0\n",
              "2        3     Timur   30  ...        9000            iyi           1.0\n",
              "3        4     Burcu   29  ...        4200           kötü           2.0\n",
              "4        5   Yasemin   23  ...        4800           kötü           2.0\n",
              "5        6       Ali   33  ...        4250           kötü           0.0\n",
              "6        7     Dilek   29  ...        7300            iyi           2.0\n",
              "7        8     Murat   31  ...       12000            iyi           1.0\n",
              "8        9     Ahmet   33  ...       18000            iyi           3.0\n",
              "9       10  Muhittin   46  ...       12000            iyi           4.0\n",
              "10      11  Hicaziye   47  ...        4800           kötü           7.0\n",
              "11      12     Harun   43  ...        4200           kötü           6.0\n",
              "12      13     Hakkı   33  ...        3750           kötü           0.0\n",
              "13      14   Gülizar   37  ...       14250            iyi           3.0\n",
              "14      15    Şehmuz   41  ...        8700            iyi           1.0\n",
              "\n",
              "[15 rows x 8 columns]"
            ]
          },
          "metadata": {},
          "execution_count": 11
        }
      ]
    },
    {
      "cell_type": "code",
      "source": [
        "df1.groupBy(col(\"meslek\")) \\\n",
        ".agg(count(\"*\").alias(\"sayi\")) \\\n",
        ".sort(desc(\"sayi\")) \\\n",
        ".toPandas().head()"
      ],
      "metadata": {
        "colab": {
          "base_uri": "https://localhost:8080/",
          "height": 201
        },
        "id": "4NmQ7bZqzDxe",
        "outputId": "cd78e847-ec30-4e60-e582-5de093fbac64"
      },
      "execution_count": 12,
      "outputs": [
        {
          "output_type": "execute_result",
          "data": {
            "text/html": [
              "<div>\n",
              "<style scoped>\n",
              "    .dataframe tbody tr th:only-of-type {\n",
              "        vertical-align: middle;\n",
              "    }\n",
              "\n",
              "    .dataframe tbody tr th {\n",
              "        vertical-align: top;\n",
              "    }\n",
              "\n",
              "    .dataframe thead th {\n",
              "        text-align: right;\n",
              "    }\n",
              "</style>\n",
              "<table border=\"1\" class=\"dataframe\">\n",
              "  <thead>\n",
              "    <tr style=\"text-align: right;\">\n",
              "      <th></th>\n",
              "      <th>meslek</th>\n",
              "      <th>sayi</th>\n",
              "    </tr>\n",
              "  </thead>\n",
              "  <tbody>\n",
              "    <tr>\n",
              "      <th>0</th>\n",
              "      <td>Memur</td>\n",
              "      <td>3</td>\n",
              "    </tr>\n",
              "    <tr>\n",
              "      <th>1</th>\n",
              "      <td>Müzisyen</td>\n",
              "      <td>3</td>\n",
              "    </tr>\n",
              "    <tr>\n",
              "      <th>2</th>\n",
              "      <td>Pazarlamaci</td>\n",
              "      <td>3</td>\n",
              "    </tr>\n",
              "    <tr>\n",
              "      <th>3</th>\n",
              "      <td>Doktor</td>\n",
              "      <td>2</td>\n",
              "    </tr>\n",
              "    <tr>\n",
              "      <th>4</th>\n",
              "      <td>Isci</td>\n",
              "      <td>1</td>\n",
              "    </tr>\n",
              "  </tbody>\n",
              "</table>\n",
              "</div>"
            ],
            "text/plain": [
              "        meslek  sayi\n",
              "0        Memur     3\n",
              "1     Müzisyen     3\n",
              "2  Pazarlamaci     3\n",
              "3       Doktor     2\n",
              "4         Isci     1"
            ]
          },
          "metadata": {},
          "execution_count": 12
        }
      ]
    },
    {
      "cell_type": "code",
      "source": [
        "sehir_indexer = StringIndexer() \\\n",
        ".setInputCol(\"sehir\") \\\n",
        ".setOutputCol(\"sehir_index\")\n",
        "\n",
        "sehir_indexer_model = sehir_indexer.fit(meslek_idexer_df)\n",
        "sehir_indexer_df = sehir_indexer_model.transform(meslek_idexer_df)"
      ],
      "metadata": {
        "id": "4MtCcxjSzD0Y"
      },
      "execution_count": 13,
      "outputs": []
    },
    {
      "cell_type": "code",
      "source": [
        "sehir_indexer_df.toPandas().head(15)"
      ],
      "metadata": {
        "colab": {
          "base_uri": "https://localhost:8080/",
          "height": 504
        },
        "id": "WVfQHQ1WzD51",
        "outputId": "d57ffdb2-3c0d-49ae-9bac-5672981ee9db"
      },
      "execution_count": 14,
      "outputs": [
        {
          "output_type": "execute_result",
          "data": {
            "text/html": [
              "<div>\n",
              "<style scoped>\n",
              "    .dataframe tbody tr th:only-of-type {\n",
              "        vertical-align: middle;\n",
              "    }\n",
              "\n",
              "    .dataframe tbody tr th {\n",
              "        vertical-align: top;\n",
              "    }\n",
              "\n",
              "    .dataframe thead th {\n",
              "        text-align: right;\n",
              "    }\n",
              "</style>\n",
              "<table border=\"1\" class=\"dataframe\">\n",
              "  <thead>\n",
              "    <tr style=\"text-align: right;\">\n",
              "      <th></th>\n",
              "      <th>sirano</th>\n",
              "      <th>isim</th>\n",
              "      <th>yas</th>\n",
              "      <th>meslek</th>\n",
              "      <th>sehir</th>\n",
              "      <th>aylik_gelir</th>\n",
              "      <th>ekonomik_durum</th>\n",
              "      <th>meslek_index</th>\n",
              "      <th>sehir_index</th>\n",
              "    </tr>\n",
              "  </thead>\n",
              "  <tbody>\n",
              "    <tr>\n",
              "      <th>0</th>\n",
              "      <td>1</td>\n",
              "      <td>Cemal</td>\n",
              "      <td>35</td>\n",
              "      <td>Isci</td>\n",
              "      <td>Ankara</td>\n",
              "      <td>3500</td>\n",
              "      <td>kötü</td>\n",
              "      <td>5.0</td>\n",
              "      <td>0.0</td>\n",
              "    </tr>\n",
              "    <tr>\n",
              "      <th>1</th>\n",
              "      <td>2</td>\n",
              "      <td>Ceyda</td>\n",
              "      <td>42</td>\n",
              "      <td>Memur</td>\n",
              "      <td>Kayseri</td>\n",
              "      <td>4200</td>\n",
              "      <td>kötü</td>\n",
              "      <td>0.0</td>\n",
              "      <td>3.0</td>\n",
              "    </tr>\n",
              "    <tr>\n",
              "      <th>2</th>\n",
              "      <td>3</td>\n",
              "      <td>Timur</td>\n",
              "      <td>30</td>\n",
              "      <td>Müzisyen</td>\n",
              "      <td>Istanbul</td>\n",
              "      <td>9000</td>\n",
              "      <td>iyi</td>\n",
              "      <td>1.0</td>\n",
              "      <td>1.0</td>\n",
              "    </tr>\n",
              "    <tr>\n",
              "      <th>3</th>\n",
              "      <td>4</td>\n",
              "      <td>Burcu</td>\n",
              "      <td>29</td>\n",
              "      <td>Pazarlamaci</td>\n",
              "      <td>Ankara</td>\n",
              "      <td>4200</td>\n",
              "      <td>kötü</td>\n",
              "      <td>2.0</td>\n",
              "      <td>0.0</td>\n",
              "    </tr>\n",
              "    <tr>\n",
              "      <th>4</th>\n",
              "      <td>5</td>\n",
              "      <td>Yasemin</td>\n",
              "      <td>23</td>\n",
              "      <td>Pazarlamaci</td>\n",
              "      <td>Bursa</td>\n",
              "      <td>4800</td>\n",
              "      <td>kötü</td>\n",
              "      <td>2.0</td>\n",
              "      <td>2.0</td>\n",
              "    </tr>\n",
              "    <tr>\n",
              "      <th>5</th>\n",
              "      <td>6</td>\n",
              "      <td>Ali</td>\n",
              "      <td>33</td>\n",
              "      <td>Memur</td>\n",
              "      <td>Ankara</td>\n",
              "      <td>4250</td>\n",
              "      <td>kötü</td>\n",
              "      <td>0.0</td>\n",
              "      <td>0.0</td>\n",
              "    </tr>\n",
              "    <tr>\n",
              "      <th>6</th>\n",
              "      <td>7</td>\n",
              "      <td>Dilek</td>\n",
              "      <td>29</td>\n",
              "      <td>Pazarlamaci</td>\n",
              "      <td>Istanbul</td>\n",
              "      <td>7300</td>\n",
              "      <td>iyi</td>\n",
              "      <td>2.0</td>\n",
              "      <td>1.0</td>\n",
              "    </tr>\n",
              "    <tr>\n",
              "      <th>7</th>\n",
              "      <td>8</td>\n",
              "      <td>Murat</td>\n",
              "      <td>31</td>\n",
              "      <td>Müzisyen</td>\n",
              "      <td>Istanbul</td>\n",
              "      <td>12000</td>\n",
              "      <td>iyi</td>\n",
              "      <td>1.0</td>\n",
              "      <td>1.0</td>\n",
              "    </tr>\n",
              "    <tr>\n",
              "      <th>8</th>\n",
              "      <td>9</td>\n",
              "      <td>Ahmet</td>\n",
              "      <td>33</td>\n",
              "      <td>Doktor</td>\n",
              "      <td>Ankara</td>\n",
              "      <td>18000</td>\n",
              "      <td>iyi</td>\n",
              "      <td>3.0</td>\n",
              "      <td>0.0</td>\n",
              "    </tr>\n",
              "    <tr>\n",
              "      <th>9</th>\n",
              "      <td>10</td>\n",
              "      <td>Muhittin</td>\n",
              "      <td>46</td>\n",
              "      <td>Berber</td>\n",
              "      <td>Istanbul</td>\n",
              "      <td>12000</td>\n",
              "      <td>iyi</td>\n",
              "      <td>4.0</td>\n",
              "      <td>1.0</td>\n",
              "    </tr>\n",
              "    <tr>\n",
              "      <th>10</th>\n",
              "      <td>11</td>\n",
              "      <td>Hicaziye</td>\n",
              "      <td>47</td>\n",
              "      <td>Tuhafiyeci</td>\n",
              "      <td>Ankara</td>\n",
              "      <td>4800</td>\n",
              "      <td>kötü</td>\n",
              "      <td>7.0</td>\n",
              "      <td>0.0</td>\n",
              "    </tr>\n",
              "    <tr>\n",
              "      <th>11</th>\n",
              "      <td>12</td>\n",
              "      <td>Harun</td>\n",
              "      <td>43</td>\n",
              "      <td>Tornacı</td>\n",
              "      <td>Ankara</td>\n",
              "      <td>4200</td>\n",
              "      <td>kötü</td>\n",
              "      <td>6.0</td>\n",
              "      <td>0.0</td>\n",
              "    </tr>\n",
              "    <tr>\n",
              "      <th>12</th>\n",
              "      <td>13</td>\n",
              "      <td>Hakkı</td>\n",
              "      <td>33</td>\n",
              "      <td>Memur</td>\n",
              "      <td>Çorum</td>\n",
              "      <td>3750</td>\n",
              "      <td>kötü</td>\n",
              "      <td>0.0</td>\n",
              "      <td>4.0</td>\n",
              "    </tr>\n",
              "    <tr>\n",
              "      <th>13</th>\n",
              "      <td>14</td>\n",
              "      <td>Gülizar</td>\n",
              "      <td>37</td>\n",
              "      <td>Doktor</td>\n",
              "      <td>İzmir</td>\n",
              "      <td>14250</td>\n",
              "      <td>iyi</td>\n",
              "      <td>3.0</td>\n",
              "      <td>5.0</td>\n",
              "    </tr>\n",
              "    <tr>\n",
              "      <th>14</th>\n",
              "      <td>15</td>\n",
              "      <td>Şehmuz</td>\n",
              "      <td>41</td>\n",
              "      <td>Müzisyen</td>\n",
              "      <td>Ankara</td>\n",
              "      <td>8700</td>\n",
              "      <td>iyi</td>\n",
              "      <td>1.0</td>\n",
              "      <td>0.0</td>\n",
              "    </tr>\n",
              "  </tbody>\n",
              "</table>\n",
              "</div>"
            ],
            "text/plain": [
              "    sirano      isim  yas  ... ekonomik_durum meslek_index  sehir_index\n",
              "0        1     Cemal   35  ...           kötü          5.0          0.0\n",
              "1        2     Ceyda   42  ...           kötü          0.0          3.0\n",
              "2        3     Timur   30  ...            iyi          1.0          1.0\n",
              "3        4     Burcu   29  ...           kötü          2.0          0.0\n",
              "4        5   Yasemin   23  ...           kötü          2.0          2.0\n",
              "5        6       Ali   33  ...           kötü          0.0          0.0\n",
              "6        7     Dilek   29  ...            iyi          2.0          1.0\n",
              "7        8     Murat   31  ...            iyi          1.0          1.0\n",
              "8        9     Ahmet   33  ...            iyi          3.0          0.0\n",
              "9       10  Muhittin   46  ...            iyi          4.0          1.0\n",
              "10      11  Hicaziye   47  ...           kötü          7.0          0.0\n",
              "11      12     Harun   43  ...           kötü          6.0          0.0\n",
              "12      13     Hakkı   33  ...           kötü          0.0          4.0\n",
              "13      14   Gülizar   37  ...            iyi          3.0          5.0\n",
              "14      15    Şehmuz   41  ...            iyi          1.0          0.0\n",
              "\n",
              "[15 rows x 9 columns]"
            ]
          },
          "metadata": {},
          "execution_count": 14
        }
      ]
    },
    {
      "cell_type": "code",
      "source": [
        "df1.groupBy(\"sehir\") \\\n",
        ".agg(count(\"sehir\").alias(\"sayi\")) \\\n",
        ".sort(desc(\"sayi\")) \\\n",
        ".toPandas().head(20)"
      ],
      "metadata": {
        "colab": {
          "base_uri": "https://localhost:8080/",
          "height": 231
        },
        "id": "UqNLJBY5zD-i",
        "outputId": "db24f7d6-0ea6-4008-a679-ba97a8c5920e"
      },
      "execution_count": 21,
      "outputs": [
        {
          "output_type": "execute_result",
          "data": {
            "text/html": [
              "<div>\n",
              "<style scoped>\n",
              "    .dataframe tbody tr th:only-of-type {\n",
              "        vertical-align: middle;\n",
              "    }\n",
              "\n",
              "    .dataframe tbody tr th {\n",
              "        vertical-align: top;\n",
              "    }\n",
              "\n",
              "    .dataframe thead th {\n",
              "        text-align: right;\n",
              "    }\n",
              "</style>\n",
              "<table border=\"1\" class=\"dataframe\">\n",
              "  <thead>\n",
              "    <tr style=\"text-align: right;\">\n",
              "      <th></th>\n",
              "      <th>sehir</th>\n",
              "      <th>sayi</th>\n",
              "    </tr>\n",
              "  </thead>\n",
              "  <tbody>\n",
              "    <tr>\n",
              "      <th>0</th>\n",
              "      <td>Ankara</td>\n",
              "      <td>7</td>\n",
              "    </tr>\n",
              "    <tr>\n",
              "      <th>1</th>\n",
              "      <td>Istanbul</td>\n",
              "      <td>4</td>\n",
              "    </tr>\n",
              "    <tr>\n",
              "      <th>2</th>\n",
              "      <td>Çorum</td>\n",
              "      <td>1</td>\n",
              "    </tr>\n",
              "    <tr>\n",
              "      <th>3</th>\n",
              "      <td>Kayseri</td>\n",
              "      <td>1</td>\n",
              "    </tr>\n",
              "    <tr>\n",
              "      <th>4</th>\n",
              "      <td>Bursa</td>\n",
              "      <td>1</td>\n",
              "    </tr>\n",
              "    <tr>\n",
              "      <th>5</th>\n",
              "      <td>İzmir</td>\n",
              "      <td>1</td>\n",
              "    </tr>\n",
              "  </tbody>\n",
              "</table>\n",
              "</div>"
            ],
            "text/plain": [
              "      sehir  sayi\n",
              "0    Ankara     7\n",
              "1  Istanbul     4\n",
              "2     Çorum     1\n",
              "3   Kayseri     1\n",
              "4     Bursa     1\n",
              "5     İzmir     1"
            ]
          },
          "metadata": {},
          "execution_count": 21
        }
      ]
    },
    {
      "cell_type": "markdown",
      "source": [
        "### 🔍OneHotEncoder"
      ],
      "metadata": {
        "id": "Mqh1qp052w6d"
      }
    },
    {
      "cell_type": "code",
      "source": [
        "encoder = OneHotEncoder() \\\n",
        ".setInputCols([\"meslek_index\",\"sehir_index\"]) \\\n",
        ".setOutputCols([\"meslek_encoded\",\"sehir_encoded\"])\n",
        "\n",
        "encoder_model = encoder.fit(sehir_indexer_df)\n",
        "encoder_df = encoder_model.transform(sehir_indexer_df)\n"
      ],
      "metadata": {
        "id": "hsVEG8u-zEBa"
      },
      "execution_count": 18,
      "outputs": []
    },
    {
      "cell_type": "code",
      "source": [
        "encoder_df.toPandas().head(5)"
      ],
      "metadata": {
        "colab": {
          "base_uri": "https://localhost:8080/",
          "height": 283
        },
        "id": "gVrelKVL3hpI",
        "outputId": "063f104d-a3bd-4060-e84a-34706d7fb8cc"
      },
      "execution_count": 22,
      "outputs": [
        {
          "output_type": "execute_result",
          "data": {
            "text/html": [
              "<div>\n",
              "<style scoped>\n",
              "    .dataframe tbody tr th:only-of-type {\n",
              "        vertical-align: middle;\n",
              "    }\n",
              "\n",
              "    .dataframe tbody tr th {\n",
              "        vertical-align: top;\n",
              "    }\n",
              "\n",
              "    .dataframe thead th {\n",
              "        text-align: right;\n",
              "    }\n",
              "</style>\n",
              "<table border=\"1\" class=\"dataframe\">\n",
              "  <thead>\n",
              "    <tr style=\"text-align: right;\">\n",
              "      <th></th>\n",
              "      <th>sirano</th>\n",
              "      <th>isim</th>\n",
              "      <th>yas</th>\n",
              "      <th>meslek</th>\n",
              "      <th>sehir</th>\n",
              "      <th>aylik_gelir</th>\n",
              "      <th>ekonomik_durum</th>\n",
              "      <th>meslek_index</th>\n",
              "      <th>sehir_index</th>\n",
              "      <th>meslek_encoded</th>\n",
              "      <th>sehir_encoded</th>\n",
              "    </tr>\n",
              "  </thead>\n",
              "  <tbody>\n",
              "    <tr>\n",
              "      <th>0</th>\n",
              "      <td>1</td>\n",
              "      <td>Cemal</td>\n",
              "      <td>35</td>\n",
              "      <td>Isci</td>\n",
              "      <td>Ankara</td>\n",
              "      <td>3500</td>\n",
              "      <td>kötü</td>\n",
              "      <td>5.0</td>\n",
              "      <td>0.0</td>\n",
              "      <td>(0.0, 0.0, 0.0, 0.0, 0.0, 1.0, 0.0)</td>\n",
              "      <td>(1.0, 0.0, 0.0, 0.0, 0.0)</td>\n",
              "    </tr>\n",
              "    <tr>\n",
              "      <th>1</th>\n",
              "      <td>2</td>\n",
              "      <td>Ceyda</td>\n",
              "      <td>42</td>\n",
              "      <td>Memur</td>\n",
              "      <td>Kayseri</td>\n",
              "      <td>4200</td>\n",
              "      <td>kötü</td>\n",
              "      <td>0.0</td>\n",
              "      <td>3.0</td>\n",
              "      <td>(1.0, 0.0, 0.0, 0.0, 0.0, 0.0, 0.0)</td>\n",
              "      <td>(0.0, 0.0, 0.0, 1.0, 0.0)</td>\n",
              "    </tr>\n",
              "    <tr>\n",
              "      <th>2</th>\n",
              "      <td>3</td>\n",
              "      <td>Timur</td>\n",
              "      <td>30</td>\n",
              "      <td>Müzisyen</td>\n",
              "      <td>Istanbul</td>\n",
              "      <td>9000</td>\n",
              "      <td>iyi</td>\n",
              "      <td>1.0</td>\n",
              "      <td>1.0</td>\n",
              "      <td>(0.0, 1.0, 0.0, 0.0, 0.0, 0.0, 0.0)</td>\n",
              "      <td>(0.0, 1.0, 0.0, 0.0, 0.0)</td>\n",
              "    </tr>\n",
              "    <tr>\n",
              "      <th>3</th>\n",
              "      <td>4</td>\n",
              "      <td>Burcu</td>\n",
              "      <td>29</td>\n",
              "      <td>Pazarlamaci</td>\n",
              "      <td>Ankara</td>\n",
              "      <td>4200</td>\n",
              "      <td>kötü</td>\n",
              "      <td>2.0</td>\n",
              "      <td>0.0</td>\n",
              "      <td>(0.0, 0.0, 1.0, 0.0, 0.0, 0.0, 0.0)</td>\n",
              "      <td>(1.0, 0.0, 0.0, 0.0, 0.0)</td>\n",
              "    </tr>\n",
              "    <tr>\n",
              "      <th>4</th>\n",
              "      <td>5</td>\n",
              "      <td>Yasemin</td>\n",
              "      <td>23</td>\n",
              "      <td>Pazarlamaci</td>\n",
              "      <td>Bursa</td>\n",
              "      <td>4800</td>\n",
              "      <td>kötü</td>\n",
              "      <td>2.0</td>\n",
              "      <td>2.0</td>\n",
              "      <td>(0.0, 0.0, 1.0, 0.0, 0.0, 0.0, 0.0)</td>\n",
              "      <td>(0.0, 0.0, 1.0, 0.0, 0.0)</td>\n",
              "    </tr>\n",
              "  </tbody>\n",
              "</table>\n",
              "</div>"
            ],
            "text/plain": [
              "   sirano  ...              sehir_encoded\n",
              "0       1  ...  (1.0, 0.0, 0.0, 0.0, 0.0)\n",
              "1       2  ...  (0.0, 0.0, 0.0, 1.0, 0.0)\n",
              "2       3  ...  (0.0, 1.0, 0.0, 0.0, 0.0)\n",
              "3       4  ...  (1.0, 0.0, 0.0, 0.0, 0.0)\n",
              "4       5  ...  (0.0, 0.0, 1.0, 0.0, 0.0)\n",
              "\n",
              "[5 rows x 11 columns]"
            ]
          },
          "metadata": {},
          "execution_count": 22
        }
      ]
    },
    {
      "cell_type": "markdown",
      "source": [
        "## 🔍VectorAssembler"
      ],
      "metadata": {
        "id": "SS_Nn4Te4-jn"
      }
    },
    {
      "cell_type": "code",
      "source": [
        "assembler = VectorAssembler() \\\n",
        ".setInputCols([\"yas\",\"aylik_gelir\",\"meslek_encoded\",\"sehir_encoded\"]) \\\n",
        ".setOutputCol(\"vectorized_features\")"
      ],
      "metadata": {
        "id": "L7Ja8lpz42E0"
      },
      "execution_count": 24,
      "outputs": []
    },
    {
      "cell_type": "code",
      "source": [
        "vector_df = assembler.transform(encoder_df)\n",
        "vector_df.select(\"vectorized_features\").toPandas().head(15)"
      ],
      "metadata": {
        "colab": {
          "base_uri": "https://localhost:8080/",
          "height": 504
        },
        "id": "JSAhsD5G5auf",
        "outputId": "22e26f3a-46c4-4e6b-99e5-bee1a6b48a39"
      },
      "execution_count": 26,
      "outputs": [
        {
          "output_type": "execute_result",
          "data": {
            "text/html": [
              "<div>\n",
              "<style scoped>\n",
              "    .dataframe tbody tr th:only-of-type {\n",
              "        vertical-align: middle;\n",
              "    }\n",
              "\n",
              "    .dataframe tbody tr th {\n",
              "        vertical-align: top;\n",
              "    }\n",
              "\n",
              "    .dataframe thead th {\n",
              "        text-align: right;\n",
              "    }\n",
              "</style>\n",
              "<table border=\"1\" class=\"dataframe\">\n",
              "  <thead>\n",
              "    <tr style=\"text-align: right;\">\n",
              "      <th></th>\n",
              "      <th>vectorized_features</th>\n",
              "    </tr>\n",
              "  </thead>\n",
              "  <tbody>\n",
              "    <tr>\n",
              "      <th>0</th>\n",
              "      <td>(35.0, 3500.0, 0.0, 0.0, 0.0, 0.0, 0.0, 1.0, 0.0, 1.0, 0.0, 0.0, 0.0, 0.0)</td>\n",
              "    </tr>\n",
              "    <tr>\n",
              "      <th>1</th>\n",
              "      <td>(42.0, 4200.0, 1.0, 0.0, 0.0, 0.0, 0.0, 0.0, 0.0, 0.0, 0.0, 0.0, 1.0, 0.0)</td>\n",
              "    </tr>\n",
              "    <tr>\n",
              "      <th>2</th>\n",
              "      <td>(30.0, 9000.0, 0.0, 1.0, 0.0, 0.0, 0.0, 0.0, 0.0, 0.0, 1.0, 0.0, 0.0, 0.0)</td>\n",
              "    </tr>\n",
              "    <tr>\n",
              "      <th>3</th>\n",
              "      <td>(29.0, 4200.0, 0.0, 0.0, 1.0, 0.0, 0.0, 0.0, 0.0, 1.0, 0.0, 0.0, 0.0, 0.0)</td>\n",
              "    </tr>\n",
              "    <tr>\n",
              "      <th>4</th>\n",
              "      <td>(23.0, 4800.0, 0.0, 0.0, 1.0, 0.0, 0.0, 0.0, 0.0, 0.0, 0.0, 1.0, 0.0, 0.0)</td>\n",
              "    </tr>\n",
              "    <tr>\n",
              "      <th>5</th>\n",
              "      <td>(33.0, 4250.0, 1.0, 0.0, 0.0, 0.0, 0.0, 0.0, 0.0, 1.0, 0.0, 0.0, 0.0, 0.0)</td>\n",
              "    </tr>\n",
              "    <tr>\n",
              "      <th>6</th>\n",
              "      <td>(29.0, 7300.0, 0.0, 0.0, 1.0, 0.0, 0.0, 0.0, 0.0, 0.0, 1.0, 0.0, 0.0, 0.0)</td>\n",
              "    </tr>\n",
              "    <tr>\n",
              "      <th>7</th>\n",
              "      <td>(31.0, 12000.0, 0.0, 1.0, 0.0, 0.0, 0.0, 0.0, 0.0, 0.0, 1.0, 0.0, 0.0, 0.0)</td>\n",
              "    </tr>\n",
              "    <tr>\n",
              "      <th>8</th>\n",
              "      <td>(33.0, 18000.0, 0.0, 0.0, 0.0, 1.0, 0.0, 0.0, 0.0, 1.0, 0.0, 0.0, 0.0, 0.0)</td>\n",
              "    </tr>\n",
              "    <tr>\n",
              "      <th>9</th>\n",
              "      <td>(46.0, 12000.0, 0.0, 0.0, 0.0, 0.0, 1.0, 0.0, 0.0, 0.0, 1.0, 0.0, 0.0, 0.0)</td>\n",
              "    </tr>\n",
              "    <tr>\n",
              "      <th>10</th>\n",
              "      <td>(47.0, 4800.0, 0.0, 0.0, 0.0, 0.0, 0.0, 0.0, 0.0, 1.0, 0.0, 0.0, 0.0, 0.0)</td>\n",
              "    </tr>\n",
              "    <tr>\n",
              "      <th>11</th>\n",
              "      <td>(43.0, 4200.0, 0.0, 0.0, 0.0, 0.0, 0.0, 0.0, 1.0, 1.0, 0.0, 0.0, 0.0, 0.0)</td>\n",
              "    </tr>\n",
              "    <tr>\n",
              "      <th>12</th>\n",
              "      <td>(33.0, 3750.0, 1.0, 0.0, 0.0, 0.0, 0.0, 0.0, 0.0, 0.0, 0.0, 0.0, 0.0, 1.0)</td>\n",
              "    </tr>\n",
              "    <tr>\n",
              "      <th>13</th>\n",
              "      <td>(37.0, 14250.0, 0.0, 0.0, 0.0, 1.0, 0.0, 0.0, 0.0, 0.0, 0.0, 0.0, 0.0, 0.0)</td>\n",
              "    </tr>\n",
              "    <tr>\n",
              "      <th>14</th>\n",
              "      <td>(41.0, 8700.0, 0.0, 1.0, 0.0, 0.0, 0.0, 0.0, 0.0, 1.0, 0.0, 0.0, 0.0, 0.0)</td>\n",
              "    </tr>\n",
              "  </tbody>\n",
              "</table>\n",
              "</div>"
            ],
            "text/plain": [
              "                                                            vectorized_features\n",
              "0   (35.0, 3500.0, 0.0, 0.0, 0.0, 0.0, 0.0, 1.0, 0.0, 1.0, 0.0, 0.0, 0.0, 0.0) \n",
              "1   (42.0, 4200.0, 1.0, 0.0, 0.0, 0.0, 0.0, 0.0, 0.0, 0.0, 0.0, 0.0, 1.0, 0.0) \n",
              "2   (30.0, 9000.0, 0.0, 1.0, 0.0, 0.0, 0.0, 0.0, 0.0, 0.0, 1.0, 0.0, 0.0, 0.0) \n",
              "3   (29.0, 4200.0, 0.0, 0.0, 1.0, 0.0, 0.0, 0.0, 0.0, 1.0, 0.0, 0.0, 0.0, 0.0) \n",
              "4   (23.0, 4800.0, 0.0, 0.0, 1.0, 0.0, 0.0, 0.0, 0.0, 0.0, 0.0, 1.0, 0.0, 0.0) \n",
              "5   (33.0, 4250.0, 1.0, 0.0, 0.0, 0.0, 0.0, 0.0, 0.0, 1.0, 0.0, 0.0, 0.0, 0.0) \n",
              "6   (29.0, 7300.0, 0.0, 0.0, 1.0, 0.0, 0.0, 0.0, 0.0, 0.0, 1.0, 0.0, 0.0, 0.0) \n",
              "7   (31.0, 12000.0, 0.0, 1.0, 0.0, 0.0, 0.0, 0.0, 0.0, 0.0, 1.0, 0.0, 0.0, 0.0)\n",
              "8   (33.0, 18000.0, 0.0, 0.0, 0.0, 1.0, 0.0, 0.0, 0.0, 1.0, 0.0, 0.0, 0.0, 0.0)\n",
              "9   (46.0, 12000.0, 0.0, 0.0, 0.0, 0.0, 1.0, 0.0, 0.0, 0.0, 1.0, 0.0, 0.0, 0.0)\n",
              "10  (47.0, 4800.0, 0.0, 0.0, 0.0, 0.0, 0.0, 0.0, 0.0, 1.0, 0.0, 0.0, 0.0, 0.0) \n",
              "11  (43.0, 4200.0, 0.0, 0.0, 0.0, 0.0, 0.0, 0.0, 1.0, 1.0, 0.0, 0.0, 0.0, 0.0) \n",
              "12  (33.0, 3750.0, 1.0, 0.0, 0.0, 0.0, 0.0, 0.0, 0.0, 0.0, 0.0, 0.0, 0.0, 1.0) \n",
              "13  (37.0, 14250.0, 0.0, 0.0, 0.0, 1.0, 0.0, 0.0, 0.0, 0.0, 0.0, 0.0, 0.0, 0.0)\n",
              "14  (41.0, 8700.0, 0.0, 1.0, 0.0, 0.0, 0.0, 0.0, 0.0, 1.0, 0.0, 0.0, 0.0, 0.0) "
            ]
          },
          "metadata": {},
          "execution_count": 26
        }
      ]
    },
    {
      "cell_type": "markdown",
      "source": [
        "### 🔍LabelIndexer"
      ],
      "metadata": {
        "id": "91SYXuXN5_WV"
      }
    },
    {
      "cell_type": "code",
      "source": [
        "label_indexer = StringIndexer() \\\n",
        ".setInputCol(\"ekonomik_durum\") \\\n",
        ".setOutputCol(\"label\")"
      ],
      "metadata": {
        "id": "y4DrwuMG5_Dp"
      },
      "execution_count": 27,
      "outputs": []
    },
    {
      "cell_type": "code",
      "source": [
        "label_indexer_model = label_indexer.fit(vector_df)\n",
        "label_indexer_df = label_indexer_model.transform(vector_df)"
      ],
      "metadata": {
        "id": "LnqnoVfZ5_Aq"
      },
      "execution_count": 28,
      "outputs": []
    },
    {
      "cell_type": "code",
      "source": [
        "label_indexer_df.select(\"vectorized_features\",\"label\").toPandas().head(5)\n"
      ],
      "metadata": {
        "colab": {
          "base_uri": "https://localhost:8080/",
          "height": 201
        },
        "id": "PGGsAQTG6ZR_",
        "outputId": "627a48f3-8c33-4b47-c042-958c5ea68db9"
      },
      "execution_count": 30,
      "outputs": [
        {
          "output_type": "execute_result",
          "data": {
            "text/html": [
              "<div>\n",
              "<style scoped>\n",
              "    .dataframe tbody tr th:only-of-type {\n",
              "        vertical-align: middle;\n",
              "    }\n",
              "\n",
              "    .dataframe tbody tr th {\n",
              "        vertical-align: top;\n",
              "    }\n",
              "\n",
              "    .dataframe thead th {\n",
              "        text-align: right;\n",
              "    }\n",
              "</style>\n",
              "<table border=\"1\" class=\"dataframe\">\n",
              "  <thead>\n",
              "    <tr style=\"text-align: right;\">\n",
              "      <th></th>\n",
              "      <th>vectorized_features</th>\n",
              "      <th>label</th>\n",
              "    </tr>\n",
              "  </thead>\n",
              "  <tbody>\n",
              "    <tr>\n",
              "      <th>0</th>\n",
              "      <td>(35.0, 3500.0, 0.0, 0.0, 0.0, 0.0, 0.0, 1.0, 0.0, 1.0, 0.0, 0.0, 0.0, 0.0)</td>\n",
              "      <td>0.0</td>\n",
              "    </tr>\n",
              "    <tr>\n",
              "      <th>1</th>\n",
              "      <td>(42.0, 4200.0, 1.0, 0.0, 0.0, 0.0, 0.0, 0.0, 0.0, 0.0, 0.0, 0.0, 1.0, 0.0)</td>\n",
              "      <td>0.0</td>\n",
              "    </tr>\n",
              "    <tr>\n",
              "      <th>2</th>\n",
              "      <td>(30.0, 9000.0, 0.0, 1.0, 0.0, 0.0, 0.0, 0.0, 0.0, 0.0, 1.0, 0.0, 0.0, 0.0)</td>\n",
              "      <td>1.0</td>\n",
              "    </tr>\n",
              "    <tr>\n",
              "      <th>3</th>\n",
              "      <td>(29.0, 4200.0, 0.0, 0.0, 1.0, 0.0, 0.0, 0.0, 0.0, 1.0, 0.0, 0.0, 0.0, 0.0)</td>\n",
              "      <td>0.0</td>\n",
              "    </tr>\n",
              "    <tr>\n",
              "      <th>4</th>\n",
              "      <td>(23.0, 4800.0, 0.0, 0.0, 1.0, 0.0, 0.0, 0.0, 0.0, 0.0, 0.0, 1.0, 0.0, 0.0)</td>\n",
              "      <td>0.0</td>\n",
              "    </tr>\n",
              "  </tbody>\n",
              "</table>\n",
              "</div>"
            ],
            "text/plain": [
              "                                                          vectorized_features  label\n",
              "0  (35.0, 3500.0, 0.0, 0.0, 0.0, 0.0, 0.0, 1.0, 0.0, 1.0, 0.0, 0.0, 0.0, 0.0)  0.0  \n",
              "1  (42.0, 4200.0, 1.0, 0.0, 0.0, 0.0, 0.0, 0.0, 0.0, 0.0, 0.0, 0.0, 1.0, 0.0)  0.0  \n",
              "2  (30.0, 9000.0, 0.0, 1.0, 0.0, 0.0, 0.0, 0.0, 0.0, 0.0, 1.0, 0.0, 0.0, 0.0)  1.0  \n",
              "3  (29.0, 4200.0, 0.0, 0.0, 1.0, 0.0, 0.0, 0.0, 0.0, 1.0, 0.0, 0.0, 0.0, 0.0)  0.0  \n",
              "4  (23.0, 4800.0, 0.0, 0.0, 1.0, 0.0, 0.0, 0.0, 0.0, 0.0, 0.0, 1.0, 0.0, 0.0)  0.0  "
            ]
          },
          "metadata": {},
          "execution_count": 30
        }
      ]
    },
    {
      "cell_type": "markdown",
      "source": [
        "### 🔍StandartScaler"
      ],
      "metadata": {
        "id": "d4xHdL8Y7Bx3"
      }
    },
    {
      "cell_type": "code",
      "source": [
        "scaler = StandardScaler() \\\n",
        ".setInputCol(\"vectorized_features\") \\\n",
        ".setOutputCol(\"features\")"
      ],
      "metadata": {
        "id": "LUMMlDmq6aPD"
      },
      "execution_count": 32,
      "outputs": []
    },
    {
      "cell_type": "code",
      "source": [
        "scaler_model = scaler.fit(label_indexer_df)\n",
        "scaler_df = scaler_model.transform(label_indexer_df)"
      ],
      "metadata": {
        "id": "x6BdljEF8IkQ"
      },
      "execution_count": 33,
      "outputs": []
    },
    {
      "cell_type": "code",
      "source": [
        "scaler_df.select(\"features\",\"label\").toPandas().head()"
      ],
      "metadata": {
        "colab": {
          "base_uri": "https://localhost:8080/",
          "height": 201
        },
        "id": "NYW9Dm0w8Kq4",
        "outputId": "06779631-077a-4e68-9082-229556f11b59"
      },
      "execution_count": 34,
      "outputs": [
        {
          "output_type": "execute_result",
          "data": {
            "text/html": [
              "<div>\n",
              "<style scoped>\n",
              "    .dataframe tbody tr th:only-of-type {\n",
              "        vertical-align: middle;\n",
              "    }\n",
              "\n",
              "    .dataframe tbody tr th {\n",
              "        vertical-align: top;\n",
              "    }\n",
              "\n",
              "    .dataframe thead th {\n",
              "        text-align: right;\n",
              "    }\n",
              "</style>\n",
              "<table border=\"1\" class=\"dataframe\">\n",
              "  <thead>\n",
              "    <tr style=\"text-align: right;\">\n",
              "      <th></th>\n",
              "      <th>features</th>\n",
              "      <th>label</th>\n",
              "    </tr>\n",
              "  </thead>\n",
              "  <tbody>\n",
              "    <tr>\n",
              "      <th>0</th>\n",
              "      <td>(5.0082809740601215, 0.7723249167865694, 0.0, 0.0, 0.0, 0.0, 0.0, 3.8729833462074175, 0.0, 1.9364916731037087, 0.0, 0.0, 0.0, 0.0)</td>\n",
              "      <td>0.0</td>\n",
              "    </tr>\n",
              "    <tr>\n",
              "      <th>1</th>\n",
              "      <td>(6.009937168872146, 0.9267899001438834, 2.41522945769824, 0.0, 0.0, 0.0, 0.0, 0.0, 0.0, 0.0, 0.0, 0.0, 3.8729833462074175, 0.0)</td>\n",
              "      <td>0.0</td>\n",
              "    </tr>\n",
              "    <tr>\n",
              "      <th>2</th>\n",
              "      <td>(4.292812263480104, 1.9859783574511787, 0.0, 2.41522945769824, 0.0, 0.0, 0.0, 0.0, 0.0, 0.0, 2.1846572437632577, 0.0, 0.0, 0.0)</td>\n",
              "      <td>1.0</td>\n",
              "    </tr>\n",
              "    <tr>\n",
              "      <th>3</th>\n",
              "      <td>(4.149718521364101, 0.9267899001438834, 0.0, 0.0, 2.41522945769824, 0.0, 0.0, 0.0, 0.0, 1.9364916731037087, 0.0, 0.0, 0.0, 0.0)</td>\n",
              "      <td>0.0</td>\n",
              "    </tr>\n",
              "    <tr>\n",
              "      <th>4</th>\n",
              "      <td>(3.29115606866808, 1.0591884573072952, 0.0, 0.0, 2.41522945769824, 0.0, 0.0, 0.0, 0.0, 0.0, 0.0, 3.8729833462074175, 0.0, 0.0)</td>\n",
              "      <td>0.0</td>\n",
              "    </tr>\n",
              "  </tbody>\n",
              "</table>\n",
              "</div>"
            ],
            "text/plain": [
              "                                                                                                                             features  label\n",
              "0  (5.0082809740601215, 0.7723249167865694, 0.0, 0.0, 0.0, 0.0, 0.0, 3.8729833462074175, 0.0, 1.9364916731037087, 0.0, 0.0, 0.0, 0.0)  0.0  \n",
              "1  (6.009937168872146, 0.9267899001438834, 2.41522945769824, 0.0, 0.0, 0.0, 0.0, 0.0, 0.0, 0.0, 0.0, 0.0, 3.8729833462074175, 0.0)     0.0  \n",
              "2  (4.292812263480104, 1.9859783574511787, 0.0, 2.41522945769824, 0.0, 0.0, 0.0, 0.0, 0.0, 0.0, 2.1846572437632577, 0.0, 0.0, 0.0)     1.0  \n",
              "3  (4.149718521364101, 0.9267899001438834, 0.0, 0.0, 2.41522945769824, 0.0, 0.0, 0.0, 0.0, 1.9364916731037087, 0.0, 0.0, 0.0, 0.0)     0.0  \n",
              "4  (3.29115606866808, 1.0591884573072952, 0.0, 0.0, 2.41522945769824, 0.0, 0.0, 0.0, 0.0, 0.0, 0.0, 3.8729833462074175, 0.0, 0.0)      0.0  "
            ]
          },
          "metadata": {},
          "execution_count": 34
        }
      ]
    },
    {
      "cell_type": "markdown",
      "source": [
        "### 🔍Train-Test Split"
      ],
      "metadata": {
        "id": "8BPNUVHS9XQh"
      }
    },
    {
      "cell_type": "code",
      "source": [
        "train_df, test_df = scaler_df.randomSplit([0.8,0.2], seed=142)"
      ],
      "metadata": {
        "id": "67WjAJyV9b9n"
      },
      "execution_count": 36,
      "outputs": []
    },
    {
      "cell_type": "code",
      "source": [
        "train_df.toPandas().head(3)"
      ],
      "metadata": {
        "colab": {
          "base_uri": "https://localhost:8080/",
          "height": 472
        },
        "id": "3J13IGX29uI1",
        "outputId": "90eccdba-f4cd-4f4e-9e67-da530d051aa0"
      },
      "execution_count": 43,
      "outputs": [
        {
          "output_type": "execute_result",
          "data": {
            "text/html": [
              "<div>\n",
              "<style scoped>\n",
              "    .dataframe tbody tr th:only-of-type {\n",
              "        vertical-align: middle;\n",
              "    }\n",
              "\n",
              "    .dataframe tbody tr th {\n",
              "        vertical-align: top;\n",
              "    }\n",
              "\n",
              "    .dataframe thead th {\n",
              "        text-align: right;\n",
              "    }\n",
              "</style>\n",
              "<table border=\"1\" class=\"dataframe\">\n",
              "  <thead>\n",
              "    <tr style=\"text-align: right;\">\n",
              "      <th></th>\n",
              "      <th>sirano</th>\n",
              "      <th>isim</th>\n",
              "      <th>yas</th>\n",
              "      <th>meslek</th>\n",
              "      <th>sehir</th>\n",
              "      <th>aylik_gelir</th>\n",
              "      <th>ekonomik_durum</th>\n",
              "      <th>meslek_index</th>\n",
              "      <th>sehir_index</th>\n",
              "      <th>meslek_encoded</th>\n",
              "      <th>sehir_encoded</th>\n",
              "      <th>vectorized_features</th>\n",
              "      <th>label</th>\n",
              "      <th>features</th>\n",
              "    </tr>\n",
              "  </thead>\n",
              "  <tbody>\n",
              "    <tr>\n",
              "      <th>0</th>\n",
              "      <td>1</td>\n",
              "      <td>Cemal</td>\n",
              "      <td>35</td>\n",
              "      <td>Isci</td>\n",
              "      <td>Ankara</td>\n",
              "      <td>3500</td>\n",
              "      <td>kötü</td>\n",
              "      <td>5.0</td>\n",
              "      <td>0.0</td>\n",
              "      <td>(0.0, 0.0, 0.0, 0.0, 0.0, 1.0, 0.0)</td>\n",
              "      <td>(1.0, 0.0, 0.0, 0.0, 0.0)</td>\n",
              "      <td>(35.0, 3500.0, 0.0, 0.0, 0.0, 0.0, 0.0, 1.0, 0.0, 1.0, 0.0, 0.0, 0.0, 0.0)</td>\n",
              "      <td>0.0</td>\n",
              "      <td>(5.0082809740601215, 0.7723249167865694, 0.0, 0.0, 0.0, 0.0, 0.0, 3.8729833462074175, 0.0, 1.9364916731037087, 0.0, 0.0, 0.0, 0.0)</td>\n",
              "    </tr>\n",
              "    <tr>\n",
              "      <th>1</th>\n",
              "      <td>2</td>\n",
              "      <td>Ceyda</td>\n",
              "      <td>42</td>\n",
              "      <td>Memur</td>\n",
              "      <td>Kayseri</td>\n",
              "      <td>4200</td>\n",
              "      <td>kötü</td>\n",
              "      <td>0.0</td>\n",
              "      <td>3.0</td>\n",
              "      <td>(1.0, 0.0, 0.0, 0.0, 0.0, 0.0, 0.0)</td>\n",
              "      <td>(0.0, 0.0, 0.0, 1.0, 0.0)</td>\n",
              "      <td>(42.0, 4200.0, 1.0, 0.0, 0.0, 0.0, 0.0, 0.0, 0.0, 0.0, 0.0, 0.0, 1.0, 0.0)</td>\n",
              "      <td>0.0</td>\n",
              "      <td>(6.009937168872146, 0.9267899001438834, 2.41522945769824, 0.0, 0.0, 0.0, 0.0, 0.0, 0.0, 0.0, 0.0, 0.0, 3.8729833462074175, 0.0)</td>\n",
              "    </tr>\n",
              "    <tr>\n",
              "      <th>2</th>\n",
              "      <td>3</td>\n",
              "      <td>Timur</td>\n",
              "      <td>30</td>\n",
              "      <td>Müzisyen</td>\n",
              "      <td>Istanbul</td>\n",
              "      <td>9000</td>\n",
              "      <td>iyi</td>\n",
              "      <td>1.0</td>\n",
              "      <td>1.0</td>\n",
              "      <td>(0.0, 1.0, 0.0, 0.0, 0.0, 0.0, 0.0)</td>\n",
              "      <td>(0.0, 1.0, 0.0, 0.0, 0.0)</td>\n",
              "      <td>(30.0, 9000.0, 0.0, 1.0, 0.0, 0.0, 0.0, 0.0, 0.0, 0.0, 1.0, 0.0, 0.0, 0.0)</td>\n",
              "      <td>1.0</td>\n",
              "      <td>(4.292812263480104, 1.9859783574511787, 0.0, 2.41522945769824, 0.0, 0.0, 0.0, 0.0, 0.0, 0.0, 2.1846572437632577, 0.0, 0.0, 0.0)</td>\n",
              "    </tr>\n",
              "  </tbody>\n",
              "</table>\n",
              "</div>"
            ],
            "text/plain": [
              "   sirano  ...                                                                                                                            features\n",
              "0  1       ...  (5.0082809740601215, 0.7723249167865694, 0.0, 0.0, 0.0, 0.0, 0.0, 3.8729833462074175, 0.0, 1.9364916731037087, 0.0, 0.0, 0.0, 0.0)\n",
              "1  2       ...  (6.009937168872146, 0.9267899001438834, 2.41522945769824, 0.0, 0.0, 0.0, 0.0, 0.0, 0.0, 0.0, 0.0, 0.0, 3.8729833462074175, 0.0)   \n",
              "2  3       ...  (4.292812263480104, 1.9859783574511787, 0.0, 2.41522945769824, 0.0, 0.0, 0.0, 0.0, 0.0, 0.0, 2.1846572437632577, 0.0, 0.0, 0.0)   \n",
              "\n",
              "[3 rows x 14 columns]"
            ]
          },
          "metadata": {},
          "execution_count": 43
        }
      ]
    },
    {
      "cell_type": "code",
      "source": [
        "print(train_df.count())\n",
        "print(test_df.count())"
      ],
      "metadata": {
        "colab": {
          "base_uri": "https://localhost:8080/"
        },
        "id": "YXLpDQIL9uhF",
        "outputId": "e1382a87-3346-4dac-e7b1-55e1450cb09b"
      },
      "execution_count": 42,
      "outputs": [
        {
          "output_type": "stream",
          "name": "stdout",
          "text": [
            "11\n",
            "4\n"
          ]
        }
      ]
    },
    {
      "cell_type": "markdown",
      "source": [
        "### 🔍Model"
      ],
      "metadata": {
        "id": "8JaA6iYw-PFD"
      }
    },
    {
      "cell_type": "code",
      "source": [
        "from pyspark.ml.classification import LogisticRegression"
      ],
      "metadata": {
        "id": "2GIP6pW9-N5B"
      },
      "execution_count": 44,
      "outputs": []
    },
    {
      "cell_type": "code",
      "source": [
        "lr_object = LogisticRegression() \\\n",
        ".setFeaturesCol(\"features\") \\\n",
        ".setLabelCol(\"label\") \\\n",
        ".setPredictionCol(\"prediction\")"
      ],
      "metadata": {
        "id": "uAw1Ssio-N0C"
      },
      "execution_count": 49,
      "outputs": []
    },
    {
      "cell_type": "code",
      "source": [
        "lr_model = lr_object.fit(train_df)"
      ],
      "metadata": {
        "id": "h0ELl1ZO-Nwb"
      },
      "execution_count": 50,
      "outputs": []
    },
    {
      "cell_type": "code",
      "source": [
        "result_df = lr_model.transform(test_df)"
      ],
      "metadata": {
        "id": "CFYJWAAY-NqD"
      },
      "execution_count": 51,
      "outputs": []
    },
    {
      "cell_type": "code",
      "source": [
        "result_df.select(\"label\",\"prediction\").toPandas().head()"
      ],
      "metadata": {
        "colab": {
          "base_uri": "https://localhost:8080/",
          "height": 170
        },
        "id": "JBcAdbex-Nis",
        "outputId": "f9c8c4c1-41fa-4389-80ea-9b8a00f089ea"
      },
      "execution_count": 52,
      "outputs": [
        {
          "output_type": "execute_result",
          "data": {
            "text/html": [
              "<div>\n",
              "<style scoped>\n",
              "    .dataframe tbody tr th:only-of-type {\n",
              "        vertical-align: middle;\n",
              "    }\n",
              "\n",
              "    .dataframe tbody tr th {\n",
              "        vertical-align: top;\n",
              "    }\n",
              "\n",
              "    .dataframe thead th {\n",
              "        text-align: right;\n",
              "    }\n",
              "</style>\n",
              "<table border=\"1\" class=\"dataframe\">\n",
              "  <thead>\n",
              "    <tr style=\"text-align: right;\">\n",
              "      <th></th>\n",
              "      <th>label</th>\n",
              "      <th>prediction</th>\n",
              "    </tr>\n",
              "  </thead>\n",
              "  <tbody>\n",
              "    <tr>\n",
              "      <th>0</th>\n",
              "      <td>0.0</td>\n",
              "      <td>0.0</td>\n",
              "    </tr>\n",
              "    <tr>\n",
              "      <th>1</th>\n",
              "      <td>1.0</td>\n",
              "      <td>1.0</td>\n",
              "    </tr>\n",
              "    <tr>\n",
              "      <th>2</th>\n",
              "      <td>0.0</td>\n",
              "      <td>0.0</td>\n",
              "    </tr>\n",
              "    <tr>\n",
              "      <th>3</th>\n",
              "      <td>1.0</td>\n",
              "      <td>0.0</td>\n",
              "    </tr>\n",
              "  </tbody>\n",
              "</table>\n",
              "</div>"
            ],
            "text/plain": [
              "   label  prediction\n",
              "0  0.0    0.0       \n",
              "1  1.0    1.0       \n",
              "2  0.0    0.0       \n",
              "3  1.0    0.0       "
            ]
          },
          "metadata": {},
          "execution_count": 52
        }
      ]
    }
  ]
}