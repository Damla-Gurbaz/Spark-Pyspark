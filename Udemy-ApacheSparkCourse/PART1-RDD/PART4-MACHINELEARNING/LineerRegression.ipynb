{
  "nbformat": 4,
  "nbformat_minor": 0,
  "metadata": {
    "colab": {
      "name": "LineerRegression.ipynb",
      "provenance": []
    },
    "kernelspec": {
      "name": "python3",
      "display_name": "Python 3"
    },
    "language_info": {
      "name": "python"
    }
  },
  "cells": [
    {
      "cell_type": "code",
      "source": [
        "!pip install pyspark"
      ],
      "metadata": {
        "colab": {
          "base_uri": "https://localhost:8080/"
        },
        "id": "Na0N4p7kA7ow",
        "outputId": "da03411c-f477-4afd-a7ac-4287fc208bdc"
      },
      "execution_count": 1,
      "outputs": [
        {
          "output_type": "stream",
          "name": "stdout",
          "text": [
            "Collecting pyspark\n",
            "  Downloading pyspark-3.2.0.tar.gz (281.3 MB)\n",
            "\u001b[K     |████████████████████████████████| 281.3 MB 40 kB/s \n",
            "\u001b[?25hCollecting py4j==0.10.9.2\n",
            "  Downloading py4j-0.10.9.2-py2.py3-none-any.whl (198 kB)\n",
            "\u001b[K     |████████████████████████████████| 198 kB 16.6 MB/s \n",
            "\u001b[?25hBuilding wheels for collected packages: pyspark\n",
            "  Building wheel for pyspark (setup.py) ... \u001b[?25l\u001b[?25hdone\n",
            "  Created wheel for pyspark: filename=pyspark-3.2.0-py2.py3-none-any.whl size=281805912 sha256=84753df53d04b0fc67717c4ac0315933131863d65c0d5667acaf4495c499c3f6\n",
            "  Stored in directory: /root/.cache/pip/wheels/0b/de/d2/9be5d59d7331c6c2a7c1b6d1a4f463ce107332b1ecd4e80718\n",
            "Successfully built pyspark\n",
            "Installing collected packages: py4j, pyspark\n",
            "Successfully installed py4j-0.10.9.2 pyspark-3.2.0\n"
          ]
        }
      ]
    },
    {
      "cell_type": "code",
      "execution_count": 2,
      "metadata": {
        "id": "VR6I8UqkA6Dw"
      },
      "outputs": [],
      "source": [
        "from pyspark.sql import SparkSession"
      ]
    },
    {
      "cell_type": "code",
      "source": [
        "spark = SparkSession.builder \\\n",
        ".appName(\"LinearRegression\") \\\n",
        ".master(\"local[4]\") \\\n",
        ".config(\"spark.driver.memory\",\"4g\") \\\n",
        ".config(\"spark.executor.memory\",\"4g\") \\\n",
        ".getOrCreate()"
      ],
      "metadata": {
        "id": "aDgkTPVfBAtP"
      },
      "execution_count": 3,
      "outputs": []
    },
    {
      "cell_type": "code",
      "source": [
        "df = spark.read.format(\"csv\") \\\n",
        ".option(\"header\",True) \\\n",
        ".option(\"sep\",\",\") \\\n",
        ".option(\"inferSchema\",True) \\\n",
        ".load(\"/content/Advertising.csv\")"
      ],
      "metadata": {
        "id": "u4nYli26BIuV"
      },
      "execution_count": 4,
      "outputs": []
    },
    {
      "cell_type": "code",
      "source": [
        "df.show()"
      ],
      "metadata": {
        "colab": {
          "base_uri": "https://localhost:8080/"
        },
        "id": "XjRFc76FBIp7",
        "outputId": "e4986300-8a5e-4360-d19f-562ce1d93da9"
      },
      "execution_count": 5,
      "outputs": [
        {
          "output_type": "stream",
          "name": "stdout",
          "text": [
            "+---+-----+-----+---------+-----+\n",
            "| ID|   TV|Radio|Newspaper|Sales|\n",
            "+---+-----+-----+---------+-----+\n",
            "|  1|230.1| 37.8|     69.2| 22.1|\n",
            "|  2| 44.5| 39.3|     45.1| 10.4|\n",
            "|  3| 17.2| 45.9|     69.3|  9.3|\n",
            "|  4|151.5| 41.3|     58.5| 18.5|\n",
            "|  5|180.8| 10.8|     58.4| 12.9|\n",
            "|  6|  8.7| 48.9|     75.0|  7.2|\n",
            "|  7| 57.5| 32.8|     23.5| 11.8|\n",
            "|  8|120.2| 19.6|     11.6| 13.2|\n",
            "|  9|  8.6|  2.1|      1.0|  4.8|\n",
            "| 10|199.8|  2.6|     21.2| 10.6|\n",
            "| 11| 66.1|  5.8|     24.2|  8.6|\n",
            "| 12|214.7| 24.0|      4.0| 17.4|\n",
            "| 13| 23.8| 35.1|     65.9|  9.2|\n",
            "| 14| 97.5|  7.6|      7.2|  9.7|\n",
            "| 15|204.1| 32.9|     46.0| 19.0|\n",
            "| 16|195.4| 47.7|     52.9| 22.4|\n",
            "| 17| 67.8| 36.6|    114.0| 12.5|\n",
            "| 18|281.4| 39.6|     55.8| 24.4|\n",
            "| 19| 69.2| 20.5|     18.3| 11.3|\n",
            "| 20|147.3| 23.9|     19.1| 14.6|\n",
            "+---+-----+-----+---------+-----+\n",
            "only showing top 20 rows\n",
            "\n"
          ]
        }
      ]
    },
    {
      "cell_type": "code",
      "source": [
        "df2 = df.withColumn(\"Advertisement\", (df.TV + df.Radio + df.Newspaper)) \\\n",
        ".withColumnRenamed(\"Sales\",\"label\") \\\n",
        ".drop(\"TV\",\"Radio\",\"Newspaper\")\n",
        "\n",
        "df2.toPandas().head()\n"
      ],
      "metadata": {
        "colab": {
          "base_uri": "https://localhost:8080/",
          "height": 201
        },
        "id": "nzMzHiBtBImP",
        "outputId": "645190e4-666e-4bf8-9256-cbbba36f263a"
      },
      "execution_count": 8,
      "outputs": [
        {
          "output_type": "execute_result",
          "data": {
            "text/html": [
              "<div>\n",
              "<style scoped>\n",
              "    .dataframe tbody tr th:only-of-type {\n",
              "        vertical-align: middle;\n",
              "    }\n",
              "\n",
              "    .dataframe tbody tr th {\n",
              "        vertical-align: top;\n",
              "    }\n",
              "\n",
              "    .dataframe thead th {\n",
              "        text-align: right;\n",
              "    }\n",
              "</style>\n",
              "<table border=\"1\" class=\"dataframe\">\n",
              "  <thead>\n",
              "    <tr style=\"text-align: right;\">\n",
              "      <th></th>\n",
              "      <th>ID</th>\n",
              "      <th>label</th>\n",
              "      <th>Advertisement</th>\n",
              "    </tr>\n",
              "  </thead>\n",
              "  <tbody>\n",
              "    <tr>\n",
              "      <th>0</th>\n",
              "      <td>1</td>\n",
              "      <td>22.1</td>\n",
              "      <td>337.1</td>\n",
              "    </tr>\n",
              "    <tr>\n",
              "      <th>1</th>\n",
              "      <td>2</td>\n",
              "      <td>10.4</td>\n",
              "      <td>128.9</td>\n",
              "    </tr>\n",
              "    <tr>\n",
              "      <th>2</th>\n",
              "      <td>3</td>\n",
              "      <td>9.3</td>\n",
              "      <td>132.4</td>\n",
              "    </tr>\n",
              "    <tr>\n",
              "      <th>3</th>\n",
              "      <td>4</td>\n",
              "      <td>18.5</td>\n",
              "      <td>251.3</td>\n",
              "    </tr>\n",
              "    <tr>\n",
              "      <th>4</th>\n",
              "      <td>5</td>\n",
              "      <td>12.9</td>\n",
              "      <td>250.0</td>\n",
              "    </tr>\n",
              "  </tbody>\n",
              "</table>\n",
              "</div>"
            ],
            "text/plain": [
              "   ID  label  Advertisement\n",
              "0   1   22.1          337.1\n",
              "1   2   10.4          128.9\n",
              "2   3    9.3          132.4\n",
              "3   4   18.5          251.3\n",
              "4   5   12.9          250.0"
            ]
          },
          "metadata": {},
          "execution_count": 8
        }
      ]
    },
    {
      "cell_type": "code",
      "source": [
        "df2.describe(\"label\",\"Advertisement\").toPandas().head()"
      ],
      "metadata": {
        "colab": {
          "base_uri": "https://localhost:8080/",
          "height": 201
        },
        "id": "1YC6L9Y-BIgy",
        "outputId": "2966d94e-ad8f-4253-e66b-686a496480fc"
      },
      "execution_count": 9,
      "outputs": [
        {
          "output_type": "execute_result",
          "data": {
            "text/html": [
              "<div>\n",
              "<style scoped>\n",
              "    .dataframe tbody tr th:only-of-type {\n",
              "        vertical-align: middle;\n",
              "    }\n",
              "\n",
              "    .dataframe tbody tr th {\n",
              "        vertical-align: top;\n",
              "    }\n",
              "\n",
              "    .dataframe thead th {\n",
              "        text-align: right;\n",
              "    }\n",
              "</style>\n",
              "<table border=\"1\" class=\"dataframe\">\n",
              "  <thead>\n",
              "    <tr style=\"text-align: right;\">\n",
              "      <th></th>\n",
              "      <th>summary</th>\n",
              "      <th>label</th>\n",
              "      <th>Advertisement</th>\n",
              "    </tr>\n",
              "  </thead>\n",
              "  <tbody>\n",
              "    <tr>\n",
              "      <th>0</th>\n",
              "      <td>count</td>\n",
              "      <td>200</td>\n",
              "      <td>200</td>\n",
              "    </tr>\n",
              "    <tr>\n",
              "      <th>1</th>\n",
              "      <td>mean</td>\n",
              "      <td>14.022500000000003</td>\n",
              "      <td>200.86049999999992</td>\n",
              "    </tr>\n",
              "    <tr>\n",
              "      <th>2</th>\n",
              "      <td>stddev</td>\n",
              "      <td>5.217456565710477</td>\n",
              "      <td>92.9851805869837</td>\n",
              "    </tr>\n",
              "    <tr>\n",
              "      <th>3</th>\n",
              "      <td>min</td>\n",
              "      <td>1.6</td>\n",
              "      <td>11.7</td>\n",
              "    </tr>\n",
              "    <tr>\n",
              "      <th>4</th>\n",
              "      <td>max</td>\n",
              "      <td>27.0</td>\n",
              "      <td>433.6</td>\n",
              "    </tr>\n",
              "  </tbody>\n",
              "</table>\n",
              "</div>"
            ],
            "text/plain": [
              "  summary               label       Advertisement\n",
              "0   count                 200                 200\n",
              "1    mean  14.022500000000003  200.86049999999992\n",
              "2  stddev   5.217456565710477    92.9851805869837\n",
              "3     min                 1.6                11.7\n",
              "4     max                27.0               433.6"
            ]
          },
          "metadata": {},
          "execution_count": 9
        }
      ]
    },
    {
      "cell_type": "code",
      "source": [
        "from pyspark.ml.feature import VectorAssembler\n",
        "vector_assembler = VectorAssembler() \\\n",
        ".setInputCols([\"Advertisement\"]) \\\n",
        ".setOutputCol(\"features\")"
      ],
      "metadata": {
        "id": "5UMZzmg2BIdu"
      },
      "execution_count": 10,
      "outputs": []
    },
    {
      "cell_type": "code",
      "source": [
        "train_df, test_df = df2.randomSplit([0.8, 0.2], seed=142)"
      ],
      "metadata": {
        "id": "lEIyfRFOChSo"
      },
      "execution_count": 13,
      "outputs": []
    },
    {
      "cell_type": "code",
      "source": [
        "from pyspark.ml.regression import LinearRegression\n",
        "linear_reg_obj = LinearRegression() \\\n",
        ".setLabelCol(\"label\")\\\n",
        ".setFeaturesCol(\"features\")"
      ],
      "metadata": {
        "id": "cRCZIcavCSyz"
      },
      "execution_count": 11,
      "outputs": []
    },
    {
      "cell_type": "code",
      "source": [
        "from pyspark.ml import Pipeline\n",
        "pipeline_obj = Pipeline() \\\n",
        ".setStages([vector_assembler, linear_reg_obj])"
      ],
      "metadata": {
        "id": "pwyAMmvLCc_0"
      },
      "execution_count": 12,
      "outputs": []
    },
    {
      "cell_type": "code",
      "source": [
        "pipeline_model = pipeline_obj.fit(train_df)"
      ],
      "metadata": {
        "id": "h7UzGjoUCr8K"
      },
      "execution_count": 14,
      "outputs": []
    },
    {
      "cell_type": "code",
      "source": [
        "result_df = pipeline_model.transform(test_df)"
      ],
      "metadata": {
        "id": "PpVi_S6uCxiy"
      },
      "execution_count": 15,
      "outputs": []
    },
    {
      "cell_type": "code",
      "source": [
        "result_df.toPandas().head()"
      ],
      "metadata": {
        "colab": {
          "base_uri": "https://localhost:8080/",
          "height": 201
        },
        "id": "YU_94-7gCxgP",
        "outputId": "55125608-8800-4efc-ef70-f5c17c10a50b"
      },
      "execution_count": 16,
      "outputs": [
        {
          "output_type": "execute_result",
          "data": {
            "text/html": [
              "<div>\n",
              "<style scoped>\n",
              "    .dataframe tbody tr th:only-of-type {\n",
              "        vertical-align: middle;\n",
              "    }\n",
              "\n",
              "    .dataframe tbody tr th {\n",
              "        vertical-align: top;\n",
              "    }\n",
              "\n",
              "    .dataframe thead th {\n",
              "        text-align: right;\n",
              "    }\n",
              "</style>\n",
              "<table border=\"1\" class=\"dataframe\">\n",
              "  <thead>\n",
              "    <tr style=\"text-align: right;\">\n",
              "      <th></th>\n",
              "      <th>ID</th>\n",
              "      <th>label</th>\n",
              "      <th>Advertisement</th>\n",
              "      <th>features</th>\n",
              "      <th>prediction</th>\n",
              "    </tr>\n",
              "  </thead>\n",
              "  <tbody>\n",
              "    <tr>\n",
              "      <th>0</th>\n",
              "      <td>4</td>\n",
              "      <td>18.5</td>\n",
              "      <td>251.3</td>\n",
              "      <td>[251.3]</td>\n",
              "      <td>16.553870</td>\n",
              "    </tr>\n",
              "    <tr>\n",
              "      <th>1</th>\n",
              "      <td>9</td>\n",
              "      <td>4.8</td>\n",
              "      <td>11.7</td>\n",
              "      <td>[11.7]</td>\n",
              "      <td>4.929785</td>\n",
              "    </tr>\n",
              "    <tr>\n",
              "      <th>2</th>\n",
              "      <td>11</td>\n",
              "      <td>8.6</td>\n",
              "      <td>96.1</td>\n",
              "      <td>[96.1]</td>\n",
              "      <td>9.024412</td>\n",
              "    </tr>\n",
              "    <tr>\n",
              "      <th>3</th>\n",
              "      <td>15</td>\n",
              "      <td>19.0</td>\n",
              "      <td>283.0</td>\n",
              "      <td>[283.0]</td>\n",
              "      <td>18.091781</td>\n",
              "    </tr>\n",
              "    <tr>\n",
              "      <th>4</th>\n",
              "      <td>25</td>\n",
              "      <td>9.7</td>\n",
              "      <td>93.2</td>\n",
              "      <td>[93.19999999999999]</td>\n",
              "      <td>8.883720</td>\n",
              "    </tr>\n",
              "  </tbody>\n",
              "</table>\n",
              "</div>"
            ],
            "text/plain": [
              "   ID  label  Advertisement             features  prediction\n",
              "0   4   18.5          251.3              [251.3]   16.553870\n",
              "1   9    4.8           11.7               [11.7]    4.929785\n",
              "2  11    8.6           96.1               [96.1]    9.024412\n",
              "3  15   19.0          283.0              [283.0]   18.091781\n",
              "4  25    9.7           93.2  [93.19999999999999]    8.883720"
            ]
          },
          "metadata": {},
          "execution_count": 16
        }
      ]
    },
    {
      "cell_type": "code",
      "source": [
        "pipeline_model.stages"
      ],
      "metadata": {
        "colab": {
          "base_uri": "https://localhost:8080/"
        },
        "id": "C1rVabgPCxdj",
        "outputId": "d52b04ac-011b-4258-debd-bdf7b8b3c6d2"
      },
      "execution_count": 17,
      "outputs": [
        {
          "output_type": "execute_result",
          "data": {
            "text/plain": [
              "[VectorAssembler_bb154e683ed1,\n",
              " LinearRegressionModel: uid=LinearRegression_6683b9895d57, numFeatures=1]"
            ]
          },
          "metadata": {},
          "execution_count": 17
        }
      ]
    },
    {
      "cell_type": "code",
      "source": [
        "lr_model = pipeline_model.stages[1]"
      ],
      "metadata": {
        "id": "IeVpyoEiDJBA"
      },
      "execution_count": 19,
      "outputs": []
    },
    {
      "cell_type": "code",
      "source": [
        "lr_model.coefficients"
      ],
      "metadata": {
        "colab": {
          "base_uri": "https://localhost:8080/"
        },
        "id": "OhMsSrbuDAf3",
        "outputId": "be25a1c8-ee4a-4cb6-a2dd-0a91876cec9e"
      },
      "execution_count": 20,
      "outputs": [
        {
          "output_type": "execute_result",
          "data": {
            "text/plain": [
              "DenseVector([0.0485])"
            ]
          },
          "metadata": {},
          "execution_count": 20
        }
      ]
    },
    {
      "cell_type": "code",
      "source": [
        "lr_model.intercept"
      ],
      "metadata": {
        "colab": {
          "base_uri": "https://localhost:8080/"
        },
        "id": "0xrgRht_DNIK",
        "outputId": "20c7cf52-829d-447e-a74f-8f4b42ca23cf"
      },
      "execution_count": 21,
      "outputs": [
        {
          "output_type": "execute_result",
          "data": {
            "text/plain": [
              "4.362164413237513"
            ]
          },
          "metadata": {},
          "execution_count": 21
        }
      ]
    },
    {
      "cell_type": "code",
      "source": [
        "lr_model.summary.r2"
      ],
      "metadata": {
        "colab": {
          "base_uri": "https://localhost:8080/"
        },
        "id": "-nG9jj7gDQdi",
        "outputId": "ab3e24c6-f40b-442e-b2be-ba2bd9e49b60"
      },
      "execution_count": 22,
      "outputs": [
        {
          "output_type": "execute_result",
          "data": {
            "text/plain": [
              "0.754183281633372"
            ]
          },
          "metadata": {},
          "execution_count": 22
        }
      ]
    },
    {
      "cell_type": "code",
      "source": [
        "lr_model.summary.pValues"
      ],
      "metadata": {
        "colab": {
          "base_uri": "https://localhost:8080/"
        },
        "id": "6Z9P54uEDUHA",
        "outputId": "1262ae64-e7a7-4d2a-b282-ef0e6edc85bf"
      },
      "execution_count": 23,
      "outputs": [
        {
          "output_type": "execute_result",
          "data": {
            "text/plain": [
              "[0.0, 6.661338147750939e-16]"
            ]
          },
          "metadata": {},
          "execution_count": 23
        }
      ]
    },
    {
      "cell_type": "code",
      "source": [
        "lr_model.summary.rootMeanSquaredError"
      ],
      "metadata": {
        "colab": {
          "base_uri": "https://localhost:8080/"
        },
        "id": "tN-IK3caDYJo",
        "outputId": "2a8ae218-1273-45df-e886-83628a1cbcc3"
      },
      "execution_count": 24,
      "outputs": [
        {
          "output_type": "execute_result",
          "data": {
            "text/plain": [
              "2.5407401281208677"
            ]
          },
          "metadata": {},
          "execution_count": 24
        }
      ]
    },
    {
      "cell_type": "code",
      "source": [
        "# y = 4.537119328969264 + 0.0472 * Advertisement"
      ],
      "metadata": {
        "id": "E7GzO1LGDZhE"
      },
      "execution_count": 25,
      "outputs": []
    },
    {
      "cell_type": "code",
      "source": [
        "# 100 bin liralık bir reklam bütçesi ile ne kadar satış gerçekleşeceğini tahmin edelim.\n",
        "df_predict_rdd = spark.sparkContext.parallelize([100.0])\n",
        "df_predict = df_predict_rdd.map(lambda x: (x,)).toDF([\"Advertisement\"])"
      ],
      "metadata": {
        "id": "c3lVSe6iDZd7"
      },
      "execution_count": 27,
      "outputs": []
    },
    {
      "cell_type": "code",
      "source": [
        "df_predict.show()"
      ],
      "metadata": {
        "colab": {
          "base_uri": "https://localhost:8080/"
        },
        "id": "5KBm3WLHDZbK",
        "outputId": "3b6fb0db-b3eb-464d-9c32-0a3979a7386e"
      },
      "execution_count": 28,
      "outputs": [
        {
          "output_type": "stream",
          "name": "stdout",
          "text": [
            "+-------------+\n",
            "|Advertisement|\n",
            "+-------------+\n",
            "|        100.0|\n",
            "+-------------+\n",
            "\n"
          ]
        }
      ]
    },
    {
      "cell_type": "code",
      "source": [
        "df_pred_vec = vector_assembler.transform(df_predict)"
      ],
      "metadata": {
        "id": "cG3fNZPhDZYb"
      },
      "execution_count": 29,
      "outputs": []
    },
    {
      "cell_type": "code",
      "source": [
        "lr_model.transform(df_pred_vec).toPandas().head()"
      ],
      "metadata": {
        "colab": {
          "base_uri": "https://localhost:8080/",
          "height": 78
        },
        "id": "G6b43n9HDZVb",
        "outputId": "bfd6ff4e-17ef-474c-b586-383d56a83730"
      },
      "execution_count": 30,
      "outputs": [
        {
          "output_type": "execute_result",
          "data": {
            "text/html": [
              "<div>\n",
              "<style scoped>\n",
              "    .dataframe tbody tr th:only-of-type {\n",
              "        vertical-align: middle;\n",
              "    }\n",
              "\n",
              "    .dataframe tbody tr th {\n",
              "        vertical-align: top;\n",
              "    }\n",
              "\n",
              "    .dataframe thead th {\n",
              "        text-align: right;\n",
              "    }\n",
              "</style>\n",
              "<table border=\"1\" class=\"dataframe\">\n",
              "  <thead>\n",
              "    <tr style=\"text-align: right;\">\n",
              "      <th></th>\n",
              "      <th>Advertisement</th>\n",
              "      <th>features</th>\n",
              "      <th>prediction</th>\n",
              "    </tr>\n",
              "  </thead>\n",
              "  <tbody>\n",
              "    <tr>\n",
              "      <th>0</th>\n",
              "      <td>100.0</td>\n",
              "      <td>[100.0]</td>\n",
              "      <td>9.213619</td>\n",
              "    </tr>\n",
              "  </tbody>\n",
              "</table>\n",
              "</div>"
            ],
            "text/plain": [
              "   Advertisement features  prediction\n",
              "0          100.0  [100.0]    9.213619"
            ]
          },
          "metadata": {},
          "execution_count": 30
        }
      ]
    }
  ]
}