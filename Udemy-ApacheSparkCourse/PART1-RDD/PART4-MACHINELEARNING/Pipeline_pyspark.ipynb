{
  "nbformat": 4,
  "nbformat_minor": 0,
  "metadata": {
    "colab": {
      "name": "Pipeline-pyspark.ipynb",
      "provenance": []
    },
    "kernelspec": {
      "name": "python3",
      "display_name": "Python 3"
    },
    "language_info": {
      "name": "python"
    }
  },
  "cells": [
    {
      "cell_type": "code",
      "execution_count": 13,
      "metadata": {
        "id": "iRNzSogo_bgT"
      },
      "outputs": [],
      "source": [
        "#!pip install pyspark\n"
      ]
    },
    {
      "cell_type": "code",
      "source": [
        "from pyspark.sql import SparkSession\n",
        "from pyspark.sql import functions as F\n",
        "from pyspark.ml.feature import StringIndexer, OneHotEncoder, VectorAssembler, StandardScaler\n",
        "from pyspark.ml.classification import LogisticRegression\n",
        "from pyspark.ml import Pipeline, PipelineModel"
      ],
      "metadata": {
        "id": "HTuCsvZi_kwP"
      },
      "execution_count": 2,
      "outputs": []
    },
    {
      "cell_type": "code",
      "source": [
        "spark = SparkSession.builder \\\n",
        ".appName(\"PipelineOps\") \\\n",
        ".master(\"local[2]\") \\\n",
        ".config(\"spark.executor.memory\",\"4g\") \\\n",
        ".config(\"spark.driver.memory\",\"4g\") \\\n",
        ".getOrCreate()"
      ],
      "metadata": {
        "id": "y3H8E2vV_r0e"
      },
      "execution_count": 3,
      "outputs": []
    },
    {
      "cell_type": "code",
      "source": [
        "df = spark.read \\\n",
        ".option(\"header\",\"True\") \\\n",
        ".option(\"sep\",\",\") \\\n",
        ".option(\"inferSchema\",\"True\") \\\n",
        ".format(\"csv\") \\\n",
        ".load(\"/content/simple_data.csv\")"
      ],
      "metadata": {
        "id": "wmlZ6f2I_wRd"
      },
      "execution_count": 4,
      "outputs": []
    },
    {
      "cell_type": "code",
      "source": [
        "df.show()"
      ],
      "metadata": {
        "colab": {
          "base_uri": "https://localhost:8080/"
        },
        "id": "2zdfzEi7ABn2",
        "outputId": "989fd8ed-850f-4b15-8d72-21eae49ba14f"
      },
      "execution_count": 5,
      "outputs": [
        {
          "output_type": "stream",
          "name": "stdout",
          "text": [
            "+------+--------+---+-----------+--------+-----------+\n",
            "|sirano|    isim|yas|     meslek|   sehir|aylik_gelir|\n",
            "+------+--------+---+-----------+--------+-----------+\n",
            "|     1|   Cemal| 35|       Isci|  Ankara|       3500|\n",
            "|     2|   Ceyda| 42|      Memur| Kayseri|       4200|\n",
            "|     3|   Timur| 30|   Müzisyen|Istanbul|       9000|\n",
            "|     4|   Burcu| 29|Pazarlamaci|  Ankara|       4200|\n",
            "|     5| Yasemin| 23|Pazarlamaci|   Bursa|       4800|\n",
            "|     6|     Ali| 33|      Memur|  Ankara|       4250|\n",
            "|     7|   Dilek| 29|Pazarlamaci|Istanbul|       7300|\n",
            "|     8|   Murat| 31|   Müzisyen|Istanbul|      12000|\n",
            "|     9|   Ahmet| 33|     Doktor|  Ankara|      18000|\n",
            "|    10|Muhittin| 46|     Berber|Istanbul|      12000|\n",
            "|    11|Hicaziye| 47| Tuhafiyeci|  Ankara|       4800|\n",
            "|    12|   Harun| 43|    Tornacı|  Ankara|       4200|\n",
            "|    13|   Hakkı| 33|      Memur|   Çorum|       3750|\n",
            "|    14| Gülizar| 37|     Doktor|   İzmir|      14250|\n",
            "|    15|  Şehmuz| 41|   Müzisyen|  Ankara|       8700|\n",
            "+------+--------+---+-----------+--------+-----------+\n",
            "\n"
          ]
        }
      ]
    },
    {
      "cell_type": "code",
      "source": [
        "df1 = df.withColumn(\"ekonomik_durum\",\n",
        "    F.when(F.col(\"aylik_gelir\") > 7000, \"iyi\").otherwise(\"kötü\")\n",
        ")"
      ],
      "metadata": {
        "id": "3LMCenOzADnn"
      },
      "execution_count": 6,
      "outputs": []
    },
    {
      "cell_type": "code",
      "source": [
        "train_df, test_df = df1.randomSplit([0.8, 0.2], seed=142)"
      ],
      "metadata": {
        "id": "7u7xrXlIA71a"
      },
      "execution_count": 10,
      "outputs": []
    },
    {
      "cell_type": "markdown",
      "source": [
        "## 🔍Pipeline"
      ],
      "metadata": {
        "id": "kwMaEJU5AJVk"
      }
    },
    {
      "cell_type": "code",
      "source": [
        "meslek_indexer = StringIndexer() \\\n",
        ".setInputCol(\"meslek\") \\\n",
        ".setOutputCol(\"meslek_index\") \\\n",
        ".setHandleInvalid(\"skip\")\n",
        "\n",
        "\n",
        "sehir_indexer = StringIndexer() \\\n",
        ".setInputCol(\"sehir\") \\\n",
        ".setOutputCol(\"sehir_index\") \\\n",
        ".setHandleInvalid(\"skip\")\n",
        "\n",
        "\n",
        "encoder = OneHotEncoder() \\\n",
        ".setInputCols([\"meslek_index\",\"sehir_index\"]) \\\n",
        ".setOutputCols([\"meslek_encoded\",\"sehir_encoded\"])\n",
        "\n",
        "\n",
        "assembler = VectorAssembler() \\\n",
        ".setInputCols([\"yas\",\"aylik_gelir\",\"meslek_encoded\",\"sehir_encoded\"]) \\\n",
        ".setOutputCol(\"vectorized_features\")\n",
        "\n",
        "label_indexer = StringIndexer() \\\n",
        ".setInputCol(\"ekonomik_durum\") \\\n",
        ".setOutputCol(\"label\")\n",
        "\n",
        "\n",
        "scaler = StandardScaler() \\\n",
        ".setInputCol(\"vectorized_features\") \\\n",
        ".setOutputCol(\"features\")\n",
        "\n",
        "\n",
        "lr_object = LogisticRegression() \\\n",
        ".setFeaturesCol(\"features\") \\\n",
        ".setLabelCol(\"label\") \\\n",
        ".setPredictionCol(\"prediction\")\n",
        "\n",
        "\n",
        "pipeline_nesnesi = Pipeline() \\\n",
        ".setStages([\n",
        "            meslek_indexer,\\\n",
        "            sehir_indexer,\\\n",
        "            encoder,\\\n",
        "            assembler,\\\n",
        "            label_indexer,\\\n",
        "            scaler,\\\n",
        "            lr_object])"
      ],
      "metadata": {
        "id": "Be_v6iRmAI_q"
      },
      "execution_count": 8,
      "outputs": []
    },
    {
      "cell_type": "code",
      "source": [
        "pipeline_modeli = pipeline_nesnesi.fit(train_df)"
      ],
      "metadata": {
        "id": "EXRnXXfcAs2I"
      },
      "execution_count": 11,
      "outputs": []
    },
    {
      "cell_type": "code",
      "source": [
        "pipeline_modeli.transform(test_df).select(\"label\",\"prediction\").toPandas().head()"
      ],
      "metadata": {
        "colab": {
          "base_uri": "https://localhost:8080/",
          "height": 140
        },
        "id": "lo3-bfsMBA3s",
        "outputId": "466eec9d-9b1c-45e6-dad0-c395944792f0"
      },
      "execution_count": 12,
      "outputs": [
        {
          "output_type": "execute_result",
          "data": {
            "text/html": [
              "<div>\n",
              "<style scoped>\n",
              "    .dataframe tbody tr th:only-of-type {\n",
              "        vertical-align: middle;\n",
              "    }\n",
              "\n",
              "    .dataframe tbody tr th {\n",
              "        vertical-align: top;\n",
              "    }\n",
              "\n",
              "    .dataframe thead th {\n",
              "        text-align: right;\n",
              "    }\n",
              "</style>\n",
              "<table border=\"1\" class=\"dataframe\">\n",
              "  <thead>\n",
              "    <tr style=\"text-align: right;\">\n",
              "      <th></th>\n",
              "      <th>label</th>\n",
              "      <th>prediction</th>\n",
              "    </tr>\n",
              "  </thead>\n",
              "  <tbody>\n",
              "    <tr>\n",
              "      <th>0</th>\n",
              "      <td>0.0</td>\n",
              "      <td>0.0</td>\n",
              "    </tr>\n",
              "    <tr>\n",
              "      <th>1</th>\n",
              "      <td>1.0</td>\n",
              "      <td>1.0</td>\n",
              "    </tr>\n",
              "    <tr>\n",
              "      <th>2</th>\n",
              "      <td>1.0</td>\n",
              "      <td>0.0</td>\n",
              "    </tr>\n",
              "  </tbody>\n",
              "</table>\n",
              "</div>"
            ],
            "text/plain": [
              "   label  prediction\n",
              "0    0.0         0.0\n",
              "1    1.0         1.0\n",
              "2    1.0         0.0"
            ]
          },
          "metadata": {},
          "execution_count": 12
        }
      ]
    }
  ]
}