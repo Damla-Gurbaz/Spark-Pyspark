{
  "nbformat": 4,
  "nbformat_minor": 0,
  "metadata": {
    "colab": {
      "name": "MultiLinearRegression.ipynb",
      "provenance": []
    },
    "kernelspec": {
      "name": "python3",
      "display_name": "Python 3"
    },
    "language_info": {
      "name": "python"
    }
  },
  "cells": [
    {
      "cell_type": "code",
      "execution_count": null,
      "metadata": {
        "id": "K_JdKiJ0HmqN"
      },
      "outputs": [],
      "source": [
        "!pip install pyspark"
      ]
    },
    {
      "cell_type": "code",
      "source": [
        "from pyspark.sql import SparkSession\n",
        "spark = SparkSession.builder \\\n",
        ".appName(\"MultiLinearRegression\") \\\n",
        ".master(\"local[4]\") \\\n",
        ".config(\"spark.driver.memory\",\"4g\") \\\n",
        ".config(\"spark.executor.memory\",\"4g\") \\\n",
        ".getOrCreate()"
      ],
      "metadata": {
        "id": "PNlrzLu8Hq6O"
      },
      "execution_count": 2,
      "outputs": []
    },
    {
      "cell_type": "code",
      "source": [
        "# Kaynak: https://www.kaggle.com/kumarajarshi/life-expectancy-who"
      ],
      "metadata": {
        "id": "x-ycmXvtIBws"
      },
      "execution_count": 3,
      "outputs": []
    },
    {
      "cell_type": "code",
      "source": [
        "df = spark.read.format(\"csv\") \\\n",
        ".option(\"header\", True) \\\n",
        ".option(\"inferSchema\", True) \\\n",
        ".option(\"sep\",\",\") \\\n",
        ".load(\"/content/Life Expectancy Data.csv\")"
      ],
      "metadata": {
        "id": "8KWc51oKHq84"
      },
      "execution_count": 4,
      "outputs": []
    },
    {
      "cell_type": "code",
      "source": [
        "df.toPandas().head()"
      ],
      "metadata": {
        "colab": {
          "base_uri": "https://localhost:8080/",
          "height": 270
        },
        "id": "Kl8rt7Y3Hq_s",
        "outputId": "27e75dd4-1148-4513-b601-c4f44779ea6d"
      },
      "execution_count": 5,
      "outputs": [
        {
          "output_type": "execute_result",
          "data": {
            "text/html": [
              "<div>\n",
              "<style scoped>\n",
              "    .dataframe tbody tr th:only-of-type {\n",
              "        vertical-align: middle;\n",
              "    }\n",
              "\n",
              "    .dataframe tbody tr th {\n",
              "        vertical-align: top;\n",
              "    }\n",
              "\n",
              "    .dataframe thead th {\n",
              "        text-align: right;\n",
              "    }\n",
              "</style>\n",
              "<table border=\"1\" class=\"dataframe\">\n",
              "  <thead>\n",
              "    <tr style=\"text-align: right;\">\n",
              "      <th></th>\n",
              "      <th>Country</th>\n",
              "      <th>Year</th>\n",
              "      <th>Status</th>\n",
              "      <th>Life expectancy</th>\n",
              "      <th>Adult Mortality</th>\n",
              "      <th>infant deaths</th>\n",
              "      <th>Alcohol</th>\n",
              "      <th>percentage expenditure</th>\n",
              "      <th>Hepatitis B</th>\n",
              "      <th>Measles</th>\n",
              "      <th>BMI</th>\n",
              "      <th>under-five deaths</th>\n",
              "      <th>Polio</th>\n",
              "      <th>Total expenditure</th>\n",
              "      <th>Diphtheria</th>\n",
              "      <th>HIV/AIDS</th>\n",
              "      <th>GDP</th>\n",
              "      <th>Population</th>\n",
              "      <th>thinness  1-19 years</th>\n",
              "      <th>thinness 5-9 years</th>\n",
              "      <th>Income composition of resources</th>\n",
              "      <th>Schooling</th>\n",
              "    </tr>\n",
              "  </thead>\n",
              "  <tbody>\n",
              "    <tr>\n",
              "      <th>0</th>\n",
              "      <td>Afghanistan</td>\n",
              "      <td>2015</td>\n",
              "      <td>Developing</td>\n",
              "      <td>65.0</td>\n",
              "      <td>263.0</td>\n",
              "      <td>62</td>\n",
              "      <td>0.01</td>\n",
              "      <td>71.279624</td>\n",
              "      <td>65.0</td>\n",
              "      <td>1154</td>\n",
              "      <td>19.1</td>\n",
              "      <td>83</td>\n",
              "      <td>6.0</td>\n",
              "      <td>8.16</td>\n",
              "      <td>65.0</td>\n",
              "      <td>0.1</td>\n",
              "      <td>584.259210</td>\n",
              "      <td>33736494.0</td>\n",
              "      <td>17.2</td>\n",
              "      <td>17.3</td>\n",
              "      <td>0.479</td>\n",
              "      <td>10.1</td>\n",
              "    </tr>\n",
              "    <tr>\n",
              "      <th>1</th>\n",
              "      <td>Afghanistan</td>\n",
              "      <td>2014</td>\n",
              "      <td>Developing</td>\n",
              "      <td>59.9</td>\n",
              "      <td>271.0</td>\n",
              "      <td>64</td>\n",
              "      <td>0.01</td>\n",
              "      <td>73.523582</td>\n",
              "      <td>62.0</td>\n",
              "      <td>492</td>\n",
              "      <td>18.6</td>\n",
              "      <td>86</td>\n",
              "      <td>58.0</td>\n",
              "      <td>8.18</td>\n",
              "      <td>62.0</td>\n",
              "      <td>0.1</td>\n",
              "      <td>612.696514</td>\n",
              "      <td>327582.0</td>\n",
              "      <td>17.5</td>\n",
              "      <td>17.5</td>\n",
              "      <td>0.476</td>\n",
              "      <td>10.0</td>\n",
              "    </tr>\n",
              "    <tr>\n",
              "      <th>2</th>\n",
              "      <td>Afghanistan</td>\n",
              "      <td>2013</td>\n",
              "      <td>Developing</td>\n",
              "      <td>59.9</td>\n",
              "      <td>268.0</td>\n",
              "      <td>66</td>\n",
              "      <td>0.01</td>\n",
              "      <td>73.219243</td>\n",
              "      <td>64.0</td>\n",
              "      <td>430</td>\n",
              "      <td>18.1</td>\n",
              "      <td>89</td>\n",
              "      <td>62.0</td>\n",
              "      <td>8.13</td>\n",
              "      <td>64.0</td>\n",
              "      <td>0.1</td>\n",
              "      <td>631.744976</td>\n",
              "      <td>31731688.0</td>\n",
              "      <td>17.7</td>\n",
              "      <td>17.7</td>\n",
              "      <td>0.470</td>\n",
              "      <td>9.9</td>\n",
              "    </tr>\n",
              "    <tr>\n",
              "      <th>3</th>\n",
              "      <td>Afghanistan</td>\n",
              "      <td>2012</td>\n",
              "      <td>Developing</td>\n",
              "      <td>59.5</td>\n",
              "      <td>272.0</td>\n",
              "      <td>69</td>\n",
              "      <td>0.01</td>\n",
              "      <td>78.184215</td>\n",
              "      <td>67.0</td>\n",
              "      <td>2787</td>\n",
              "      <td>17.6</td>\n",
              "      <td>93</td>\n",
              "      <td>67.0</td>\n",
              "      <td>8.52</td>\n",
              "      <td>67.0</td>\n",
              "      <td>0.1</td>\n",
              "      <td>669.959000</td>\n",
              "      <td>3696958.0</td>\n",
              "      <td>17.9</td>\n",
              "      <td>18.0</td>\n",
              "      <td>0.463</td>\n",
              "      <td>9.8</td>\n",
              "    </tr>\n",
              "    <tr>\n",
              "      <th>4</th>\n",
              "      <td>Afghanistan</td>\n",
              "      <td>2011</td>\n",
              "      <td>Developing</td>\n",
              "      <td>59.2</td>\n",
              "      <td>275.0</td>\n",
              "      <td>71</td>\n",
              "      <td>0.01</td>\n",
              "      <td>7.097109</td>\n",
              "      <td>68.0</td>\n",
              "      <td>3013</td>\n",
              "      <td>17.2</td>\n",
              "      <td>97</td>\n",
              "      <td>68.0</td>\n",
              "      <td>7.87</td>\n",
              "      <td>68.0</td>\n",
              "      <td>0.1</td>\n",
              "      <td>63.537231</td>\n",
              "      <td>2978599.0</td>\n",
              "      <td>18.2</td>\n",
              "      <td>18.2</td>\n",
              "      <td>0.454</td>\n",
              "      <td>9.5</td>\n",
              "    </tr>\n",
              "  </tbody>\n",
              "</table>\n",
              "</div>"
            ],
            "text/plain": [
              "       Country  Year  ... Income composition of resources  Schooling\n",
              "0  Afghanistan  2015  ...                           0.479       10.1\n",
              "1  Afghanistan  2014  ...                           0.476       10.0\n",
              "2  Afghanistan  2013  ...                           0.470        9.9\n",
              "3  Afghanistan  2012  ...                           0.463        9.8\n",
              "4  Afghanistan  2011  ...                           0.454        9.5\n",
              "\n",
              "[5 rows x 22 columns]"
            ]
          },
          "metadata": {},
          "execution_count": 5
        }
      ]
    },
    {
      "cell_type": "code",
      "source": [
        "df.printSchema()"
      ],
      "metadata": {
        "colab": {
          "base_uri": "https://localhost:8080/"
        },
        "id": "isKavs34HrCS",
        "outputId": "9d05b290-ffa7-431b-97f3-77ee5623b905"
      },
      "execution_count": 6,
      "outputs": [
        {
          "output_type": "stream",
          "name": "stdout",
          "text": [
            "root\n",
            " |-- Country: string (nullable = true)\n",
            " |-- Year: integer (nullable = true)\n",
            " |-- Status: string (nullable = true)\n",
            " |-- Life expectancy : double (nullable = true)\n",
            " |-- Adult Mortality: integer (nullable = true)\n",
            " |-- infant deaths: integer (nullable = true)\n",
            " |-- Alcohol: double (nullable = true)\n",
            " |-- percentage expenditure: double (nullable = true)\n",
            " |-- Hepatitis B: integer (nullable = true)\n",
            " |-- Measles : integer (nullable = true)\n",
            " |--  BMI : double (nullable = true)\n",
            " |-- under-five deaths : integer (nullable = true)\n",
            " |-- Polio: integer (nullable = true)\n",
            " |-- Total expenditure: double (nullable = true)\n",
            " |-- Diphtheria : integer (nullable = true)\n",
            " |--  HIV/AIDS: double (nullable = true)\n",
            " |-- GDP: double (nullable = true)\n",
            " |-- Population: double (nullable = true)\n",
            " |--  thinness  1-19 years: double (nullable = true)\n",
            " |--  thinness 5-9 years: double (nullable = true)\n",
            " |-- Income composition of resources: double (nullable = true)\n",
            " |-- Schooling: double (nullable = true)\n",
            "\n"
          ]
        }
      ]
    },
    {
      "cell_type": "code",
      "source": [
        "new_cols = [\"Country\", \"Year\", \"Status\", \"label\", \"AdultMortality\",\n",
        "      \"InfantDeaths\", \"Alcohol\", \"PercentageExpenditure\", \"HepatitisB\", \"Measles\", \"BMI\", \"UnderFiveDeaths\",\n",
        "      \"Polio\", \"TotalExpenditure\", \"Diphtheria\", \"HIV_AIDS\", \"GDP\", \"Population\", \"Thinness119\", \"Thinness59\",\n",
        "      \"IncomeCompositionOfResources\", \"Schooling\"]"
      ],
      "metadata": {
        "id": "D8Q4cIGGHrEr"
      },
      "execution_count": 7,
      "outputs": []
    },
    {
      "cell_type": "code",
      "source": [
        "df2 = df.toDF(*new_cols)"
      ],
      "metadata": {
        "id": "XaS0NsmAHrHg"
      },
      "execution_count": 8,
      "outputs": []
    },
    {
      "cell_type": "code",
      "source": [
        "df2.toPandas().head()"
      ],
      "metadata": {
        "colab": {
          "base_uri": "https://localhost:8080/",
          "height": 221
        },
        "id": "NvyJ7IxiHrJ2",
        "outputId": "0f81739d-553c-4b04-9ca6-5d8a4f85712c"
      },
      "execution_count": 9,
      "outputs": [
        {
          "output_type": "execute_result",
          "data": {
            "text/html": [
              "<div>\n",
              "<style scoped>\n",
              "    .dataframe tbody tr th:only-of-type {\n",
              "        vertical-align: middle;\n",
              "    }\n",
              "\n",
              "    .dataframe tbody tr th {\n",
              "        vertical-align: top;\n",
              "    }\n",
              "\n",
              "    .dataframe thead th {\n",
              "        text-align: right;\n",
              "    }\n",
              "</style>\n",
              "<table border=\"1\" class=\"dataframe\">\n",
              "  <thead>\n",
              "    <tr style=\"text-align: right;\">\n",
              "      <th></th>\n",
              "      <th>Country</th>\n",
              "      <th>Year</th>\n",
              "      <th>Status</th>\n",
              "      <th>label</th>\n",
              "      <th>AdultMortality</th>\n",
              "      <th>InfantDeaths</th>\n",
              "      <th>Alcohol</th>\n",
              "      <th>PercentageExpenditure</th>\n",
              "      <th>HepatitisB</th>\n",
              "      <th>Measles</th>\n",
              "      <th>BMI</th>\n",
              "      <th>UnderFiveDeaths</th>\n",
              "      <th>Polio</th>\n",
              "      <th>TotalExpenditure</th>\n",
              "      <th>Diphtheria</th>\n",
              "      <th>HIV_AIDS</th>\n",
              "      <th>GDP</th>\n",
              "      <th>Population</th>\n",
              "      <th>Thinness119</th>\n",
              "      <th>Thinness59</th>\n",
              "      <th>IncomeCompositionOfResources</th>\n",
              "      <th>Schooling</th>\n",
              "    </tr>\n",
              "  </thead>\n",
              "  <tbody>\n",
              "    <tr>\n",
              "      <th>0</th>\n",
              "      <td>Afghanistan</td>\n",
              "      <td>2015</td>\n",
              "      <td>Developing</td>\n",
              "      <td>65.0</td>\n",
              "      <td>263.0</td>\n",
              "      <td>62</td>\n",
              "      <td>0.01</td>\n",
              "      <td>71.279624</td>\n",
              "      <td>65.0</td>\n",
              "      <td>1154</td>\n",
              "      <td>19.1</td>\n",
              "      <td>83</td>\n",
              "      <td>6.0</td>\n",
              "      <td>8.16</td>\n",
              "      <td>65.0</td>\n",
              "      <td>0.1</td>\n",
              "      <td>584.259210</td>\n",
              "      <td>33736494.0</td>\n",
              "      <td>17.2</td>\n",
              "      <td>17.3</td>\n",
              "      <td>0.479</td>\n",
              "      <td>10.1</td>\n",
              "    </tr>\n",
              "    <tr>\n",
              "      <th>1</th>\n",
              "      <td>Afghanistan</td>\n",
              "      <td>2014</td>\n",
              "      <td>Developing</td>\n",
              "      <td>59.9</td>\n",
              "      <td>271.0</td>\n",
              "      <td>64</td>\n",
              "      <td>0.01</td>\n",
              "      <td>73.523582</td>\n",
              "      <td>62.0</td>\n",
              "      <td>492</td>\n",
              "      <td>18.6</td>\n",
              "      <td>86</td>\n",
              "      <td>58.0</td>\n",
              "      <td>8.18</td>\n",
              "      <td>62.0</td>\n",
              "      <td>0.1</td>\n",
              "      <td>612.696514</td>\n",
              "      <td>327582.0</td>\n",
              "      <td>17.5</td>\n",
              "      <td>17.5</td>\n",
              "      <td>0.476</td>\n",
              "      <td>10.0</td>\n",
              "    </tr>\n",
              "    <tr>\n",
              "      <th>2</th>\n",
              "      <td>Afghanistan</td>\n",
              "      <td>2013</td>\n",
              "      <td>Developing</td>\n",
              "      <td>59.9</td>\n",
              "      <td>268.0</td>\n",
              "      <td>66</td>\n",
              "      <td>0.01</td>\n",
              "      <td>73.219243</td>\n",
              "      <td>64.0</td>\n",
              "      <td>430</td>\n",
              "      <td>18.1</td>\n",
              "      <td>89</td>\n",
              "      <td>62.0</td>\n",
              "      <td>8.13</td>\n",
              "      <td>64.0</td>\n",
              "      <td>0.1</td>\n",
              "      <td>631.744976</td>\n",
              "      <td>31731688.0</td>\n",
              "      <td>17.7</td>\n",
              "      <td>17.7</td>\n",
              "      <td>0.470</td>\n",
              "      <td>9.9</td>\n",
              "    </tr>\n",
              "    <tr>\n",
              "      <th>3</th>\n",
              "      <td>Afghanistan</td>\n",
              "      <td>2012</td>\n",
              "      <td>Developing</td>\n",
              "      <td>59.5</td>\n",
              "      <td>272.0</td>\n",
              "      <td>69</td>\n",
              "      <td>0.01</td>\n",
              "      <td>78.184215</td>\n",
              "      <td>67.0</td>\n",
              "      <td>2787</td>\n",
              "      <td>17.6</td>\n",
              "      <td>93</td>\n",
              "      <td>67.0</td>\n",
              "      <td>8.52</td>\n",
              "      <td>67.0</td>\n",
              "      <td>0.1</td>\n",
              "      <td>669.959000</td>\n",
              "      <td>3696958.0</td>\n",
              "      <td>17.9</td>\n",
              "      <td>18.0</td>\n",
              "      <td>0.463</td>\n",
              "      <td>9.8</td>\n",
              "    </tr>\n",
              "    <tr>\n",
              "      <th>4</th>\n",
              "      <td>Afghanistan</td>\n",
              "      <td>2011</td>\n",
              "      <td>Developing</td>\n",
              "      <td>59.2</td>\n",
              "      <td>275.0</td>\n",
              "      <td>71</td>\n",
              "      <td>0.01</td>\n",
              "      <td>7.097109</td>\n",
              "      <td>68.0</td>\n",
              "      <td>3013</td>\n",
              "      <td>17.2</td>\n",
              "      <td>97</td>\n",
              "      <td>68.0</td>\n",
              "      <td>7.87</td>\n",
              "      <td>68.0</td>\n",
              "      <td>0.1</td>\n",
              "      <td>63.537231</td>\n",
              "      <td>2978599.0</td>\n",
              "      <td>18.2</td>\n",
              "      <td>18.2</td>\n",
              "      <td>0.454</td>\n",
              "      <td>9.5</td>\n",
              "    </tr>\n",
              "  </tbody>\n",
              "</table>\n",
              "</div>"
            ],
            "text/plain": [
              "       Country  Year  ... IncomeCompositionOfResources  Schooling\n",
              "0  Afghanistan  2015  ...                        0.479       10.1\n",
              "1  Afghanistan  2014  ...                        0.476       10.0\n",
              "2  Afghanistan  2013  ...                        0.470        9.9\n",
              "3  Afghanistan  2012  ...                        0.463        9.8\n",
              "4  Afghanistan  2011  ...                        0.454        9.5\n",
              "\n",
              "[5 rows x 22 columns]"
            ]
          },
          "metadata": {},
          "execution_count": 9
        }
      ]
    },
    {
      "cell_type": "code",
      "source": [
        "categorical_cols = [\"Country\",\"Status\"]\n",
        "'''\n",
        "numerical_cols = [ \"Year\", \"AdultMortality\",\n",
        "      \"InfantDeaths\", \"Alcohol\", \"PercentageExpenditure\", \"HepatitisB\", \"Measles\", \"BMI\", \"UnderFiveDeaths\",\n",
        "      \"Polio\", \"TotalExpenditure\", \"Diphtheria\", \"HIV_AIDS\", \"GDP\", \"Population\", \"Thinness119\", \"Thinness59\",\n",
        "      \"IncomeCompositionOfResources\", \"Schooling\"]\n",
        "'''\n",
        "numerical_cols = [ \"Year\", \"AdultMortality\",\n",
        "      \"InfantDeaths\", \"Alcohol\",  \"BMI\", \"UnderFiveDeaths\",\n",
        "      \"TotalExpenditure\", \"Diphtheria\", \"HIV_AIDS\", \"GDP\",  \n",
        "      \"IncomeCompositionOfResources\", \"Schooling\"]\n",
        "label = [\"label\"]"
      ],
      "metadata": {
        "id": "ugr5IjH-HrMQ"
      },
      "execution_count": 10,
      "outputs": []
    },
    {
      "cell_type": "code",
      "source": [
        "df2.describe().toPandas().head()"
      ],
      "metadata": {
        "colab": {
          "base_uri": "https://localhost:8080/",
          "height": 221
        },
        "id": "b2OIXCykHrO1",
        "outputId": "f622369e-2f72-4abf-d9ed-47f369ea6657"
      },
      "execution_count": 11,
      "outputs": [
        {
          "output_type": "execute_result",
          "data": {
            "text/html": [
              "<div>\n",
              "<style scoped>\n",
              "    .dataframe tbody tr th:only-of-type {\n",
              "        vertical-align: middle;\n",
              "    }\n",
              "\n",
              "    .dataframe tbody tr th {\n",
              "        vertical-align: top;\n",
              "    }\n",
              "\n",
              "    .dataframe thead th {\n",
              "        text-align: right;\n",
              "    }\n",
              "</style>\n",
              "<table border=\"1\" class=\"dataframe\">\n",
              "  <thead>\n",
              "    <tr style=\"text-align: right;\">\n",
              "      <th></th>\n",
              "      <th>summary</th>\n",
              "      <th>Country</th>\n",
              "      <th>Year</th>\n",
              "      <th>Status</th>\n",
              "      <th>label</th>\n",
              "      <th>AdultMortality</th>\n",
              "      <th>InfantDeaths</th>\n",
              "      <th>Alcohol</th>\n",
              "      <th>PercentageExpenditure</th>\n",
              "      <th>HepatitisB</th>\n",
              "      <th>Measles</th>\n",
              "      <th>BMI</th>\n",
              "      <th>UnderFiveDeaths</th>\n",
              "      <th>Polio</th>\n",
              "      <th>TotalExpenditure</th>\n",
              "      <th>Diphtheria</th>\n",
              "      <th>HIV_AIDS</th>\n",
              "      <th>GDP</th>\n",
              "      <th>Population</th>\n",
              "      <th>Thinness119</th>\n",
              "      <th>Thinness59</th>\n",
              "      <th>IncomeCompositionOfResources</th>\n",
              "      <th>Schooling</th>\n",
              "    </tr>\n",
              "  </thead>\n",
              "  <tbody>\n",
              "    <tr>\n",
              "      <th>0</th>\n",
              "      <td>count</td>\n",
              "      <td>2938</td>\n",
              "      <td>2938</td>\n",
              "      <td>2938</td>\n",
              "      <td>2928</td>\n",
              "      <td>2928</td>\n",
              "      <td>2938</td>\n",
              "      <td>2744</td>\n",
              "      <td>2938</td>\n",
              "      <td>2385</td>\n",
              "      <td>2938</td>\n",
              "      <td>2904</td>\n",
              "      <td>2938</td>\n",
              "      <td>2919</td>\n",
              "      <td>2712</td>\n",
              "      <td>2919</td>\n",
              "      <td>2938</td>\n",
              "      <td>2490</td>\n",
              "      <td>2286</td>\n",
              "      <td>2904</td>\n",
              "      <td>2904</td>\n",
              "      <td>2771</td>\n",
              "      <td>2775</td>\n",
              "    </tr>\n",
              "    <tr>\n",
              "      <th>1</th>\n",
              "      <td>mean</td>\n",
              "      <td>None</td>\n",
              "      <td>2007.5187202178352</td>\n",
              "      <td>None</td>\n",
              "      <td>69.22493169398912</td>\n",
              "      <td>164.79644808743168</td>\n",
              "      <td>30.303948264125257</td>\n",
              "      <td>4.6028607871720375</td>\n",
              "      <td>738.2512954533823</td>\n",
              "      <td>80.94046121593291</td>\n",
              "      <td>2419.5922396187884</td>\n",
              "      <td>38.32124655647373</td>\n",
              "      <td>42.0357385976855</td>\n",
              "      <td>82.55018842069202</td>\n",
              "      <td>5.9381895280235915</td>\n",
              "      <td>82.32408359027065</td>\n",
              "      <td>1.7421034717494939</td>\n",
              "      <td>7483.158469138481</td>\n",
              "      <td>1.2753375120052498E7</td>\n",
              "      <td>4.8397038567493205</td>\n",
              "      <td>4.870316804407711</td>\n",
              "      <td>0.6275510645976166</td>\n",
              "      <td>11.992792792792786</td>\n",
              "    </tr>\n",
              "    <tr>\n",
              "      <th>2</th>\n",
              "      <td>stddev</td>\n",
              "      <td>None</td>\n",
              "      <td>4.613840940258099</td>\n",
              "      <td>None</td>\n",
              "      <td>9.523867487824305</td>\n",
              "      <td>124.2920790034219</td>\n",
              "      <td>117.92650131339906</td>\n",
              "      <td>4.052412658755658</td>\n",
              "      <td>1987.914858016194</td>\n",
              "      <td>25.070015593018063</td>\n",
              "      <td>11467.27248923461</td>\n",
              "      <td>20.044033502562083</td>\n",
              "      <td>160.4455484057337</td>\n",
              "      <td>23.428045949468476</td>\n",
              "      <td>2.498319672155633</td>\n",
              "      <td>23.7169120685726</td>\n",
              "      <td>5.077784531086547</td>\n",
              "      <td>14270.169341515959</td>\n",
              "      <td>6.101209650842794E7</td>\n",
              "      <td>4.420194947144322</td>\n",
              "      <td>4.508882086983007</td>\n",
              "      <td>0.2109035551515931</td>\n",
              "      <td>3.3589197211023554</td>\n",
              "    </tr>\n",
              "    <tr>\n",
              "      <th>3</th>\n",
              "      <td>min</td>\n",
              "      <td>Afghanistan</td>\n",
              "      <td>2000</td>\n",
              "      <td>Developed</td>\n",
              "      <td>36.3</td>\n",
              "      <td>1</td>\n",
              "      <td>0</td>\n",
              "      <td>0.01</td>\n",
              "      <td>0.0</td>\n",
              "      <td>1</td>\n",
              "      <td>0</td>\n",
              "      <td>1.0</td>\n",
              "      <td>0</td>\n",
              "      <td>3</td>\n",
              "      <td>0.37</td>\n",
              "      <td>2</td>\n",
              "      <td>0.1</td>\n",
              "      <td>1.68135</td>\n",
              "      <td>34.0</td>\n",
              "      <td>0.1</td>\n",
              "      <td>0.1</td>\n",
              "      <td>0.0</td>\n",
              "      <td>0.0</td>\n",
              "    </tr>\n",
              "    <tr>\n",
              "      <th>4</th>\n",
              "      <td>max</td>\n",
              "      <td>Zimbabwe</td>\n",
              "      <td>2015</td>\n",
              "      <td>Developing</td>\n",
              "      <td>89.0</td>\n",
              "      <td>723</td>\n",
              "      <td>1800</td>\n",
              "      <td>17.87</td>\n",
              "      <td>19479.91161</td>\n",
              "      <td>99</td>\n",
              "      <td>212183</td>\n",
              "      <td>87.3</td>\n",
              "      <td>2500</td>\n",
              "      <td>99</td>\n",
              "      <td>17.6</td>\n",
              "      <td>99</td>\n",
              "      <td>50.6</td>\n",
              "      <td>119172.7418</td>\n",
              "      <td>1.293859294E9</td>\n",
              "      <td>27.7</td>\n",
              "      <td>28.6</td>\n",
              "      <td>0.948</td>\n",
              "      <td>20.7</td>\n",
              "    </tr>\n",
              "  </tbody>\n",
              "</table>\n",
              "</div>"
            ],
            "text/plain": [
              "  summary      Country  ... IncomeCompositionOfResources           Schooling\n",
              "0   count         2938  ...                         2771                2775\n",
              "1    mean         None  ...           0.6275510645976166  11.992792792792786\n",
              "2  stddev         None  ...           0.2109035551515931  3.3589197211023554\n",
              "3     min  Afghanistan  ...                          0.0                 0.0\n",
              "4     max     Zimbabwe  ...                        0.948                20.7\n",
              "\n",
              "[5 rows x 23 columns]"
            ]
          },
          "metadata": {},
          "execution_count": 11
        }
      ]
    },
    {
      "cell_type": "code",
      "source": [
        "df3 = df2.na.drop()"
      ],
      "metadata": {
        "id": "ukuUxHfDHrRc"
      },
      "execution_count": 12,
      "outputs": []
    },
    {
      "cell_type": "code",
      "source": [
        "df3.describe().toPandas().head()"
      ],
      "metadata": {
        "colab": {
          "base_uri": "https://localhost:8080/",
          "height": 221
        },
        "id": "UQZjg-jaHrUz",
        "outputId": "33d9fd2f-085f-4fab-8139-174dc4673066"
      },
      "execution_count": 13,
      "outputs": [
        {
          "output_type": "execute_result",
          "data": {
            "text/html": [
              "<div>\n",
              "<style scoped>\n",
              "    .dataframe tbody tr th:only-of-type {\n",
              "        vertical-align: middle;\n",
              "    }\n",
              "\n",
              "    .dataframe tbody tr th {\n",
              "        vertical-align: top;\n",
              "    }\n",
              "\n",
              "    .dataframe thead th {\n",
              "        text-align: right;\n",
              "    }\n",
              "</style>\n",
              "<table border=\"1\" class=\"dataframe\">\n",
              "  <thead>\n",
              "    <tr style=\"text-align: right;\">\n",
              "      <th></th>\n",
              "      <th>summary</th>\n",
              "      <th>Country</th>\n",
              "      <th>Year</th>\n",
              "      <th>Status</th>\n",
              "      <th>label</th>\n",
              "      <th>AdultMortality</th>\n",
              "      <th>InfantDeaths</th>\n",
              "      <th>Alcohol</th>\n",
              "      <th>PercentageExpenditure</th>\n",
              "      <th>HepatitisB</th>\n",
              "      <th>Measles</th>\n",
              "      <th>BMI</th>\n",
              "      <th>UnderFiveDeaths</th>\n",
              "      <th>Polio</th>\n",
              "      <th>TotalExpenditure</th>\n",
              "      <th>Diphtheria</th>\n",
              "      <th>HIV_AIDS</th>\n",
              "      <th>GDP</th>\n",
              "      <th>Population</th>\n",
              "      <th>Thinness119</th>\n",
              "      <th>Thinness59</th>\n",
              "      <th>IncomeCompositionOfResources</th>\n",
              "      <th>Schooling</th>\n",
              "    </tr>\n",
              "  </thead>\n",
              "  <tbody>\n",
              "    <tr>\n",
              "      <th>0</th>\n",
              "      <td>count</td>\n",
              "      <td>1649</td>\n",
              "      <td>1649</td>\n",
              "      <td>1649</td>\n",
              "      <td>1649</td>\n",
              "      <td>1649</td>\n",
              "      <td>1649</td>\n",
              "      <td>1649</td>\n",
              "      <td>1649</td>\n",
              "      <td>1649</td>\n",
              "      <td>1649</td>\n",
              "      <td>1649</td>\n",
              "      <td>1649</td>\n",
              "      <td>1649</td>\n",
              "      <td>1649</td>\n",
              "      <td>1649</td>\n",
              "      <td>1649</td>\n",
              "      <td>1649</td>\n",
              "      <td>1649</td>\n",
              "      <td>1649</td>\n",
              "      <td>1649</td>\n",
              "      <td>1649</td>\n",
              "      <td>1649</td>\n",
              "    </tr>\n",
              "    <tr>\n",
              "      <th>1</th>\n",
              "      <td>mean</td>\n",
              "      <td>None</td>\n",
              "      <td>2007.8405093996362</td>\n",
              "      <td>None</td>\n",
              "      <td>69.30230442692543</td>\n",
              "      <td>168.2152819890843</td>\n",
              "      <td>32.55306246209824</td>\n",
              "      <td>4.533195876288676</td>\n",
              "      <td>698.973558049698</td>\n",
              "      <td>79.21770770163735</td>\n",
              "      <td>2224.4942389326866</td>\n",
              "      <td>38.1286234081261</td>\n",
              "      <td>44.22013341419042</td>\n",
              "      <td>83.56458459672528</td>\n",
              "      <td>5.955924802910845</td>\n",
              "      <td>84.155245603396</td>\n",
              "      <td>1.9838690115221154</td>\n",
              "      <td>5566.031886817592</td>\n",
              "      <td>1.4653625889484541E7</td>\n",
              "      <td>4.850636749545183</td>\n",
              "      <td>4.907762280169795</td>\n",
              "      <td>0.6315512431776829</td>\n",
              "      <td>12.119890842935117</td>\n",
              "    </tr>\n",
              "    <tr>\n",
              "      <th>2</th>\n",
              "      <td>stddev</td>\n",
              "      <td>None</td>\n",
              "      <td>4.087710534059055</td>\n",
              "      <td>None</td>\n",
              "      <td>8.796834135238601</td>\n",
              "      <td>125.31041693156172</td>\n",
              "      <td>120.84719049638885</td>\n",
              "      <td>4.029188999208425</td>\n",
              "      <td>1759.2293363477393</td>\n",
              "      <td>25.60466388103202</td>\n",
              "      <td>10085.802018707056</td>\n",
              "      <td>19.75424940421043</td>\n",
              "      <td>162.89799858781032</td>\n",
              "      <td>22.450557485191844</td>\n",
              "      <td>2.2993854200363937</td>\n",
              "      <td>21.57919284379662</td>\n",
              "      <td>6.032359689186714</td>\n",
              "      <td>11475.900117274561</td>\n",
              "      <td>7.04603934030564E7</td>\n",
              "      <td>4.599228369708468</td>\n",
              "      <td>4.653756745508691</td>\n",
              "      <td>0.18308872643487184</td>\n",
              "      <td>2.795387538952672</td>\n",
              "    </tr>\n",
              "    <tr>\n",
              "      <th>3</th>\n",
              "      <td>min</td>\n",
              "      <td>Afghanistan</td>\n",
              "      <td>2000</td>\n",
              "      <td>Developed</td>\n",
              "      <td>44.0</td>\n",
              "      <td>1</td>\n",
              "      <td>0</td>\n",
              "      <td>0.01</td>\n",
              "      <td>0.0</td>\n",
              "      <td>2</td>\n",
              "      <td>0</td>\n",
              "      <td>2.0</td>\n",
              "      <td>0</td>\n",
              "      <td>3</td>\n",
              "      <td>0.74</td>\n",
              "      <td>2</td>\n",
              "      <td>0.1</td>\n",
              "      <td>1.68135</td>\n",
              "      <td>34.0</td>\n",
              "      <td>0.1</td>\n",
              "      <td>0.1</td>\n",
              "      <td>0.0</td>\n",
              "      <td>4.2</td>\n",
              "    </tr>\n",
              "    <tr>\n",
              "      <th>4</th>\n",
              "      <td>max</td>\n",
              "      <td>Zimbabwe</td>\n",
              "      <td>2015</td>\n",
              "      <td>Developing</td>\n",
              "      <td>89.0</td>\n",
              "      <td>723</td>\n",
              "      <td>1600</td>\n",
              "      <td>17.87</td>\n",
              "      <td>18961.3486</td>\n",
              "      <td>99</td>\n",
              "      <td>131441</td>\n",
              "      <td>77.1</td>\n",
              "      <td>2100</td>\n",
              "      <td>99</td>\n",
              "      <td>14.39</td>\n",
              "      <td>99</td>\n",
              "      <td>50.6</td>\n",
              "      <td>119172.7418</td>\n",
              "      <td>1.293859294E9</td>\n",
              "      <td>27.2</td>\n",
              "      <td>28.2</td>\n",
              "      <td>0.936</td>\n",
              "      <td>20.7</td>\n",
              "    </tr>\n",
              "  </tbody>\n",
              "</table>\n",
              "</div>"
            ],
            "text/plain": [
              "  summary      Country  ... IncomeCompositionOfResources           Schooling\n",
              "0   count         1649  ...                         1649                1649\n",
              "1    mean         None  ...           0.6315512431776829  12.119890842935117\n",
              "2  stddev         None  ...          0.18308872643487184   2.795387538952672\n",
              "3     min  Afghanistan  ...                          0.0                 4.2\n",
              "4     max     Zimbabwe  ...                        0.936                20.7\n",
              "\n",
              "[5 rows x 23 columns]"
            ]
          },
          "metadata": {},
          "execution_count": 13
        }
      ]
    },
    {
      "cell_type": "code",
      "source": [
        "from pyspark.ml.feature import StringIndexer, OneHotEncoder, VectorAssembler\n",
        "from pyspark.ml import Pipeline, PipelineModel\n",
        "from pyspark.ml.regression import LinearRegression, LinearRegressionModel"
      ],
      "metadata": {
        "id": "Z432iJHDIcHq"
      },
      "execution_count": 15,
      "outputs": []
    },
    {
      "cell_type": "code",
      "source": [
        "status_string_indexer = StringIndexer().setInputCol(\"Status\").setOutputCol(\"StatusIndexed\")"
      ],
      "metadata": {
        "id": "KeyE_i0jIhHx"
      },
      "execution_count": 16,
      "outputs": []
    },
    {
      "cell_type": "code",
      "source": [
        "encoder = OneHotEncoder().setInputCols([\"StatusIndexed\"]).setOutputCols([\"StatusEncoded\"])"
      ],
      "metadata": {
        "id": "fWGGuvP-IiC0"
      },
      "execution_count": 17,
      "outputs": []
    },
    {
      "cell_type": "code",
      "source": [
        "vector_assembler = VectorAssembler().setInputCols(numerical_cols + encoder.getOutputCols()) \\\n",
        ".setOutputCol(\"features\")"
      ],
      "metadata": {
        "id": "7mWKEYbTItRk"
      },
      "execution_count": 18,
      "outputs": []
    },
    {
      "cell_type": "code",
      "source": [
        "numerical_cols + encoder.getOutputCols()"
      ],
      "metadata": {
        "colab": {
          "base_uri": "https://localhost:8080/"
        },
        "id": "F82sAn93KJNo",
        "outputId": "d8d4ccf8-d2fe-46cc-cead-0838a4caecfa"
      },
      "execution_count": 34,
      "outputs": [
        {
          "output_type": "execute_result",
          "data": {
            "text/plain": [
              "['Year',\n",
              " 'AdultMortality',\n",
              " 'InfantDeaths',\n",
              " 'Alcohol',\n",
              " 'BMI',\n",
              " 'UnderFiveDeaths',\n",
              " 'TotalExpenditure',\n",
              " 'Diphtheria',\n",
              " 'HIV_AIDS',\n",
              " 'GDP',\n",
              " 'IncomeCompositionOfResources',\n",
              " 'Schooling',\n",
              " 'StatusEncoded']"
            ]
          },
          "metadata": {},
          "execution_count": 34
        }
      ]
    },
    {
      "cell_type": "code",
      "source": [
        "linear_regression_object = LinearRegression().setFeaturesCol(\"features\").setLabelCol(\"label\")"
      ],
      "metadata": {
        "id": "3PBiGIyxIwVi"
      },
      "execution_count": 19,
      "outputs": []
    },
    {
      "cell_type": "code",
      "source": [
        "pipeline_object = Pipeline().setStages([status_string_indexer, encoder, vector_assembler, linear_regression_object])"
      ],
      "metadata": {
        "id": "F88n8fq3IwS5"
      },
      "execution_count": 20,
      "outputs": []
    },
    {
      "cell_type": "code",
      "source": [
        "train_df, test_df = df3.randomSplit([0.8, 0.2], seed=142)"
      ],
      "metadata": {
        "id": "zqGPDs1nIwPf"
      },
      "execution_count": 21,
      "outputs": []
    },
    {
      "cell_type": "code",
      "source": [
        "#veriyi bellege alir,surekli kullanacagimiz veriler icin yapariz,ama gereginden fazla veri olursa bellek kapasitesini gecme riski olabilir.\n",
        "train_df.cache()\n",
        "test_df.cache()"
      ],
      "metadata": {
        "colab": {
          "base_uri": "https://localhost:8080/"
        },
        "id": "nPm6QMw7IwMG",
        "outputId": "9daa202b-4585-4720-d513-2008286f5ddf"
      },
      "execution_count": 35,
      "outputs": [
        {
          "output_type": "execute_result",
          "data": {
            "text/plain": [
              "DataFrame[Country: string, Year: int, Status: string, label: double, AdultMortality: int, InfantDeaths: int, Alcohol: double, PercentageExpenditure: double, HepatitisB: int, Measles: int, BMI: double, UnderFiveDeaths: int, Polio: int, TotalExpenditure: double, Diphtheria: int, HIV_AIDS: double, GDP: double, Population: double, Thinness119: double, Thinness59: double, IncomeCompositionOfResources: double, Schooling: double]"
            ]
          },
          "metadata": {},
          "execution_count": 35
        }
      ]
    },
    {
      "cell_type": "code",
      "source": [
        "pipline_model = pipeline_object.fit(train_df)"
      ],
      "metadata": {
        "id": "gjygUBhiIwJh"
      },
      "execution_count": 23,
      "outputs": []
    },
    {
      "cell_type": "code",
      "source": [
        "pipline_model.transform(test_df).select(\"label\",\"prediction\").toPandas().head()"
      ],
      "metadata": {
        "colab": {
          "base_uri": "https://localhost:8080/",
          "height": 201
        },
        "id": "Um1wSF_YIwHN",
        "outputId": "74f244b9-7d91-4165-98c2-8655c516a43b"
      },
      "execution_count": 24,
      "outputs": [
        {
          "output_type": "execute_result",
          "data": {
            "text/html": [
              "<div>\n",
              "<style scoped>\n",
              "    .dataframe tbody tr th:only-of-type {\n",
              "        vertical-align: middle;\n",
              "    }\n",
              "\n",
              "    .dataframe tbody tr th {\n",
              "        vertical-align: top;\n",
              "    }\n",
              "\n",
              "    .dataframe thead th {\n",
              "        text-align: right;\n",
              "    }\n",
              "</style>\n",
              "<table border=\"1\" class=\"dataframe\">\n",
              "  <thead>\n",
              "    <tr style=\"text-align: right;\">\n",
              "      <th></th>\n",
              "      <th>label</th>\n",
              "      <th>prediction</th>\n",
              "    </tr>\n",
              "  </thead>\n",
              "  <tbody>\n",
              "    <tr>\n",
              "      <th>0</th>\n",
              "      <td>56.7</td>\n",
              "      <td>59.190128</td>\n",
              "    </tr>\n",
              "    <tr>\n",
              "      <th>1</th>\n",
              "      <td>58.1</td>\n",
              "      <td>62.004829</td>\n",
              "    </tr>\n",
              "    <tr>\n",
              "      <th>2</th>\n",
              "      <td>58.8</td>\n",
              "      <td>62.712977</td>\n",
              "    </tr>\n",
              "    <tr>\n",
              "      <th>3</th>\n",
              "      <td>59.9</td>\n",
              "      <td>63.411241</td>\n",
              "    </tr>\n",
              "    <tr>\n",
              "      <th>4</th>\n",
              "      <td>75.3</td>\n",
              "      <td>73.911722</td>\n",
              "    </tr>\n",
              "  </tbody>\n",
              "</table>\n",
              "</div>"
            ],
            "text/plain": [
              "   label  prediction\n",
              "0   56.7   59.190128\n",
              "1   58.1   62.004829\n",
              "2   58.8   62.712977\n",
              "3   59.9   63.411241\n",
              "4   75.3   73.911722"
            ]
          },
          "metadata": {},
          "execution_count": 24
        }
      ]
    },
    {
      "cell_type": "code",
      "source": [
        "lr_model = pipline_model.stages[-1]"
      ],
      "metadata": {
        "id": "pTs1DCfHIwE0"
      },
      "execution_count": 25,
      "outputs": []
    },
    {
      "cell_type": "code",
      "source": [
        "lr_model.coefficients"
      ],
      "metadata": {
        "colab": {
          "base_uri": "https://localhost:8080/"
        },
        "id": "HjAEgR3yIwB8",
        "outputId": "dd086658-92d1-4cc1-ebe3-9b85b0f971a8"
      },
      "execution_count": 26,
      "outputs": [
        {
          "output_type": "execute_result",
          "data": {
            "text/plain": [
              "DenseVector([-0.1288, -0.017, 0.0837, -0.1189, 0.0322, -0.0638, 0.1301, 0.0189, -0.4489, 0.0001, 9.5061, 0.9633, -0.7417])"
            ]
          },
          "metadata": {},
          "execution_count": 26
        }
      ]
    },
    {
      "cell_type": "code",
      "source": [
        "lr_model.intercept"
      ],
      "metadata": {
        "colab": {
          "base_uri": "https://localhost:8080/"
        },
        "id": "DstwnIxAIv_Q",
        "outputId": "276512f2-297e-4646-cd5d-e50c9e73dee4"
      },
      "execution_count": 27,
      "outputs": [
        {
          "output_type": "execute_result",
          "data": {
            "text/plain": [
              "311.3858251219486"
            ]
          },
          "metadata": {},
          "execution_count": 27
        }
      ]
    },
    {
      "cell_type": "code",
      "source": [
        "lr_model.summary.r2"
      ],
      "metadata": {
        "colab": {
          "base_uri": "https://localhost:8080/"
        },
        "id": "G-3mIkLAJEz6",
        "outputId": "2fdb0a50-04da-4a51-c3cf-6235d7443580"
      },
      "execution_count": 28,
      "outputs": [
        {
          "output_type": "execute_result",
          "data": {
            "text/plain": [
              "0.8376909414684943"
            ]
          },
          "metadata": {},
          "execution_count": 28
        }
      ]
    },
    {
      "cell_type": "code",
      "source": [
        "lr_model.summary.rootMeanSquaredError"
      ],
      "metadata": {
        "colab": {
          "base_uri": "https://localhost:8080/"
        },
        "id": "jT2JgiZrJHHv",
        "outputId": "be3da1e1-a8da-429f-d312-1c2d36c0287e"
      },
      "execution_count": 29,
      "outputs": [
        {
          "output_type": "execute_result",
          "data": {
            "text/plain": [
              "3.5482580736921023"
            ]
          },
          "metadata": {},
          "execution_count": 29
        }
      ]
    },
    {
      "cell_type": "code",
      "source": [
        "lr_model.summary.pValues"
      ],
      "metadata": {
        "colab": {
          "base_uri": "https://localhost:8080/"
        },
        "id": "E7Z5gRqaJJFx",
        "outputId": "5943abc0-e1e8-41cc-eb74-b33b3c0308da"
      },
      "execution_count": 30,
      "outputs": [
        {
          "output_type": "execute_result",
          "data": {
            "text/plain": [
              "[4.906680344252123e-07,\n",
              " 0.0,\n",
              " 1.0839773523230178e-11,\n",
              " 0.001313976726802668,\n",
              " 3.488250992500497e-07,\n",
              " 4.583222690257571e-12,\n",
              " 0.0032213559086495813,\n",
              " 0.00010182824188298412,\n",
              " 0.0,\n",
              " 2.0167800762749266e-10,\n",
              " 0.0,\n",
              " 0.0,\n",
              " 0.04916901684854036,\n",
              " 1.388568815485769e-09]"
            ]
          },
          "metadata": {},
          "execution_count": 30
        }
      ]
    },
    {
      "cell_type": "code",
      "source": [
        "zipped = zip(lr_model.summary.pValues, numerical_cols+[\"Status\",\"Sabit\"])\n",
        "sorted_zip = sorted(zipped)"
      ],
      "metadata": {
        "id": "VEaDjglkJL9z"
      },
      "execution_count": 32,
      "outputs": []
    },
    {
      "cell_type": "code",
      "source": [
        "for i in sorted_zip:\n",
        "    print(i)"
      ],
      "metadata": {
        "colab": {
          "base_uri": "https://localhost:8080/"
        },
        "id": "jJxlhudUJdYH",
        "outputId": "6084fbff-863c-4d47-81a0-1a60dab5460e"
      },
      "execution_count": 33,
      "outputs": [
        {
          "output_type": "stream",
          "name": "stdout",
          "text": [
            "(0.0, 'AdultMortality')\n",
            "(0.0, 'HIV_AIDS')\n",
            "(0.0, 'IncomeCompositionOfResources')\n",
            "(0.0, 'Schooling')\n",
            "(4.583222690257571e-12, 'UnderFiveDeaths')\n",
            "(1.0839773523230178e-11, 'InfantDeaths')\n",
            "(2.0167800762749266e-10, 'GDP')\n",
            "(1.388568815485769e-09, 'Sabit')\n",
            "(3.488250992500497e-07, 'BMI')\n",
            "(4.906680344252123e-07, 'Year')\n",
            "(0.00010182824188298412, 'Diphtheria')\n",
            "(0.001313976726802668, 'Alcohol')\n",
            "(0.0032213559086495813, 'TotalExpenditure')\n",
            "(0.04916901684854036, 'Status')\n"
          ]
        }
      ]
    },
    {
      "cell_type": "code",
      "source": [
        ""
      ],
      "metadata": {
        "id": "m4IwzubVOL43"
      },
      "execution_count": null,
      "outputs": []
    },
    {
      "cell_type": "code",
      "source": [
        ""
      ],
      "metadata": {
        "id": "iKSdK5WIOL2B"
      },
      "execution_count": null,
      "outputs": []
    },
    {
      "cell_type": "code",
      "source": [
        ""
      ],
      "metadata": {
        "id": "nxO4vy5ROLzX"
      },
      "execution_count": null,
      "outputs": []
    },
    {
      "cell_type": "code",
      "source": [
        ""
      ],
      "metadata": {
        "id": "pbx4EPN_OLwZ"
      },
      "execution_count": null,
      "outputs": []
    },
    {
      "cell_type": "code",
      "source": [
        ""
      ],
      "metadata": {
        "id": "VQEIAOccOLt6"
      },
      "execution_count": null,
      "outputs": []
    },
    {
      "cell_type": "code",
      "source": [
        ""
      ],
      "metadata": {
        "id": "lE313FgzOLre"
      },
      "execution_count": null,
      "outputs": []
    },
    {
      "cell_type": "code",
      "source": [
        ""
      ],
      "metadata": {
        "id": "AoPeWnPEOLoq"
      },
      "execution_count": null,
      "outputs": []
    },
    {
      "cell_type": "code",
      "source": [
        ""
      ],
      "metadata": {
        "id": "pWWlFNwyOLly"
      },
      "execution_count": null,
      "outputs": []
    },
    {
      "cell_type": "code",
      "source": [
        ""
      ],
      "metadata": {
        "id": "fm73aPZnOLhZ"
      },
      "execution_count": null,
      "outputs": []
    }
  ]
}