{
  "nbformat": 4,
  "nbformat_minor": 0,
  "metadata": {
    "colab": {
      "name": "Clustering.ipynb",
      "provenance": []
    },
    "kernelspec": {
      "name": "python3",
      "display_name": "Python 3"
    },
    "language_info": {
      "name": "python"
    }
  },
  "cells": [
    {
      "cell_type": "code",
      "execution_count": 6,
      "metadata": {
        "id": "JCDCNzSGbsRP"
      },
      "outputs": [],
      "source": [
        "#!pip install pyspark"
      ]
    },
    {
      "cell_type": "code",
      "source": [
        "from pyspark.ml import Pipeline\n",
        "from pyspark.ml.clustering import KMeans\n",
        "from pyspark.ml.feature import StandardScaler, VectorAssembler\n",
        "from pyspark.sql import SparkSession\n",
        "import warnings\n",
        "warnings.filterwarnings('ignore')\n",
        "from pyspark.sql import *\n",
        "from pyspark.ml.evaluation import ClusteringEvaluator"
      ],
      "metadata": {
        "id": "9MpaR1O_b4fs"
      },
      "execution_count": 39,
      "outputs": []
    },
    {
      "cell_type": "code",
      "source": [
        "spark = SparkSession.builder \\\n",
        ".appName(\"KMeansMallCustomerBasic\") \\\n",
        ".getOrCreate()"
      ],
      "metadata": {
        "id": "TR1ZnbhVb8jH"
      },
      "execution_count": 4,
      "outputs": []
    },
    {
      "cell_type": "code",
      "source": [
        "df = spark.read.format(\"csv\") \\\n",
        ".option(\"header\", True) \\\n",
        ".option(\"sep\",\",\") \\\n",
        ".option(\"inferSchema\",True) \\\n",
        ".load(\"/content/Mall_Customers.csv\")"
      ],
      "metadata": {
        "id": "3m9aOzTMb8fv"
      },
      "execution_count": 5,
      "outputs": []
    },
    {
      "cell_type": "code",
      "source": [
        "df.limit(4).toPandas().head()"
      ],
      "metadata": {
        "colab": {
          "base_uri": "https://localhost:8080/",
          "height": 170
        },
        "id": "5-KWlkczb8dI",
        "outputId": "eab0e346-3daf-4c7f-ab74-f56f53ca659a"
      },
      "execution_count": 7,
      "outputs": [
        {
          "output_type": "execute_result",
          "data": {
            "text/html": [
              "<div>\n",
              "<style scoped>\n",
              "    .dataframe tbody tr th:only-of-type {\n",
              "        vertical-align: middle;\n",
              "    }\n",
              "\n",
              "    .dataframe tbody tr th {\n",
              "        vertical-align: top;\n",
              "    }\n",
              "\n",
              "    .dataframe thead th {\n",
              "        text-align: right;\n",
              "    }\n",
              "</style>\n",
              "<table border=\"1\" class=\"dataframe\">\n",
              "  <thead>\n",
              "    <tr style=\"text-align: right;\">\n",
              "      <th></th>\n",
              "      <th>CustomerID</th>\n",
              "      <th>Gender</th>\n",
              "      <th>Age</th>\n",
              "      <th>Annual Income (k$)</th>\n",
              "      <th>Spending Score (1-100)</th>\n",
              "    </tr>\n",
              "  </thead>\n",
              "  <tbody>\n",
              "    <tr>\n",
              "      <th>0</th>\n",
              "      <td>1</td>\n",
              "      <td>Male</td>\n",
              "      <td>19</td>\n",
              "      <td>15</td>\n",
              "      <td>39</td>\n",
              "    </tr>\n",
              "    <tr>\n",
              "      <th>1</th>\n",
              "      <td>2</td>\n",
              "      <td>Male</td>\n",
              "      <td>21</td>\n",
              "      <td>15</td>\n",
              "      <td>81</td>\n",
              "    </tr>\n",
              "    <tr>\n",
              "      <th>2</th>\n",
              "      <td>3</td>\n",
              "      <td>Female</td>\n",
              "      <td>20</td>\n",
              "      <td>16</td>\n",
              "      <td>6</td>\n",
              "    </tr>\n",
              "    <tr>\n",
              "      <th>3</th>\n",
              "      <td>4</td>\n",
              "      <td>Female</td>\n",
              "      <td>23</td>\n",
              "      <td>16</td>\n",
              "      <td>77</td>\n",
              "    </tr>\n",
              "  </tbody>\n",
              "</table>\n",
              "</div>"
            ],
            "text/plain": [
              "   CustomerID  Gender  Age  Annual Income (k$)  Spending Score (1-100)\n",
              "0           1    Male   19                  15                      39\n",
              "1           2    Male   21                  15                      81\n",
              "2           3  Female   20                  16                       6\n",
              "3           4  Female   23                  16                      77"
            ]
          },
          "metadata": {},
          "execution_count": 7
        }
      ]
    },
    {
      "cell_type": "code",
      "source": [
        "df.columns"
      ],
      "metadata": {
        "colab": {
          "base_uri": "https://localhost:8080/"
        },
        "id": "GNR8b_Wrc8kY",
        "outputId": "542d471b-b3b5-44e4-8268-b399c923e7b0"
      },
      "execution_count": 14,
      "outputs": [
        {
          "output_type": "execute_result",
          "data": {
            "text/plain": [
              "['CustomerID', 'Gender', 'Age', 'Annual Income (k$)', 'Spending Score (1-100)']"
            ]
          },
          "metadata": {},
          "execution_count": 14
        }
      ]
    },
    {
      "cell_type": "code",
      "source": [
        "from pyspark.sql.functions import col\n",
        "df = df.select(col(\"Annual Income (k$)\").alias(\"Annual_Income\"), col(\"Spending Score (1-100)\").alias(\"Spending_Score\"))"
      ],
      "metadata": {
        "id": "lwKbw0HaewPO"
      },
      "execution_count": 24,
      "outputs": []
    },
    {
      "cell_type": "code",
      "source": [
        "df.describe().show()"
      ],
      "metadata": {
        "colab": {
          "base_uri": "https://localhost:8080/"
        },
        "id": "mxpaDBgLb8af",
        "outputId": "70d38963-da74-4c4b-fcc8-ac06421060f2"
      },
      "execution_count": 25,
      "outputs": [
        {
          "output_type": "stream",
          "name": "stdout",
          "text": [
            "+-------+-----------------+------------------+\n",
            "|summary|    Annual_Income|    Spending_Score|\n",
            "+-------+-----------------+------------------+\n",
            "|  count|              200|               200|\n",
            "|   mean|            60.56|              50.2|\n",
            "| stddev|26.26472116527124|25.823521668370173|\n",
            "|    min|               15|                 1|\n",
            "|    max|              137|                99|\n",
            "+-------+-----------------+------------------+\n",
            "\n"
          ]
        }
      ]
    },
    {
      "cell_type": "code",
      "source": [
        "vector_assembler = VectorAssembler() \\\n",
        ".setInputCols(['Annual_Income','Spending_Score']) \\\n",
        ".setOutputCol('features')\n"
      ],
      "metadata": {
        "id": "k1fS7X9Db8X4"
      },
      "execution_count": 31,
      "outputs": []
    },
    {
      "cell_type": "code",
      "source": [
        "standard_scaler = StandardScaler() \\\n",
        ".setInputCol('features') \\\n",
        ".setOutputCol('scaled_features')"
      ],
      "metadata": {
        "id": "XSvICD8ub8Ux"
      },
      "execution_count": 32,
      "outputs": []
    },
    {
      "cell_type": "code",
      "source": [
        "def runKMeans(df,k):\n",
        "  kmeans_obj = KMeans() \\\n",
        "  .setSeed(142) \\\n",
        "  .setK(k) \\\n",
        "  .setPredictionCol('cluster') \\\n",
        "  .setFeaturesCol('scaled_features') \\\n",
        "  .setMaxIter(40) \\\n",
        "  .setTol(1.0e-5)\n",
        "\n",
        "  pipeline_obj = Pipeline() \\\n",
        "  .setStages([vector_assembler, standard_scaler, kmeans_obj])\n",
        "\n",
        "\n",
        "  pipeline_model = pipeline_obj.fit(df)\n",
        "  return pipeline_model\n",
        "\n"
      ],
      "metadata": {
        "id": "vksrbQY7b8SI"
      },
      "execution_count": 46,
      "outputs": []
    },
    {
      "cell_type": "code",
      "source": [
        "for k in range(2,11):\n",
        "    pipeline_model = runKMeans(df, k)\n",
        "    transformed_df = pipeline_model.transform(df)\n",
        "    \n",
        "    evaluator = ClusteringEvaluator() \\\n",
        "    .setFeaturesCol('scaled_features') \\\n",
        "    .setPredictionCol('cluster') \\\n",
        "    .setMetricName('silhouette')\n",
        "    \n",
        "    score = evaluator.evaluate(transformed_df)\n",
        "    \n",
        "    print(k, score)"
      ],
      "metadata": {
        "colab": {
          "base_uri": "https://localhost:8080/"
        },
        "id": "jt4ATnB6g8bk",
        "outputId": "00091776-3d2f-4091-d191-ddf5fc2e1fcf"
      },
      "execution_count": 47,
      "outputs": [
        {
          "output_type": "stream",
          "name": "stdout",
          "text": [
            "2 0.452706667734966\n",
            "3 0.6288672765684975\n",
            "4 0.6572938259032692\n",
            "5 0.7408351139612729\n",
            "6 0.7263562509896634\n",
            "7 0.7236275795916091\n",
            "8 0.6884908828073537\n",
            "9 0.6258921742873865\n",
            "10 0.6372440905182242\n"
          ]
        }
      ]
    },
    {
      "cell_type": "code",
      "source": [
        "transformed_df.limit(5).toPandas().head()"
      ],
      "metadata": {
        "colab": {
          "base_uri": "https://localhost:8080/",
          "height": 201
        },
        "id": "X5q9mA27fiup",
        "outputId": "2ef39043-a736-4797-f2b5-df1810bfd113"
      },
      "execution_count": 37,
      "outputs": [
        {
          "output_type": "execute_result",
          "data": {
            "text/html": [
              "<div>\n",
              "<style scoped>\n",
              "    .dataframe tbody tr th:only-of-type {\n",
              "        vertical-align: middle;\n",
              "    }\n",
              "\n",
              "    .dataframe tbody tr th {\n",
              "        vertical-align: top;\n",
              "    }\n",
              "\n",
              "    .dataframe thead th {\n",
              "        text-align: right;\n",
              "    }\n",
              "</style>\n",
              "<table border=\"1\" class=\"dataframe\">\n",
              "  <thead>\n",
              "    <tr style=\"text-align: right;\">\n",
              "      <th></th>\n",
              "      <th>Annual_Income</th>\n",
              "      <th>Spending_Score</th>\n",
              "      <th>features</th>\n",
              "      <th>scaled_features</th>\n",
              "      <th>cluster</th>\n",
              "    </tr>\n",
              "  </thead>\n",
              "  <tbody>\n",
              "    <tr>\n",
              "      <th>0</th>\n",
              "      <td>15</td>\n",
              "      <td>39</td>\n",
              "      <td>[15.0, 39.0]</td>\n",
              "      <td>[0.5711082903036444, 1.510251022337088]</td>\n",
              "      <td>4</td>\n",
              "    </tr>\n",
              "    <tr>\n",
              "      <th>1</th>\n",
              "      <td>15</td>\n",
              "      <td>81</td>\n",
              "      <td>[15.0, 81.0]</td>\n",
              "      <td>[0.5711082903036444, 3.1366752002385674]</td>\n",
              "      <td>2</td>\n",
              "    </tr>\n",
              "    <tr>\n",
              "      <th>2</th>\n",
              "      <td>16</td>\n",
              "      <td>6</td>\n",
              "      <td>[16.0, 6.0]</td>\n",
              "      <td>[0.6091821763238874, 0.2323463111287828]</td>\n",
              "      <td>4</td>\n",
              "    </tr>\n",
              "    <tr>\n",
              "      <th>3</th>\n",
              "      <td>16</td>\n",
              "      <td>77</td>\n",
              "      <td>[16.0, 77.0]</td>\n",
              "      <td>[0.6091821763238874, 2.9817776594860455]</td>\n",
              "      <td>2</td>\n",
              "    </tr>\n",
              "    <tr>\n",
              "      <th>4</th>\n",
              "      <td>17</td>\n",
              "      <td>40</td>\n",
              "      <td>[17.0, 40.0]</td>\n",
              "      <td>[0.6472560623441304, 1.5489754075252185]</td>\n",
              "      <td>4</td>\n",
              "    </tr>\n",
              "  </tbody>\n",
              "</table>\n",
              "</div>"
            ],
            "text/plain": [
              "   Annual_Income  ...  cluster\n",
              "0             15  ...        4\n",
              "1             15  ...        2\n",
              "2             16  ...        4\n",
              "3             16  ...        2\n",
              "4             17  ...        4\n",
              "\n",
              "[5 rows x 5 columns]"
            ]
          },
          "metadata": {},
          "execution_count": 37
        }
      ]
    },
    {
      "cell_type": "code",
      "source": [
        ""
      ],
      "metadata": {
        "id": "K7byOOuWgNJz"
      },
      "execution_count": null,
      "outputs": []
    }
  ]
}