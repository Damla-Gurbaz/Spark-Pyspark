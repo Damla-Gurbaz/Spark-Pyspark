{
  "nbformat": 4,
  "nbformat_minor": 0,
  "metadata": {
    "colab": {
      "name": "ApacheSpark-RDD.ipynb",
      "provenance": []
    },
    "kernelspec": {
      "name": "python3",
      "display_name": "Python 3"
    },
    "language_info": {
      "name": "python"
    }
  },
  "cells": [
    {
      "cell_type": "code",
      "execution_count": 1,
      "metadata": {
        "colab": {
          "base_uri": "https://localhost:8080/"
        },
        "id": "xrcuaL2EC7Tp",
        "outputId": "9215922e-4d9e-45de-9fe2-43324c98989f"
      },
      "outputs": [
        {
          "output_type": "stream",
          "name": "stdout",
          "text": [
            "Requirement already satisfied: pyspark in /usr/local/lib/python3.7/dist-packages (3.2.0)\n",
            "Requirement already satisfied: py4j==0.10.9.2 in /usr/local/lib/python3.7/dist-packages (from pyspark) (0.10.9.2)\n"
          ]
        }
      ],
      "source": [
        "!pip install pyspark\n"
      ]
    },
    {
      "cell_type": "code",
      "source": [
        "from pyspark.sql import SparkSession\n",
        "from pyspark import SparkContext\n",
        "from pyspark.conf import SparkConf"
      ],
      "metadata": {
        "id": "dJtm1DwMWSPU"
      },
      "execution_count": 2,
      "outputs": []
    },
    {
      "cell_type": "code",
      "source": [
        "sparkConf = SparkConf()\\\n",
        ".setMaster('local[4]')\\\n",
        ".setAppName('RDD')\\\n",
        ".setExecutorEnv('spark.executor.memory', '4g')\\\n",
        ".setExecutorEnv('spark.driver.memory', '4g')\n",
        "\n",
        "\n",
        "sc = SparkContext(conf = sparkConf)"
      ],
      "metadata": {
        "id": "K695oAnOV8Rd"
      },
      "execution_count": 3,
      "outputs": []
    },
    {
      "cell_type": "markdown",
      "source": [
        "## 🔍***PairRDD Transformations:***\n",
        "\n",
        "---\n",
        "\n",
        "\n",
        "\n",
        "---\n",
        "\n",
        "\n",
        "\n"
      ],
      "metadata": {
        "id": "o2WRV0FXX4Np"
      }
    },
    {
      "cell_type": "markdown",
      "source": [
        "### **📌filter()**\n",
        "\n",
        "\n",
        "\n"
      ],
      "metadata": {
        "id": "E-ucG6WrYxKx"
      }
    },
    {
      "cell_type": "code",
      "source": [
        "age = [('Alex', 35), ('Anna', 26), ('Max', 42)]\n",
        "\n",
        "age_rdd = sc.parallelize(age)\n",
        "age_rdd.filter(lambda key_value : key_value[1] < 30).collect()"
      ],
      "metadata": {
        "colab": {
          "base_uri": "https://localhost:8080/"
        },
        "id": "PmcLLa_ojkTP",
        "outputId": "edea358a-6c22-4b8b-eeb9-3c0c032cc5c1"
      },
      "execution_count": 4,
      "outputs": [
        {
          "output_type": "execute_result",
          "data": {
            "text/plain": [
              "[('Anna', 26)]"
            ]
          },
          "metadata": {},
          "execution_count": 4
        }
      ]
    },
    {
      "cell_type": "code",
      "source": [
        "age_rdd.filter(lambda key_value : key_value[0] == 'Max').collect()"
      ],
      "metadata": {
        "colab": {
          "base_uri": "https://localhost:8080/"
        },
        "id": "1zsSZEkSjkQH",
        "outputId": "44db1586-e4b4-4fe6-d927-4bd293af8051"
      },
      "execution_count": 5,
      "outputs": [
        {
          "output_type": "execute_result",
          "data": {
            "text/plain": [
              "[('Max', 42)]"
            ]
          },
          "metadata": {},
          "execution_count": 5
        }
      ]
    },
    {
      "cell_type": "markdown",
      "source": [
        "### **📌reduceByKey()**"
      ],
      "metadata": {
        "id": "RCtty2OQaMMY"
      }
    },
    {
      "cell_type": "code",
      "source": [
        "rdd = sc.parallelize([(1,2), (3,4), (3,6)])\n",
        "\n",
        "rdd.reduceByKey(lambda x,y : x+y).collect()"
      ],
      "metadata": {
        "colab": {
          "base_uri": "https://localhost:8080/"
        },
        "id": "BmloRCfajkNP",
        "outputId": "b4c5dc26-347e-49cc-b083-db784bdfa6f6"
      },
      "execution_count": 6,
      "outputs": [
        {
          "output_type": "execute_result",
          "data": {
            "text/plain": [
              "[(1, 2), (3, 10)]"
            ]
          },
          "metadata": {},
          "execution_count": 6
        }
      ]
    },
    {
      "cell_type": "markdown",
      "source": [
        "### **📌groupByKey()**"
      ],
      "metadata": {
        "id": "PZg9jsMOajbu"
      }
    },
    {
      "cell_type": "code",
      "source": [
        "rdd.groupByKey().collect()"
      ],
      "metadata": {
        "colab": {
          "base_uri": "https://localhost:8080/"
        },
        "id": "z-li9PTQjkKU",
        "outputId": "fb169cce-a45d-43a3-9fe6-173fea487874"
      },
      "execution_count": 7,
      "outputs": [
        {
          "output_type": "execute_result",
          "data": {
            "text/plain": [
              "[(1, <pyspark.resultiterable.ResultIterable at 0x7f3a9ed89950>),\n",
              " (3, <pyspark.resultiterable.ResultIterable at 0x7f3a9a92d750>)]"
            ]
          },
          "metadata": {},
          "execution_count": 7
        }
      ]
    },
    {
      "cell_type": "markdown",
      "source": [
        "### **📌combineByKey()**"
      ],
      "metadata": {
        "id": "vcvQI5qxa02F"
      }
    },
    {
      "cell_type": "code",
      "source": [
        "result = rdd.combineByKey((lambda value : (value,1)),(lambda acc, value: (acc[0]+ value, acc[1] + 1)), (lambda acc1, acc2: (acc1[0] + acc2[0], acc1[1] + acc2[1])))\n",
        "result.collect()"
      ],
      "metadata": {
        "colab": {
          "base_uri": "https://localhost:8080/"
        },
        "id": "EoUBkHRRjkGu",
        "outputId": "e5eff5ea-8842-41eb-df49-bbdc33b6361a"
      },
      "execution_count": 8,
      "outputs": [
        {
          "output_type": "execute_result",
          "data": {
            "text/plain": [
              "[(1, (2, 1)), (3, (10, 2))]"
            ]
          },
          "metadata": {},
          "execution_count": 8
        }
      ]
    },
    {
      "cell_type": "markdown",
      "source": [
        "### **📌mapValues()**"
      ],
      "metadata": {
        "id": "juFB9yvGcb8D"
      }
    },
    {
      "cell_type": "code",
      "source": [
        "rdd.mapValues(lambda x:x*100).collect()"
      ],
      "metadata": {
        "colab": {
          "base_uri": "https://localhost:8080/"
        },
        "id": "yHhe49p9jkAL",
        "outputId": "bbd6d874-f96b-4b47-95fc-0aaafdadf2dd"
      },
      "execution_count": 9,
      "outputs": [
        {
          "output_type": "execute_result",
          "data": {
            "text/plain": [
              "[(1, 200), (3, 400), (3, 600)]"
            ]
          },
          "metadata": {},
          "execution_count": 9
        }
      ]
    },
    {
      "cell_type": "code",
      "source": [
        "rdd.keys().collect()"
      ],
      "metadata": {
        "colab": {
          "base_uri": "https://localhost:8080/"
        },
        "id": "cwouMGcSjj59",
        "outputId": "cddbd8ed-cc8b-41c7-a043-c8d11105959f"
      },
      "execution_count": 10,
      "outputs": [
        {
          "output_type": "execute_result",
          "data": {
            "text/plain": [
              "[1, 3, 3]"
            ]
          },
          "metadata": {},
          "execution_count": 10
        }
      ]
    },
    {
      "cell_type": "code",
      "source": [
        "rdd.values().collect()"
      ],
      "metadata": {
        "colab": {
          "base_uri": "https://localhost:8080/"
        },
        "id": "SI0P-t2djjwE",
        "outputId": "789e9b43-adb0-4973-dddc-199db9659587"
      },
      "execution_count": 11,
      "outputs": [
        {
          "output_type": "execute_result",
          "data": {
            "text/plain": [
              "[2, 4, 6]"
            ]
          },
          "metadata": {},
          "execution_count": 11
        }
      ]
    },
    {
      "cell_type": "markdown",
      "source": [
        "### **📌sortByKey()**"
      ],
      "metadata": {
        "id": "3vIxj4AedE4-"
      }
    },
    {
      "cell_type": "code",
      "source": [
        "rdd.sortByKey().collect()"
      ],
      "metadata": {
        "colab": {
          "base_uri": "https://localhost:8080/"
        },
        "id": "-65OA092c_lr",
        "outputId": "92b628d7-26b9-4143-a7d7-110e9865d1c5"
      },
      "execution_count": 12,
      "outputs": [
        {
          "output_type": "execute_result",
          "data": {
            "text/plain": [
              "[(1, 2), (3, 4), (3, 6)]"
            ]
          },
          "metadata": {},
          "execution_count": 12
        }
      ]
    },
    {
      "cell_type": "markdown",
      "source": [
        "### **📌subtractByKey()**\n"
      ],
      "metadata": {
        "id": "Zfzy7KLmdWj4"
      }
    },
    {
      "cell_type": "code",
      "source": [
        "rdd2 = sc.parallelize([(3,9)])\n",
        "rdd.subtractByKey(rdd2).collect()"
      ],
      "metadata": {
        "colab": {
          "base_uri": "https://localhost:8080/"
        },
        "id": "qcEc9E1_dNEj",
        "outputId": "d9ad98ca-9ac4-455b-95e6-d8391c2d174f"
      },
      "execution_count": 13,
      "outputs": [
        {
          "output_type": "execute_result",
          "data": {
            "text/plain": [
              "[(1, 2)]"
            ]
          },
          "metadata": {},
          "execution_count": 13
        }
      ]
    },
    {
      "cell_type": "markdown",
      "source": [
        "### **📌join()**"
      ],
      "metadata": {
        "id": "FsaY67bAdtgm"
      }
    },
    {
      "cell_type": "code",
      "source": [
        "#sadece ortak keyi olanlari join edecek!\n",
        "rdd.join(rdd2).collect()"
      ],
      "metadata": {
        "colab": {
          "base_uri": "https://localhost:8080/"
        },
        "id": "No_25w1qdtHp",
        "outputId": "264e6379-f63c-40c8-c91d-f4541ebf9aad"
      },
      "execution_count": 14,
      "outputs": [
        {
          "output_type": "execute_result",
          "data": {
            "text/plain": [
              "[(3, (4, 9)), (3, (6, 9))]"
            ]
          },
          "metadata": {},
          "execution_count": 14
        }
      ]
    },
    {
      "cell_type": "markdown",
      "source": [
        "### **📌rightOuterJoin()**"
      ],
      "metadata": {
        "id": "cVhtmqu_eDez"
      }
    },
    {
      "cell_type": "code",
      "source": [
        "rdd.rightOuterJoin(rdd2).collect()"
      ],
      "metadata": {
        "colab": {
          "base_uri": "https://localhost:8080/"
        },
        "id": "ufAsrXAydc9C",
        "outputId": "f73e0a45-4e2e-4ff1-b93e-22bfa7c8a30d"
      },
      "execution_count": 15,
      "outputs": [
        {
          "output_type": "execute_result",
          "data": {
            "text/plain": [
              "[(3, (4, 9)), (3, (6, 9))]"
            ]
          },
          "metadata": {},
          "execution_count": 15
        }
      ]
    },
    {
      "cell_type": "markdown",
      "source": [
        "### **📌leftOuterJoin()**"
      ],
      "metadata": {
        "id": "1Fb4lZ4IeZ3g"
      }
    },
    {
      "cell_type": "code",
      "source": [
        "rdd.leftOuterJoin(rdd2).collect()"
      ],
      "metadata": {
        "colab": {
          "base_uri": "https://localhost:8080/"
        },
        "id": "XZrHxzJ6ef78",
        "outputId": "d924580c-06e1-4b1b-ac66-1da7b44f0572"
      },
      "execution_count": 16,
      "outputs": [
        {
          "output_type": "execute_result",
          "data": {
            "text/plain": [
              "[(1, (2, None)), (3, (4, 9)), (3, (6, 9))]"
            ]
          },
          "metadata": {},
          "execution_count": 16
        }
      ]
    },
    {
      "cell_type": "markdown",
      "source": [
        "### **📌cogroup()**"
      ],
      "metadata": {
        "id": "cT-hQuu8eqYe"
      }
    },
    {
      "cell_type": "code",
      "source": [
        "rdd.cogroup(rdd2).collect()"
      ],
      "metadata": {
        "colab": {
          "base_uri": "https://localhost:8080/"
        },
        "id": "izeOh-QheiWq",
        "outputId": "b40ad35e-beba-4b80-967f-411f9c06bcf0"
      },
      "execution_count": 17,
      "outputs": [
        {
          "output_type": "execute_result",
          "data": {
            "text/plain": [
              "[(1,\n",
              "  (<pyspark.resultiterable.ResultIterable at 0x7f3a9a953b90>,\n",
              "   <pyspark.resultiterable.ResultIterable at 0x7f3aa16f9390>)),\n",
              " (3,\n",
              "  (<pyspark.resultiterable.ResultIterable at 0x7f3a9a93d090>,\n",
              "   <pyspark.resultiterable.ResultIterable at 0x7f3a9a9537d0>))]"
            ]
          },
          "metadata": {},
          "execution_count": 17
        }
      ]
    },
    {
      "cell_type": "markdown",
      "source": [
        "## ***⏳RDD Filter and Map Transformation***"
      ],
      "metadata": {
        "id": "XlcQupG4fbbu"
      }
    },
    {
      "cell_type": "code",
      "source": [
        "retailRdd = sc.textFile('/content/OnlineRetail.csv')"
      ],
      "metadata": {
        "id": "udp1PZizey8r"
      },
      "execution_count": 18,
      "outputs": []
    },
    {
      "cell_type": "code",
      "source": [
        "retailRdd.take(5)"
      ],
      "metadata": {
        "colab": {
          "base_uri": "https://localhost:8080/"
        },
        "id": "hfWLoPjugCHr",
        "outputId": "34aa9bff-0587-4bfe-b329-c15e052cc65d"
      },
      "execution_count": 19,
      "outputs": [
        {
          "output_type": "execute_result",
          "data": {
            "text/plain": [
              "['InvoiceNo;StockCode;Description;Quantity;InvoiceDate;UnitPrice;CustomerID;Country',\n",
              " '536365;85123A;WHITE HANGING HEART T-LIGHT HOLDER;6;1.12.2010 08:26;2,55;17850;United Kingdom',\n",
              " '536365;71053;WHITE METAL LANTERN;6;1.12.2010 08:26;3,39;17850;United Kingdom',\n",
              " '536365;84406B;CREAM CUPID HEARTS COAT HANGER;8;1.12.2010 08:26;2,75;17850;United Kingdom',\n",
              " '536365;84029G;KNITTED UNION FLAG HOT WATER BOTTLE;6;1.12.2010 08:26;3,39;17850;United Kingdom']"
            ]
          },
          "metadata": {},
          "execution_count": 19
        }
      ]
    },
    {
      "cell_type": "markdown",
      "source": [
        "***`without header`***"
      ],
      "metadata": {
        "id": "vI-Cjk8JkFQE"
      }
    },
    {
      "cell_type": "code",
      "source": [
        "firstline = retailRdd.first()\n",
        "firstlinerdd = sc.parallelize([firstline])\n",
        "firstlinerdd.collect()"
      ],
      "metadata": {
        "colab": {
          "base_uri": "https://localhost:8080/"
        },
        "id": "9_31YsSRgNIV",
        "outputId": "e032c908-5a64-4af7-cde5-f3a385278c31"
      },
      "execution_count": 20,
      "outputs": [
        {
          "output_type": "execute_result",
          "data": {
            "text/plain": [
              "['InvoiceNo;StockCode;Description;Quantity;InvoiceDate;UnitPrice;CustomerID;Country']"
            ]
          },
          "metadata": {},
          "execution_count": 20
        }
      ]
    },
    {
      "cell_type": "code",
      "source": [
        " retail_Rdd = retailRdd.subtract(firstlinerdd)\n",
        " retail_Rdd.take(2)"
      ],
      "metadata": {
        "colab": {
          "base_uri": "https://localhost:8080/"
        },
        "id": "NY2yIjcSjzS0",
        "outputId": "8ee48eb0-3e4b-4124-e141-740ce7e69b3d"
      },
      "execution_count": 21,
      "outputs": [
        {
          "output_type": "execute_result",
          "data": {
            "text/plain": [
              "['536367;84969;BOX OF 6 ASSORTED COLOUR TEASPOONS;6;1.12.2010 08:34;4,25;13047;United Kingdom',\n",
              " '536369;21756;BATH BUILDING BLOCK WORD;3;1.12.2010 08:35;5,95;13047;United Kingdom']"
            ]
          },
          "metadata": {},
          "execution_count": 21
        }
      ]
    },
    {
      "cell_type": "markdown",
      "source": [
        "***Let's filter orders with InvoiceNo=536367***\n",
        "\n"
      ],
      "metadata": {
        "id": "yoorKCnukTp1"
      }
    },
    {
      "cell_type": "code",
      "source": [
        "retail_Rdd.map(lambda x : x.split(';')).filter(lambda line : line[0] == '536367').take(1)"
      ],
      "metadata": {
        "colab": {
          "base_uri": "https://localhost:8080/"
        },
        "id": "IrMjsoe4i6r8",
        "outputId": "5dda203f-591e-4555-a3d7-2de1c3550dae"
      },
      "execution_count": 22,
      "outputs": [
        {
          "output_type": "execute_result",
          "data": {
            "text/plain": [
              "[['536367',\n",
              "  '84969',\n",
              "  'BOX OF 6 ASSORTED COLOUR TEASPOONS',\n",
              "  '6',\n",
              "  '1.12.2010 08:34',\n",
              "  '4,25',\n",
              "  '13047',\n",
              "  'United Kingdom']]"
            ]
          },
          "metadata": {},
          "execution_count": 22
        }
      ]
    },
    {
      "cell_type": "markdown",
      "source": [
        "***Let's filter the unit price higher than 30***"
      ],
      "metadata": {
        "id": "h2A3azyyoIFo"
      }
    },
    {
      "cell_type": "code",
      "source": [
        "retail_Rdd.map(lambda x : x.split(';')).filter(lambda line : int(line[3]) > 30).take(2)"
      ],
      "metadata": {
        "colab": {
          "base_uri": "https://localhost:8080/"
        },
        "id": "hVxdeeSUlWBo",
        "outputId": "8fddd380-9435-4a14-dc2d-7b56f17e4861"
      },
      "execution_count": 23,
      "outputs": [
        {
          "output_type": "execute_result",
          "data": {
            "text/plain": [
              "[['536378',\n",
              "  '85183B',\n",
              "  'CHARLIE & LOLA WASTEPAPER BIN FLORA',\n",
              "  '48',\n",
              "  '1.12.2010 09:37',\n",
              "  '1,25',\n",
              "  '14688',\n",
              "  'United Kingdom'],\n",
              " ['536381',\n",
              "  '22719',\n",
              "  'GUMBALL MONOCHROME COAT RACK',\n",
              "  '36',\n",
              "  '1.12.2010 09:41',\n",
              "  '1,06',\n",
              "  '15311',\n",
              "  'United Kingdom']]"
            ]
          },
          "metadata": {},
          "execution_count": 23
        }
      ]
    },
    {
      "cell_type": "code",
      "source": [
        "retail_Rdd.filter(lambda line : int(line.split(\";\")[3]) >30).take(2)\n",
        "\n"
      ],
      "metadata": {
        "colab": {
          "base_uri": "https://localhost:8080/"
        },
        "id": "usSaWBozo1ds",
        "outputId": "44d53d91-23c8-4c97-a848-c70e791c05b7"
      },
      "execution_count": 24,
      "outputs": [
        {
          "output_type": "execute_result",
          "data": {
            "text/plain": [
              "['536378;85183B;CHARLIE & LOLA WASTEPAPER BIN FLORA;48;1.12.2010 09:37;1,25;14688;United Kingdom',\n",
              " '536381;22719;GUMBALL MONOCHROME COAT RACK;36;1.12.2010 09:41;1,06;15311;United Kingdom']"
            ]
          },
          "metadata": {},
          "execution_count": 24
        }
      ]
    },
    {
      "cell_type": "markdown",
      "source": [
        "***Filter out COFFEE in description***"
      ],
      "metadata": {
        "id": "sOr2jaTwqMbk"
      }
    },
    {
      "cell_type": "code",
      "source": [
        "retail_Rdd.filter(lambda line :'COFFEE' in line.split(\";\")[2]).take(2)"
      ],
      "metadata": {
        "colab": {
          "base_uri": "https://localhost:8080/"
        },
        "id": "gJvpLC_BpD0l",
        "outputId": "1f14e8ae-e7e0-4628-9759-f13bab9db5db"
      },
      "execution_count": 25,
      "outputs": [
        {
          "output_type": "execute_result",
          "data": {
            "text/plain": [
              "['536739;85159A;BLACK TEA,COFFEE,SUGAR JARS;2;2.12.2010 13:08;6,35;14180;United Kingdom',\n",
              " '536750;37370;RETRO COFFEE MUGS ASSORTED;6;2.12.2010 14:04;1,06;17850;United Kingdom']"
            ]
          },
          "metadata": {},
          "execution_count": 25
        }
      ]
    },
    {
      "cell_type": "markdown",
      "source": [
        "***filter with function***"
      ],
      "metadata": {
        "id": "0anQmd3ZrQc4"
      }
    },
    {
      "cell_type": "code",
      "source": [
        "def QuantandDescrip(x):\n",
        "  quantity = int(x.split(';')[3])\n",
        "  description = x.split(';')[2]\n",
        "\n",
        "  return (quantity > 2000) & ('PAPER' in description)"
      ],
      "metadata": {
        "id": "gKNtOt0rqpR0"
      },
      "execution_count": 26,
      "outputs": []
    },
    {
      "cell_type": "code",
      "source": [
        "retail_Rdd.filter(lambda x : QuantandDescrip(x)).take(8)"
      ],
      "metadata": {
        "colab": {
          "base_uri": "https://localhost:8080/"
        },
        "id": "iWsUsvb7yBeQ",
        "outputId": "d7688edc-6c1c-4eb9-a678-6e880cbdf04b"
      },
      "execution_count": 27,
      "outputs": [
        {
          "output_type": "execute_result",
          "data": {
            "text/plain": [
              "['578841;84826;ASSTD DESIGN 3D PAPER STICKERS;12540;25.11.2011 15:57;0;13256;United Kingdom',\n",
              " '581483;23843;PAPER CRAFT , LITTLE BIRDIE;80995;9.12.2011 09:15;2,08;16446;United Kingdom']"
            ]
          },
          "metadata": {},
          "execution_count": 27
        }
      ]
    },
    {
      "cell_type": "markdown",
      "source": [
        "***sum of canceled sales***"
      ],
      "metadata": {
        "id": "IGDpK8tOzzia"
      }
    },
    {
      "cell_type": "code",
      "source": [
        "def canceled_sales(line):\n",
        "  is_canceled = True if (line.split(';')[0].startswith('C')) else False\n",
        "  quantity = float(line.split(\";\")[3])\n",
        "  price = float(line.split(';')[5].replace(',','.'))\n",
        "  total = quantity * price\n",
        "\n",
        "  return (is_canceled, total)"
      ],
      "metadata": {
        "id": "RRPoOkeeyRtQ"
      },
      "execution_count": 28,
      "outputs": []
    },
    {
      "cell_type": "code",
      "source": [
        "retailTotal = retail_Rdd.map(canceled_sales).filter(lambda x:x[0]==True)\n",
        "retailTotal.take(5)"
      ],
      "metadata": {
        "colab": {
          "base_uri": "https://localhost:8080/"
        },
        "id": "nu0FzEn-33sW",
        "outputId": "8e50c475-0e93-47e2-e807-13bba523b6a7"
      },
      "execution_count": 29,
      "outputs": [
        {
          "output_type": "execute_result",
          "data": {
            "text/plain": [
              "[(True, -6.959999999999999),\n",
              " (True, -6.959999999999999),\n",
              " (True, -1.7),\n",
              " (True, -7.8),\n",
              " (True, -8.25)]"
            ]
          },
          "metadata": {},
          "execution_count": 29
        }
      ]
    },
    {
      "cell_type": "code",
      "source": [
        "reducedTotal = retailTotal.reduceByKey(lambda x,y:x+y)"
      ],
      "metadata": {
        "id": "cifXJvLT4l23"
      },
      "execution_count": 30,
      "outputs": []
    },
    {
      "cell_type": "code",
      "source": [
        "reducedTotal.map(lambda x: x[1]).take(2)"
      ],
      "metadata": {
        "colab": {
          "base_uri": "https://localhost:8080/"
        },
        "id": "j-XYRn_F4o0b",
        "outputId": "a737bc3f-d0af-4965-e2e8-7ee9c3161619"
      },
      "execution_count": 31,
      "outputs": [
        {
          "output_type": "execute_result",
          "data": {
            "text/plain": [
              "[-896812.4899999979]"
            ]
          },
          "metadata": {},
          "execution_count": 31
        }
      ]
    },
    {
      "cell_type": "markdown",
      "source": [
        "***Calculate average salary by occupation***"
      ],
      "metadata": {
        "id": "9vRVDkWl6yqo"
      }
    },
    {
      "cell_type": "code",
      "source": [
        "#sirano,isim,yas,meslek,sehir,aylik_gelir\n",
        "\n",
        "rdd_3 = sc.parallelize([\n",
        "                        \n",
        "(1,'Cemal',35,'Isci','Ankara',3500),\n",
        "(2,'Ceyda',42,'Memur','Kayseri',4200),\n",
        "(3,'Timur',30,'Müzisyen','Istanbul',9000),\n",
        "(4,'Burcu',29,'Pazarlamaci','Ankara',4200),\n",
        "(5,'Yasemin',23,'Pazarlamaci','Bursa',4800),\n",
        "(6,'Ali',33,'Memur','Ankara',4250),\n",
        "(7,'Dilek',29,'Pazarlamaci','Istanbul',7300),\n",
        "(8,'Murat',31,'Müzisyen','Istanbul',12000),\n",
        "(9,'Ahmet',33,'Doktor','Ankara',18000),\n",
        "(10,'Muhittin',46,'Berber','Istanbul',12000),\n",
        "(11,'Hicaziye',47,'Tuhafiyeci','Ankara',4800),\n",
        "(12,'Harun',43,'Tornacı','Ankara',4200),\n",
        "(13,'Hakkı',33,'Memur','Çorum',3750),\n",
        "(14,'Gülizar',37,'Doktor','İzmir',14250),\n",
        "(15,'Şehmuz',41,'Müzisyen','Ankara',8700)\n",
        "\n",
        "])"
      ],
      "metadata": {
        "id": "ybL2DuEA62DG"
      },
      "execution_count": 32,
      "outputs": []
    },
    {
      "cell_type": "code",
      "source": [
        "rdd_3.collect()"
      ],
      "metadata": {
        "colab": {
          "base_uri": "https://localhost:8080/"
        },
        "id": "u1Kii3xj8asP",
        "outputId": "e5cf14a8-5be1-4c83-838b-bc9b2de027b3"
      },
      "execution_count": 33,
      "outputs": [
        {
          "output_type": "execute_result",
          "data": {
            "text/plain": [
              "[(1, 'Cemal', 35, 'Isci', 'Ankara', 3500),\n",
              " (2, 'Ceyda', 42, 'Memur', 'Kayseri', 4200),\n",
              " (3, 'Timur', 30, 'Müzisyen', 'Istanbul', 9000),\n",
              " (4, 'Burcu', 29, 'Pazarlamaci', 'Ankara', 4200),\n",
              " (5, 'Yasemin', 23, 'Pazarlamaci', 'Bursa', 4800),\n",
              " (6, 'Ali', 33, 'Memur', 'Ankara', 4250),\n",
              " (7, 'Dilek', 29, 'Pazarlamaci', 'Istanbul', 7300),\n",
              " (8, 'Murat', 31, 'Müzisyen', 'Istanbul', 12000),\n",
              " (9, 'Ahmet', 33, 'Doktor', 'Ankara', 18000),\n",
              " (10, 'Muhittin', 46, 'Berber', 'Istanbul', 12000),\n",
              " (11, 'Hicaziye', 47, 'Tuhafiyeci', 'Ankara', 4800),\n",
              " (12, 'Harun', 43, 'Tornacı', 'Ankara', 4200),\n",
              " (13, 'Hakkı', 33, 'Memur', 'Çorum', 3750),\n",
              " (14, 'Gülizar', 37, 'Doktor', 'İzmir', 14250),\n",
              " (15, 'Şehmuz', 41, 'Müzisyen', 'Ankara', 8700)]"
            ]
          },
          "metadata": {},
          "execution_count": 33
        }
      ]
    },
    {
      "cell_type": "code",
      "source": [
        "def avg_salary(x):\n",
        "    meslek = x[3]\n",
        "    maas = float(x[5])\n",
        "    \n",
        "    return (meslek,maas)"
      ],
      "metadata": {
        "id": "e7g39ycq83bg"
      },
      "execution_count": 34,
      "outputs": []
    },
    {
      "cell_type": "code",
      "source": [
        "avg_salary_pairRDD = rdd_3.map(avg_salary)"
      ],
      "metadata": {
        "id": "4S9fDKjT-fNz"
      },
      "execution_count": 35,
      "outputs": []
    },
    {
      "cell_type": "code",
      "source": [
        "avg_salary_pairRDD.take(3)"
      ],
      "metadata": {
        "colab": {
          "base_uri": "https://localhost:8080/"
        },
        "id": "N9b235yg-nXh",
        "outputId": "e5cf2202-4983-4a34-f74d-a283fe5e5580"
      },
      "execution_count": 36,
      "outputs": [
        {
          "output_type": "execute_result",
          "data": {
            "text/plain": [
              "[('Isci', 3500.0), ('Memur', 4200.0), ('Müzisyen', 9000.0)]"
            ]
          },
          "metadata": {},
          "execution_count": 36
        }
      ]
    },
    {
      "cell_type": "code",
      "source": [
        "avg_salary = avg_salary_pairRDD.mapValues(lambda x: (x,1))"
      ],
      "metadata": {
        "id": "4X25wzAh-su-"
      },
      "execution_count": 37,
      "outputs": []
    },
    {
      "cell_type": "code",
      "source": [
        "avg_salary.take(5)"
      ],
      "metadata": {
        "colab": {
          "base_uri": "https://localhost:8080/"
        },
        "id": "FA53gSxrLX6j",
        "outputId": "46849018-6b92-4e47-fa37-d21c4d73f26b"
      },
      "execution_count": 38,
      "outputs": [
        {
          "output_type": "execute_result",
          "data": {
            "text/plain": [
              "[('Isci', (3500.0, 1)),\n",
              " ('Memur', (4200.0, 1)),\n",
              " ('Müzisyen', (9000.0, 1)),\n",
              " ('Pazarlamaci', (4200.0, 1)),\n",
              " ('Pazarlamaci', (4800.0, 1))]"
            ]
          },
          "metadata": {},
          "execution_count": 38
        }
      ]
    },
    {
      "cell_type": "code",
      "source": [
        "avg_salary_reduce =avg_salary.reduceByKey(lambda x,y: (x[0] + y[0], x[1] + y[1]))"
      ],
      "metadata": {
        "id": "ie_c2LxDLbVv"
      },
      "execution_count": 39,
      "outputs": []
    },
    {
      "cell_type": "code",
      "source": [
        "avg_salary_reduce.take(5)"
      ],
      "metadata": {
        "colab": {
          "base_uri": "https://localhost:8080/"
        },
        "id": "JiCs8e8MLuMc",
        "outputId": "28a59171-812d-4f8e-a665-8181ff48462e"
      },
      "execution_count": 40,
      "outputs": [
        {
          "output_type": "execute_result",
          "data": {
            "text/plain": [
              "[('Tornacı', (4200.0, 1)),\n",
              " ('Doktor', (32250.0, 2)),\n",
              " ('Berber', (12000.0, 1)),\n",
              " ('Memur', (12200.0, 3)),\n",
              " ('Pazarlamaci', (16300.0, 3))]"
            ]
          },
          "metadata": {},
          "execution_count": 40
        }
      ]
    },
    {
      "cell_type": "code",
      "source": [
        "average = avg_salary_reduce.mapValues(lambda x: x[0] / x[1]) \n",
        "average.collect()"
      ],
      "metadata": {
        "colab": {
          "base_uri": "https://localhost:8080/"
        },
        "id": "1EQ-JAdHLzFT",
        "outputId": "0bbcb6f6-fb5f-4538-a53b-8c3ee9d8dcf4"
      },
      "execution_count": 41,
      "outputs": [
        {
          "output_type": "execute_result",
          "data": {
            "text/plain": [
              "[('Tornacı', 4200.0),\n",
              " ('Doktor', 16125.0),\n",
              " ('Berber', 12000.0),\n",
              " ('Memur', 4066.6666666666665),\n",
              " ('Pazarlamaci', 5433.333333333333),\n",
              " ('Tuhafiyeci', 4800.0),\n",
              " ('Isci', 3500.0),\n",
              " ('Müzisyen', 9900.0)]"
            ]
          },
          "metadata": {},
          "execution_count": 41
        }
      ]
    },
    {
      "cell_type": "markdown",
      "source": [
        "## ***RDD Join***"
      ],
      "metadata": {
        "id": "MrJ-08PzOB6Z"
      }
    },
    {
      "cell_type": "code",
      "source": [
        "order_items_rdd = sc.textFile('/content/order_items.csv')\\\n",
        ".filter(lambda x: 'orderItemName' not in x)\\\n",
        ".repartition(4)"
      ],
      "metadata": {
        "id": "YKuWeV3CMHgA"
      },
      "execution_count": 42,
      "outputs": []
    },
    {
      "cell_type": "code",
      "source": [
        "order_items_rdd.take(5)"
      ],
      "metadata": {
        "colab": {
          "base_uri": "https://localhost:8080/"
        },
        "id": "GpVatoIYOviX",
        "outputId": "07293cd0-eef3-4356-8211-c58846d390e4"
      },
      "execution_count": 43,
      "outputs": [
        {
          "output_type": "execute_result",
          "data": {
            "text/plain": [
              "['11,5,1014,2,99.96,49.98',\n",
              " '12,5,957,1,299.98,299.98',\n",
              " '13,5,403,1,129.99,129.99',\n",
              " '14,7,1073,1,199.99,199.99',\n",
              " '15,7,957,1,299.98,299.98']"
            ]
          },
          "metadata": {},
          "execution_count": 43
        }
      ]
    },
    {
      "cell_type": "code",
      "source": [
        "product_rdd = sc.textFile('/content/products.csv')\\\n",
        ".filter(lambda x: 'productCategoryId' not in x)\\\n",
        ".repartition(4)"
      ],
      "metadata": {
        "id": "6ddJ4hpbO555"
      },
      "execution_count": 44,
      "outputs": []
    },
    {
      "cell_type": "code",
      "source": [
        "product_rdd.take(5)"
      ],
      "metadata": {
        "colab": {
          "base_uri": "https://localhost:8080/"
        },
        "id": "NFJWhHmuPMkR",
        "outputId": "d4b7c825-a51d-46fb-c20b-ea9b5af9159c"
      },
      "execution_count": 45,
      "outputs": [
        {
          "output_type": "execute_result",
          "data": {
            "text/plain": [
              "['11,2,Fitness Gear 300 lb Olympic Weight Set,,209.99,http://images.acmesports.sports/Fitness+Gear+300+lb+Olympic+Weight+Set',\n",
              " \"12,2,Under Armour Men's Highlight MC Alter Ego Fla,,139.99,http://images.acmesports.sports/Under+Armour+Men%27s+Highlight+MC+Alter+Ego+Flash+Football...\",\n",
              " \"13,2,Under Armour Men's Renegade D Mid Football Cl,,89.99,http://images.acmesports.sports/Under+Armour+Men%27s+Renegade+D+Mid+Football+Cleat\",\n",
              " '14,2,Quik Shade Summit SX170 10 FT. x 10 FT. Canop,,199.99,http://images.acmesports.sports/Quik+Shade+Summit+SX170+10+FT.+x+10+FT.+Canopy',\n",
              " \"15,2,Under Armour Kids' Highlight RM Alter Ego Sup,,59.99,http://images.acmesports.sports/Under+Armour+Kids%27+Highlight+RM+Alter+Ego+Superman+Football...\"]"
            ]
          },
          "metadata": {},
          "execution_count": 45
        }
      ]
    },
    {
      "cell_type": "code",
      "source": [
        "# order_items pair_rdd yapma\n",
        "def make_order_items_pair_rdd(line):\n",
        "    orderItemName = line.split(\",\")[0]\n",
        "    orderItemOrderId = line.split(\",\")[1]\n",
        "    orderItemProductId = line.split(\",\")[2]\n",
        "    orderItemQuantity = line.split(\",\")[3]\n",
        "    orderItemSubTotal = line.split(\",\")[4]\n",
        "    orderItemProductPrice = line.split(\",\")[5]\n",
        "    \n",
        "    return (orderItemProductId, (orderItemName, orderItemOrderId, orderItemQuantity, \n",
        "                                 orderItemSubTotal,orderItemProductPrice))"
      ],
      "metadata": {
        "id": "9v2Pkui5PQp_"
      },
      "execution_count": 46,
      "outputs": []
    },
    {
      "cell_type": "code",
      "source": [
        "order_item_pair_rdd = order_items_rdd.map(make_order_items_pair_rdd)\n",
        "order_item_pair_rdd.take(5)"
      ],
      "metadata": {
        "colab": {
          "base_uri": "https://localhost:8080/"
        },
        "id": "PjhMBhpWRVww",
        "outputId": "7de3606d-9ebf-4b9b-b97e-5d71dbfdadfa"
      },
      "execution_count": 47,
      "outputs": [
        {
          "output_type": "execute_result",
          "data": {
            "text/plain": [
              "[('1014', ('11', '5', '2', '99.96', '49.98')),\n",
              " ('957', ('12', '5', '1', '299.98', '299.98')),\n",
              " ('403', ('13', '5', '1', '129.99', '129.99')),\n",
              " ('1073', ('14', '7', '1', '199.99', '199.99')),\n",
              " ('957', ('15', '7', '1', '299.98', '299.98'))]"
            ]
          },
          "metadata": {},
          "execution_count": 47
        }
      ]
    },
    {
      "cell_type": "code",
      "source": [
        "# products için pair rdd yapma\n",
        "def make_products_pair_rdd(line):\n",
        "    productId = line.split(\",\")[0]\n",
        "    productCategoryId = line.split(\",\")[1]\n",
        "    productName = line.split(\",\")[2]\n",
        "    productDescription = line.split(\",\")[3]\n",
        "    productPrice = line.split(\",\")[4]\n",
        "    productImage = line.split(\",\")[5]\n",
        "    \n",
        "    return (productId,(productCategoryId, productName, productDescription, productPrice, productImage))"
      ],
      "metadata": {
        "id": "29J2rSs8RVsF"
      },
      "execution_count": 48,
      "outputs": []
    },
    {
      "cell_type": "code",
      "source": [
        "products_pair_rdd = product_rdd.map(make_products_pair_rdd)\n",
        "products_pair_rdd.take(3)"
      ],
      "metadata": {
        "colab": {
          "base_uri": "https://localhost:8080/"
        },
        "id": "ni9JrOTXRVnp",
        "outputId": "73ae9449-2d3e-4b83-af0d-6737b502c841"
      },
      "execution_count": 49,
      "outputs": [
        {
          "output_type": "execute_result",
          "data": {
            "text/plain": [
              "[('11',\n",
              "  ('2',\n",
              "   'Fitness Gear 300 lb Olympic Weight Set',\n",
              "   '',\n",
              "   '209.99',\n",
              "   'http://images.acmesports.sports/Fitness+Gear+300+lb+Olympic+Weight+Set')),\n",
              " ('12',\n",
              "  ('2',\n",
              "   \"Under Armour Men's Highlight MC Alter Ego Fla\",\n",
              "   '',\n",
              "   '139.99',\n",
              "   'http://images.acmesports.sports/Under+Armour+Men%27s+Highlight+MC+Alter+Ego+Flash+Football...')),\n",
              " ('13',\n",
              "  ('2',\n",
              "   \"Under Armour Men's Renegade D Mid Football Cl\",\n",
              "   '',\n",
              "   '89.99',\n",
              "   'http://images.acmesports.sports/Under+Armour+Men%27s+Renegade+D+Mid+Football+Cleat'))]"
            ]
          },
          "metadata": {},
          "execution_count": 49
        }
      ]
    },
    {
      "cell_type": "code",
      "source": [
        "order_items_product_pair_rdd = order_item_pair_rdd.join(products_pair_rdd)"
      ],
      "metadata": {
        "id": "g8xrVxa8RVjA"
      },
      "execution_count": 50,
      "outputs": []
    },
    {
      "cell_type": "code",
      "source": [
        "order_items_product_pair_rdd.take(1)"
      ],
      "metadata": {
        "colab": {
          "base_uri": "https://localhost:8080/"
        },
        "id": "iLy7QdaZRVeB",
        "outputId": "5682be49-d392-4c5a-8ce2-e77341366f92"
      },
      "execution_count": 51,
      "outputs": [
        {
          "output_type": "execute_result",
          "data": {
            "text/plain": [
              "[('957',\n",
              "  (('12', '5', '1', '299.98', '299.98'),\n",
              "   ('43',\n",
              "    \"Diamondback Women's Serene Classic Comfort Bi\",\n",
              "    '',\n",
              "    '299.98',\n",
              "    'http://images.acmesports.sports/Diamondback+Women%27s+Serene+Classic+Comfort+Bike+2014')))]"
            ]
          },
          "metadata": {},
          "execution_count": 51
        }
      ]
    },
    {
      "cell_type": "code",
      "source": [
        ""
      ],
      "metadata": {
        "id": "au-32hiTSN9J"
      },
      "execution_count": 51,
      "outputs": []
    }
  ]
}