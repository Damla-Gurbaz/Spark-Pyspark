{
  "nbformat": 4,
  "nbformat_minor": 0,
  "metadata": {
    "colab": {
      "name": "Pyspark-DataFrame.ipynb",
      "provenance": [],
      "collapsed_sections": []
    },
    "kernelspec": {
      "name": "python3",
      "display_name": "Python 3"
    },
    "language_info": {
      "name": "python"
    }
  },
  "cells": [
    {
      "cell_type": "code",
      "source": [
        "#!pip install pyspark"
      ],
      "metadata": {
        "id": "ErMzd5Xwazza"
      },
      "execution_count": 3,
      "outputs": []
    },
    {
      "cell_type": "code",
      "source": [
        "from pyspark.sql import SparkSession"
      ],
      "metadata": {
        "id": "uERHb9lyawnJ"
      },
      "execution_count": 4,
      "outputs": []
    },
    {
      "cell_type": "code",
      "source": [
        "spark = SparkSession.builder\\\n",
        ".master('local[4]')\\\n",
        ".appName('Datasets')\\\n",
        ".config('spark.executor.memory','4g')\\\n",
        ".config('spark.driver.memory','4g')\\\n",
        ".getOrCreate()\n",
        "\n",
        "sc = spark.sparkContext"
      ],
      "metadata": {
        "id": "dRpUyHmKazUt"
      },
      "execution_count": 5,
      "outputs": []
    },
    {
      "cell_type": "markdown",
      "source": [
        "### **📌list --> dataframe**"
      ],
      "metadata": {
        "id": "lf0CUznydEfY"
      }
    },
    {
      "cell_type": "code",
      "source": [
        "from pyspark.sql import Row\n",
        "\n",
        "list_rdd = sc.parallelize([1,2,3,4,5,6,4,5]).map(lambda x: Row(x))\n",
        "list_rdd.collect()"
      ],
      "metadata": {
        "colab": {
          "base_uri": "https://localhost:8080/"
        },
        "id": "cMvjqeQ7awj0",
        "outputId": "897abdb5-814e-4bc5-8f60-59c8d6ee603b"
      },
      "execution_count": 6,
      "outputs": [
        {
          "output_type": "execute_result",
          "data": {
            "text/plain": [
              "[<Row(1)>,\n",
              " <Row(2)>,\n",
              " <Row(3)>,\n",
              " <Row(4)>,\n",
              " <Row(5)>,\n",
              " <Row(6)>,\n",
              " <Row(4)>,\n",
              " <Row(5)>]"
            ]
          },
          "metadata": {},
          "execution_count": 6
        }
      ]
    },
    {
      "cell_type": "code",
      "source": [
        "df_list =list_rdd.toDF(['No'])\n",
        "df_list.show()"
      ],
      "metadata": {
        "colab": {
          "base_uri": "https://localhost:8080/"
        },
        "id": "KGsdmfitaweB",
        "outputId": "2fbd485b-1111-4509-abbb-7bdcbce1c30b"
      },
      "execution_count": 10,
      "outputs": [
        {
          "output_type": "stream",
          "name": "stdout",
          "text": [
            "+---+\n",
            "| No|\n",
            "+---+\n",
            "|  1|\n",
            "|  2|\n",
            "|  3|\n",
            "|  4|\n",
            "|  5|\n",
            "|  6|\n",
            "|  4|\n",
            "|  5|\n",
            "+---+\n",
            "\n"
          ]
        }
      ]
    },
    {
      "cell_type": "markdown",
      "source": [
        "### **📌range --> dataframe**"
      ],
      "metadata": {
        "id": "-aX0f9Bmdzp8"
      }
    },
    {
      "cell_type": "code",
      "source": [
        "df_from_range = sc.parallelize(range(10,100,5)).map(lambda x: (x,)).toDF([\"range\"])\n",
        "df_from_range.show(4)"
      ],
      "metadata": {
        "colab": {
          "base_uri": "https://localhost:8080/"
        },
        "id": "1H4Utmafawab",
        "outputId": "160e10de-ac44-47ee-933a-adbb411fde57"
      },
      "execution_count": 12,
      "outputs": [
        {
          "output_type": "stream",
          "name": "stdout",
          "text": [
            "+-----+\n",
            "|range|\n",
            "+-----+\n",
            "|   10|\n",
            "|   15|\n",
            "|   20|\n",
            "|   25|\n",
            "+-----+\n",
            "only showing top 4 rows\n",
            "\n"
          ]
        }
      ]
    },
    {
      "cell_type": "code",
      "source": [
        "from pyspark.sql.types import IntegerType\n",
        "\n",
        "df_from_range2 =spark.createDataFrame(range(10,100,5), IntegerType())\n",
        "df_from_range2.show(4)"
      ],
      "metadata": {
        "colab": {
          "base_uri": "https://localhost:8080/"
        },
        "id": "wF37uvS9awST",
        "outputId": "ab824315-323c-480c-89d8-f2da6545c46d"
      },
      "execution_count": 13,
      "outputs": [
        {
          "output_type": "stream",
          "name": "stdout",
          "text": [
            "+-----+\n",
            "|value|\n",
            "+-----+\n",
            "|   10|\n",
            "|   15|\n",
            "|   20|\n",
            "|   25|\n",
            "+-----+\n",
            "only showing top 4 rows\n",
            "\n"
          ]
        }
      ]
    },
    {
      "cell_type": "markdown",
      "source": [
        "### **📌file --> dataframe**"
      ],
      "metadata": {
        "id": "vPRJzKfcelki"
      }
    },
    {
      "cell_type": "code",
      "source": [
        "df_from_file = spark.read\\\n",
        ".option('sep', ';')\\\n",
        ".option('header', 'true')\\\n",
        ".option('inferSchema', 'True')\\\n",
        ".csv('/content/OnlineRetail.csv')\n",
        "\n",
        "df_from_file.show(3)"
      ],
      "metadata": {
        "colab": {
          "base_uri": "https://localhost:8080/"
        },
        "id": "ULie7XdjeYk8",
        "outputId": "e60a9773-3a91-410c-e6a2-49048a61e8c3"
      },
      "execution_count": 20,
      "outputs": [
        {
          "output_type": "stream",
          "name": "stdout",
          "text": [
            "+---------+---------+--------------------+--------+---------------+---------+----------+--------------+\n",
            "|InvoiceNo|StockCode|         Description|Quantity|    InvoiceDate|UnitPrice|CustomerID|       Country|\n",
            "+---------+---------+--------------------+--------+---------------+---------+----------+--------------+\n",
            "|   536365|   85123A|WHITE HANGING HEA...|       6|1.12.2010 08:26|     2,55|     17850|United Kingdom|\n",
            "|   536365|    71053| WHITE METAL LANTERN|       6|1.12.2010 08:26|     3,39|     17850|United Kingdom|\n",
            "|   536365|   84406B|CREAM CUPID HEART...|       8|1.12.2010 08:26|     2,75|     17850|United Kingdom|\n",
            "+---------+---------+--------------------+--------+---------------+---------+----------+--------------+\n",
            "only showing top 3 rows\n",
            "\n"
          ]
        }
      ]
    },
    {
      "cell_type": "code",
      "source": [
        "df_from_file.printSchema()"
      ],
      "metadata": {
        "colab": {
          "base_uri": "https://localhost:8080/"
        },
        "id": "YvjnuTiSfHQr",
        "outputId": "11aa4f34-820c-42c3-d0f0-3793ba538224"
      },
      "execution_count": 21,
      "outputs": [
        {
          "output_type": "stream",
          "name": "stdout",
          "text": [
            "root\n",
            " |-- InvoiceNo: string (nullable = true)\n",
            " |-- StockCode: string (nullable = true)\n",
            " |-- Description: string (nullable = true)\n",
            " |-- Quantity: integer (nullable = true)\n",
            " |-- InvoiceDate: string (nullable = true)\n",
            " |-- UnitPrice: string (nullable = true)\n",
            " |-- CustomerID: integer (nullable = true)\n",
            " |-- Country: string (nullable = true)\n",
            "\n"
          ]
        }
      ]
    },
    {
      "cell_type": "code",
      "source": [
        "df_from_file.count()"
      ],
      "metadata": {
        "colab": {
          "base_uri": "https://localhost:8080/"
        },
        "id": "JX2efC7cf8tV",
        "outputId": "d655680f-3b8b-461f-d61c-28f744e34294"
      },
      "execution_count": 22,
      "outputs": [
        {
          "output_type": "execute_result",
          "data": {
            "text/plain": [
              "541909"
            ]
          },
          "metadata": {},
          "execution_count": 22
        }
      ]
    },
    {
      "cell_type": "code",
      "source": [
        "df_from_file.select('Description', 'UnitPrice').show(5)"
      ],
      "metadata": {
        "colab": {
          "base_uri": "https://localhost:8080/"
        },
        "id": "Pi7eMhJHgC7e",
        "outputId": "54bf5be8-2d3e-48db-8306-170997e159d6"
      },
      "execution_count": 23,
      "outputs": [
        {
          "output_type": "stream",
          "name": "stdout",
          "text": [
            "+--------------------+---------+\n",
            "|         Description|UnitPrice|\n",
            "+--------------------+---------+\n",
            "|WHITE HANGING HEA...|     2,55|\n",
            "| WHITE METAL LANTERN|     3,39|\n",
            "|CREAM CUPID HEART...|     2,75|\n",
            "|KNITTED UNION FLA...|     3,39|\n",
            "|RED WOOLLY HOTTIE...|     3,39|\n",
            "+--------------------+---------+\n",
            "only showing top 5 rows\n",
            "\n"
          ]
        }
      ]
    },
    {
      "cell_type": "code",
      "source": [
        "df_from_file.sort('InvoiceNo', ascending=False).show(5)"
      ],
      "metadata": {
        "colab": {
          "base_uri": "https://localhost:8080/"
        },
        "id": "0Kbe61m9gRF8",
        "outputId": "74790829-26f8-4935-e57f-d67d71c63ba8"
      },
      "execution_count": 25,
      "outputs": [
        {
          "output_type": "stream",
          "name": "stdout",
          "text": [
            "+---------+---------+--------------------+--------+---------------+---------+----------+--------------+\n",
            "|InvoiceNo|StockCode|         Description|Quantity|    InvoiceDate|UnitPrice|CustomerID|       Country|\n",
            "+---------+---------+--------------------+--------+---------------+---------+----------+--------------+\n",
            "|  C581569|    20979|36 PENCILS TUBE R...|      -5|9.12.2011 11:58|     1,25|     17315|United Kingdom|\n",
            "|  C581569|    84978|HANGING HEART JAR...|      -1|9.12.2011 11:58|     1,25|     17315|United Kingdom|\n",
            "|  C581568|    21258|VICTORIAN SEWING ...|      -5|9.12.2011 11:57|    10,95|     15311|United Kingdom|\n",
            "|  C581499|        M|              Manual|      -1|9.12.2011 10:28|   224,69|     15498|United Kingdom|\n",
            "|  C581490|    22178|VICTORIAN GLASS H...|     -12|9.12.2011 09:57|     1,95|     14397|United Kingdom|\n",
            "+---------+---------+--------------------+--------+---------------+---------+----------+--------------+\n",
            "only showing top 5 rows\n",
            "\n"
          ]
        }
      ]
    },
    {
      "cell_type": "code",
      "source": [
        "df_from_file.sort('InvoiceNo', ascending=False).explain()"
      ],
      "metadata": {
        "colab": {
          "base_uri": "https://localhost:8080/"
        },
        "id": "PNYT5gZTggJj",
        "outputId": "ac6efd54-a190-4110-97be-b41657072a91"
      },
      "execution_count": 26,
      "outputs": [
        {
          "output_type": "stream",
          "name": "stdout",
          "text": [
            "== Physical Plan ==\n",
            "AdaptiveSparkPlan isFinalPlan=false\n",
            "+- Sort [InvoiceNo#248 DESC NULLS LAST], true, 0\n",
            "   +- Exchange rangepartitioning(InvoiceNo#248 DESC NULLS LAST, 200), ENSURE_REQUIREMENTS, [id=#253]\n",
            "      +- FileScan csv [InvoiceNo#248,StockCode#249,Description#250,Quantity#251,InvoiceDate#252,UnitPrice#253,CustomerID#254,Country#255] Batched: false, DataFilters: [], Format: CSV, Location: InMemoryFileIndex(1 paths)[file:/content/OnlineRetail.csv], PartitionFilters: [], PushedFilters: [], ReadSchema: struct<InvoiceNo:string,StockCode:string,Description:string,Quantity:int,InvoiceDate:string,UnitP...\n",
            "\n",
            "\n"
          ]
        }
      ]
    },
    {
      "cell_type": "markdown",
      "source": [
        "### **🔍Wordcount**"
      ],
      "metadata": {
        "id": "doObUj37hWe6"
      }
    },
    {
      "cell_type": "code",
      "source": [
        "df = spark.read.text('/content/sample_text.txt')\n",
        "df.show(truncate=50)"
      ],
      "metadata": {
        "colab": {
          "base_uri": "https://localhost:8080/"
        },
        "id": "RsJS8NH3gu5Q",
        "outputId": "ae16ed4f-70f4-404e-9fbc-ed96bd6beeee"
      },
      "execution_count": 28,
      "outputs": [
        {
          "output_type": "stream",
          "name": "stdout",
          "text": [
            "+--------------------------------------------------+\n",
            "|                                             value|\n",
            "+--------------------------------------------------+\n",
            "|Eventually the centers of the galaxies will mer...|\n",
            "|Despite the fireworks, this process—which is ha...|\n",
            "+--------------------------------------------------+\n",
            "\n"
          ]
        }
      ]
    },
    {
      "cell_type": "code",
      "source": [
        "from pyspark.sql.functions import explode, split, col\n",
        "\n",
        "words = df.select(explode(split(col('value'),' ')).alias('value'))\n",
        "words.show(5)"
      ],
      "metadata": {
        "colab": {
          "base_uri": "https://localhost:8080/"
        },
        "id": "wlNhNwT3gu2H",
        "outputId": "a3df994e-fd3a-471d-939d-18b38aece407"
      },
      "execution_count": 33,
      "outputs": [
        {
          "output_type": "stream",
          "name": "stdout",
          "text": [
            "+----------+\n",
            "|     value|\n",
            "+----------+\n",
            "|Eventually|\n",
            "|       the|\n",
            "|   centers|\n",
            "|        of|\n",
            "|       the|\n",
            "+----------+\n",
            "only showing top 5 rows\n",
            "\n"
          ]
        }
      ]
    },
    {
      "cell_type": "code",
      "source": [
        "from pyspark.sql.functions import *\n",
        "words.groupBy('value').count().orderBy(desc('count')).show(8)"
      ],
      "metadata": {
        "colab": {
          "base_uri": "https://localhost:8080/"
        },
        "id": "AdV0Pwp5guy_",
        "outputId": "10917f72-d357-4f6b-8d81-3a1096a6ca89"
      },
      "execution_count": 41,
      "outputs": [
        {
          "output_type": "stream",
          "name": "stdout",
          "text": [
            "+------+-----+\n",
            "| value|count|\n",
            "+------+-----+\n",
            "|   the|   25|\n",
            "|    of|   12|\n",
            "|     a|    8|\n",
            "|  will|    7|\n",
            "|   and|    7|\n",
            "|    in|    7|\n",
            "|galaxy|    5|\n",
            "| stars|    4|\n",
            "+------+-----+\n",
            "only showing top 8 rows\n",
            "\n"
          ]
        }
      ]
    },
    {
      "cell_type": "code",
      "source": [
        "#alternative way\n",
        "words.groupBy(\"value\").agg({\"value\": \"count\"}).orderBy(desc(\"count(value)\")).show(10)"
      ],
      "metadata": {
        "colab": {
          "base_uri": "https://localhost:8080/"
        },
        "id": "RUjb091XgurA",
        "outputId": "7703822b-3f28-4117-8433-7c928f262181"
      },
      "execution_count": 42,
      "outputs": [
        {
          "output_type": "stream",
          "name": "stdout",
          "text": [
            "+------+------------+\n",
            "| value|count(value)|\n",
            "+------+------------+\n",
            "|   the|          25|\n",
            "|    of|          12|\n",
            "|     a|           8|\n",
            "|    in|           7|\n",
            "|   and|           7|\n",
            "|  will|           7|\n",
            "|galaxy|           5|\n",
            "| stars|           4|\n",
            "|    is|           4|\n",
            "| black|           4|\n",
            "+------+------------+\n",
            "only showing top 10 rows\n",
            "\n"
          ]
        }
      ]
    },
    {
      "cell_type": "markdown",
      "source": [
        "### **🔍SQL Query**"
      ],
      "metadata": {
        "id": "pvm01n8Ylood"
      }
    },
    {
      "cell_type": "code",
      "source": [
        "df_sql = spark.read\\\n",
        ".option('sep', ';')\\\n",
        ".option('header', 'true')\\\n",
        ".option('inferSchema', 'True')\\\n",
        ".csv('/content/OnlineRetail.csv')\n"
      ],
      "metadata": {
        "colab": {
          "base_uri": "https://localhost:8080/"
        },
        "id": "U71_LkNVguRv",
        "outputId": "1f5138c4-0f50-4d02-d3b9-a1e68a52f12c"
      },
      "execution_count": 43,
      "outputs": [
        {
          "output_type": "stream",
          "name": "stdout",
          "text": [
            "+---------+---------+--------------------+--------+---------------+---------+----------+--------------+\n",
            "|InvoiceNo|StockCode|         Description|Quantity|    InvoiceDate|UnitPrice|CustomerID|       Country|\n",
            "+---------+---------+--------------------+--------+---------------+---------+----------+--------------+\n",
            "|   536365|   85123A|WHITE HANGING HEA...|       6|1.12.2010 08:26|     2,55|     17850|United Kingdom|\n",
            "|   536365|    71053| WHITE METAL LANTERN|       6|1.12.2010 08:26|     3,39|     17850|United Kingdom|\n",
            "|   536365|   84406B|CREAM CUPID HEART...|       8|1.12.2010 08:26|     2,75|     17850|United Kingdom|\n",
            "+---------+---------+--------------------+--------+---------------+---------+----------+--------------+\n",
            "only showing top 3 rows\n",
            "\n"
          ]
        }
      ]
    },
    {
      "cell_type": "code",
      "source": [
        "df_sql.cache()"
      ],
      "metadata": {
        "colab": {
          "base_uri": "https://localhost:8080/"
        },
        "id": "Iw2C3TLGokdG",
        "outputId": "63fe1966-546c-4c03-f1da-bfbf9c9d6491"
      },
      "execution_count": 55,
      "outputs": [
        {
          "output_type": "execute_result",
          "data": {
            "text/plain": [
              "DataFrame[InvoiceNo: string, StockCode: string, Description: string, Quantity: int, InvoiceDate: string, UnitPrice: string, CustomerID: int, Country: string]"
            ]
          },
          "metadata": {},
          "execution_count": 55
        }
      ]
    },
    {
      "cell_type": "code",
      "source": [
        "df_sql.show(3)"
      ],
      "metadata": {
        "colab": {
          "base_uri": "https://localhost:8080/"
        },
        "id": "TwyC0nobohKB",
        "outputId": "9fb7ae52-fc12-411e-c5c1-92df3b6fd811"
      },
      "execution_count": 56,
      "outputs": [
        {
          "output_type": "stream",
          "name": "stdout",
          "text": [
            "+---------+---------+--------------------+--------+---------------+---------+----------+--------------+\n",
            "|InvoiceNo|StockCode|         Description|Quantity|    InvoiceDate|UnitPrice|CustomerID|       Country|\n",
            "+---------+---------+--------------------+--------+---------------+---------+----------+--------------+\n",
            "|   536365|   85123A|WHITE HANGING HEA...|       6|1.12.2010 08:26|     2,55|     17850|United Kingdom|\n",
            "|   536365|    71053| WHITE METAL LANTERN|       6|1.12.2010 08:26|     3,39|     17850|United Kingdom|\n",
            "|   536365|   84406B|CREAM CUPID HEART...|       8|1.12.2010 08:26|     2,75|     17850|United Kingdom|\n",
            "+---------+---------+--------------------+--------+---------------+---------+----------+--------------+\n",
            "only showing top 3 rows\n",
            "\n"
          ]
        }
      ]
    },
    {
      "cell_type": "code",
      "source": [
        "df_sql.createOrReplaceTempView('table')"
      ],
      "metadata": {
        "id": "AdJ90B_mguPT"
      },
      "execution_count": 57,
      "outputs": []
    },
    {
      "cell_type": "code",
      "source": [
        "spark.sql(\"select * from table\").show(10)"
      ],
      "metadata": {
        "colab": {
          "base_uri": "https://localhost:8080/"
        },
        "id": "aL2mg9UDguMz",
        "outputId": "962c31f0-ff0c-4e4a-b4a3-d16293300a09"
      },
      "execution_count": 58,
      "outputs": [
        {
          "output_type": "stream",
          "name": "stdout",
          "text": [
            "+---------+---------+--------------------+--------+---------------+---------+----------+--------------+\n",
            "|InvoiceNo|StockCode|         Description|Quantity|    InvoiceDate|UnitPrice|CustomerID|       Country|\n",
            "+---------+---------+--------------------+--------+---------------+---------+----------+--------------+\n",
            "|   536365|   85123A|WHITE HANGING HEA...|       6|1.12.2010 08:26|     2,55|     17850|United Kingdom|\n",
            "|   536365|    71053| WHITE METAL LANTERN|       6|1.12.2010 08:26|     3,39|     17850|United Kingdom|\n",
            "|   536365|   84406B|CREAM CUPID HEART...|       8|1.12.2010 08:26|     2,75|     17850|United Kingdom|\n",
            "|   536365|   84029G|KNITTED UNION FLA...|       6|1.12.2010 08:26|     3,39|     17850|United Kingdom|\n",
            "|   536365|   84029E|RED WOOLLY HOTTIE...|       6|1.12.2010 08:26|     3,39|     17850|United Kingdom|\n",
            "|   536365|    22752|SET 7 BABUSHKA NE...|       2|1.12.2010 08:26|     7,65|     17850|United Kingdom|\n",
            "|   536365|    21730|GLASS STAR FROSTE...|       6|1.12.2010 08:26|     4,25|     17850|United Kingdom|\n",
            "|   536366|    22633|HAND WARMER UNION...|       6|1.12.2010 08:28|     1,85|     17850|United Kingdom|\n",
            "|   536366|    22632|HAND WARMER RED P...|       6|1.12.2010 08:28|     1,85|     17850|United Kingdom|\n",
            "|   536367|    84879|ASSORTED COLOUR B...|      32|1.12.2010 08:34|     1,69|     13047|United Kingdom|\n",
            "+---------+---------+--------------------+--------+---------------+---------+----------+--------------+\n",
            "only showing top 10 rows\n",
            "\n"
          ]
        }
      ]
    },
    {
      "cell_type": "code",
      "source": [
        "spark.sql(\"select Country, Sum(UnitPrice) UnitPrice from table Group By Country order by UnitPrice desc\").show(10)"
      ],
      "metadata": {
        "colab": {
          "base_uri": "https://localhost:8080/"
        },
        "id": "7dHnN6FfguJ1",
        "outputId": "18d5a140-b7c9-4d4b-cc19-2c41a5ff32fd"
      },
      "execution_count": 60,
      "outputs": [
        {
          "output_type": "stream",
          "name": "stdout",
          "text": [
            "+--------------+---------+\n",
            "|       Country|UnitPrice|\n",
            "+--------------+---------+\n",
            "|United Kingdom|  94911.0|\n",
            "|          EIRE|   9423.0|\n",
            "|       Germany|   7930.0|\n",
            "|        France|   6288.0|\n",
            "|         Spain|   2927.0|\n",
            "|       Finland|   1578.0|\n",
            "|       Belgium|   1503.0|\n",
            "|        Norway|   1451.0|\n",
            "|   Switzerland|   1267.0|\n",
            "|        Sweden|    921.0|\n",
            "+--------------+---------+\n",
            "only showing top 10 rows\n",
            "\n"
          ]
        }
      ]
    },
    {
      "cell_type": "markdown",
      "source": [
        "## 🔍String Operations"
      ],
      "metadata": {
        "id": "BIwvnaAvpKMJ"
      }
    },
    {
      "cell_type": "code",
      "source": [
        "simple_df = spark.read \\\n",
        ".option(\"header\",\"True\") \\\n",
        ".option(\"inferSchema\",\"True\") \\\n",
        ".option(\"sep\",\",\") \\\n",
        ".csv(\"/content/simple_dirty_data.csv\")"
      ],
      "metadata": {
        "id": "QEWRXwsaguHO"
      },
      "execution_count": 65,
      "outputs": []
    },
    {
      "cell_type": "code",
      "source": [
        "simple_df.show(5)"
      ],
      "metadata": {
        "colab": {
          "base_uri": "https://localhost:8080/"
        },
        "id": "y0BVrqOSguEY",
        "outputId": "674d9bcb-739e-4a99-917a-ad8895ffba13"
      },
      "execution_count": 68,
      "outputs": [
        {
          "output_type": "stream",
          "name": "stdout",
          "text": [
            "+------+-------+---+--------+-----------+-----------+-----------+---------------+\n",
            "|sirano|   isim|yas|cinsiyet|     meslek|      sehir|aylik_gelir|       mal_mulk|\n",
            "+------+-------+---+--------+-----------+-----------+-----------+---------------+\n",
            "|     1|  Cemal| 35|       E|       Isci|     Ankara|     3500.0|          araba|\n",
            "|     2| ceyda | 42|       K|      Memur|    Kayseri|     4200.0|       araba|ev|\n",
            "|     3|  Timur| 30|    null|   Müzüsyen|Istanbul   |     9000.0|araba|ev|yazlık|\n",
            "|     4| Burcu | 29|       K|Pazarlamacı|     Ankara|     4200.0|          araba|\n",
            "|     5|Yasemin| 23|       K|Pazarlamaci|      Bursa|     4800.0|          araba|\n",
            "+------+-------+---+--------+-----------+-----------+-----------+---------------+\n",
            "only showing top 5 rows\n",
            "\n"
          ]
        }
      ]
    },
    {
      "cell_type": "markdown",
      "source": [
        "*📌Concat()*"
      ],
      "metadata": {
        "id": "L25aRm6srBQs"
      }
    },
    {
      "cell_type": "code",
      "source": [
        "df_concat = simple_df.withColumn(\"meslek_sehir\", concat('meslek', lit('&'), 'sehir'))\n",
        "df_concat.show(5)"
      ],
      "metadata": {
        "colab": {
          "base_uri": "https://localhost:8080/"
        },
        "id": "yTyMhIn8guBO",
        "outputId": "97a56df0-e5ec-4d69-9933-bd4976ed3fb1"
      },
      "execution_count": 73,
      "outputs": [
        {
          "output_type": "stream",
          "name": "stdout",
          "text": [
            "+------+-------+---+--------+-----------+-----------+-----------+---------------+--------------------+\n",
            "|sirano|   isim|yas|cinsiyet|     meslek|      sehir|aylik_gelir|       mal_mulk|        meslek_sehir|\n",
            "+------+-------+---+--------+-----------+-----------+-----------+---------------+--------------------+\n",
            "|     1|  Cemal| 35|       E|       Isci|     Ankara|     3500.0|          araba|         Isci&Ankara|\n",
            "|     2| ceyda | 42|       K|      Memur|    Kayseri|     4200.0|       araba|ev|       Memur&Kayseri|\n",
            "|     3|  Timur| 30|    null|   Müzüsyen|Istanbul   |     9000.0|araba|ev|yazlık|Müzüsyen&Istanbul   |\n",
            "|     4| Burcu | 29|       K|Pazarlamacı|     Ankara|     4200.0|          araba|Pazarlamacı&    A...|\n",
            "|     5|Yasemin| 23|       K|Pazarlamaci|      Bursa|     4800.0|          araba|   Pazarlamaci&Bursa|\n",
            "+------+-------+---+--------+-----------+-----------+-----------+---------------+--------------------+\n",
            "only showing top 5 rows\n",
            "\n"
          ]
        }
      ]
    },
    {
      "cell_type": "markdown",
      "source": [
        "*📌format_number()*"
      ],
      "metadata": {
        "id": "S2Q1udFJsaMe"
      }
    },
    {
      "cell_type": "code",
      "source": [
        "df_number_format = simple_df.withColumn(\"aylik_gelir_format\", format_number(\"aylik_gelir\",3))\n",
        "df_number_format.show(n=5, truncate=False)"
      ],
      "metadata": {
        "colab": {
          "base_uri": "https://localhost:8080/"
        },
        "id": "F8OnUfj0sG42",
        "outputId": "e49af0dc-ea4a-4915-a18a-7e45884e8c29"
      },
      "execution_count": 75,
      "outputs": [
        {
          "output_type": "stream",
          "name": "stdout",
          "text": [
            "+------+-------+---+--------+-----------+-----------+-----------+---------------+------------------+\n",
            "|sirano|isim   |yas|cinsiyet|meslek     |sehir      |aylik_gelir|mal_mulk       |aylik_gelir_format|\n",
            "+------+-------+---+--------+-----------+-----------+-----------+---------------+------------------+\n",
            "|1     |Cemal  |35 |E       |Isci       |Ankara     |3500.0     |araba          |3,500.000         |\n",
            "|2     |ceyda  |42 |K       |Memur      |Kayseri    |4200.0     |araba|ev       |4,200.000         |\n",
            "|3     |Timur  |30 |null    |Müzüsyen   |Istanbul   |9000.0     |araba|ev|yazlık|9,000.000         |\n",
            "|4     |Burcu  |29 |K       |Pazarlamacı|    Ankara |4200.0     |araba          |4,200.000         |\n",
            "|5     |Yasemin|23 |K       |Pazarlamaci|Bursa      |4800.0     |araba          |4,800.000         |\n",
            "+------+-------+---+--------+-----------+-----------+-----------+---------------+------------------+\n",
            "only showing top 5 rows\n",
            "\n"
          ]
        }
      ]
    },
    {
      "cell_type": "markdown",
      "source": [
        "*📌 lower(), initcap(), length()*"
      ],
      "metadata": {
        "id": "YVXpuiPPs5J9"
      }
    },
    {
      "cell_type": "code",
      "source": [
        "df_lower = simple_df \\\n",
        ".withColumn(\"meslek_lower\", lower(col(\"meslek\"))) \\\n",
        ".withColumn(\"isim_initcap\", initcap(col(\"isim\"))) \\\n",
        ".withColumn(\"sehir_length\", length(col(\"sehir\")))\n",
        "\n",
        "df_lower.show(n=5, truncate=False)"
      ],
      "metadata": {
        "colab": {
          "base_uri": "https://localhost:8080/"
        },
        "id": "wvxLnu5bs48u",
        "outputId": "39e930fc-a6d3-4ba8-b1f5-69fa654690d1"
      },
      "execution_count": 76,
      "outputs": [
        {
          "output_type": "stream",
          "name": "stdout",
          "text": [
            "+------+-------+---+--------+-----------+-----------+-----------+---------------+------------+------------+------------+\n",
            "|sirano|isim   |yas|cinsiyet|meslek     |sehir      |aylik_gelir|mal_mulk       |meslek_lower|isim_initcap|sehir_length|\n",
            "+------+-------+---+--------+-----------+-----------+-----------+---------------+------------+------------+------------+\n",
            "|1     |Cemal  |35 |E       |Isci       |Ankara     |3500.0     |araba          |isci        |Cemal       |6           |\n",
            "|2     |ceyda  |42 |K       |Memur      |Kayseri    |4200.0     |araba|ev       |memur       |Ceyda       |7           |\n",
            "|3     |Timur  |30 |null    |Müzüsyen   |Istanbul   |9000.0     |araba|ev|yazlık|müzüsyen    |Timur       |11          |\n",
            "|4     |Burcu  |29 |K       |Pazarlamacı|    Ankara |4200.0     |araba          |pazarlamacı |Burcu       |10          |\n",
            "|5     |Yasemin|23 |K       |Pazarlamaci|Bursa      |4800.0     |araba          |pazarlamaci |Yasemin     |5           |\n",
            "+------+-------+---+--------+-----------+-----------+-----------+---------------+------------+------------+------------+\n",
            "only showing top 5 rows\n",
            "\n"
          ]
        }
      ]
    },
    {
      "cell_type": "markdown",
      "source": [
        "*📌 trim()*"
      ],
      "metadata": {
        "id": "IVqsZip_tZDy"
      }
    },
    {
      "cell_type": "code",
      "source": [
        "df_trim = simple_df \\\n",
        ".withColumn(\"sehir_rtrim\", rtrim(col(\"sehir\"))) \\\n",
        ".withColumn(\"sehir_ltrim\", ltrim(col(\"sehir\"))) \\\n",
        ".withColumn(\"sehir_trim\", trim(col(\"sehir\")))\n",
        "\n",
        "df_trim.show(n=5, truncate=False)"
      ],
      "metadata": {
        "colab": {
          "base_uri": "https://localhost:8080/"
        },
        "id": "H-sAsGbLtYw9",
        "outputId": "1785e89b-caac-407f-dd4d-c59484e9a640"
      },
      "execution_count": 77,
      "outputs": [
        {
          "output_type": "stream",
          "name": "stdout",
          "text": [
            "+------+-------+---+--------+-----------+-----------+-----------+---------------+-----------+-----------+----------+\n",
            "|sirano|isim   |yas|cinsiyet|meslek     |sehir      |aylik_gelir|mal_mulk       |sehir_rtrim|sehir_ltrim|sehir_trim|\n",
            "+------+-------+---+--------+-----------+-----------+-----------+---------------+-----------+-----------+----------+\n",
            "|1     |Cemal  |35 |E       |Isci       |Ankara     |3500.0     |araba          |Ankara     |Ankara     |Ankara    |\n",
            "|2     |ceyda  |42 |K       |Memur      |Kayseri    |4200.0     |araba|ev       |Kayseri    |Kayseri    |Kayseri   |\n",
            "|3     |Timur  |30 |null    |Müzüsyen   |Istanbul   |9000.0     |araba|ev|yazlık|Istanbul   |Istanbul   |Istanbul  |\n",
            "|4     |Burcu  |29 |K       |Pazarlamacı|    Ankara |4200.0     |araba          |    Ankara |Ankara     |Ankara    |\n",
            "|5     |Yasemin|23 |K       |Pazarlamaci|Bursa      |4800.0     |araba          |Bursa      |Bursa      |Bursa     |\n",
            "+------+-------+---+--------+-----------+-----------+-----------+---------------+-----------+-----------+----------+\n",
            "only showing top 5 rows\n",
            "\n"
          ]
        }
      ]
    },
    {
      "cell_type": "markdown",
      "source": [
        "*📌 replace(), split()*"
      ],
      "metadata": {
        "id": "5wHG8cnwtinE"
      }
    },
    {
      "cell_type": "code",
      "source": [
        "df_replace = simple_df \\\n",
        ".withColumn(\"sehir_ist\", regexp_replace(\"sehir\", \"Ist\", \"İST\")) \\\n",
        ".withColumn(\"mal_mulk_split\", split(\"mal_mulk\", \"\\\\|\")) \\\n",
        ".withColumn(\"mal_mulk_ilk_eleman\", col(\"mal_mulk_split\")[0])\n",
        "\n",
        "df_replace.show(n=5, truncate=False)"
      ],
      "metadata": {
        "colab": {
          "base_uri": "https://localhost:8080/"
        },
        "id": "35zNu031s0Vk",
        "outputId": "1c88f39f-43f8-4000-ea64-e50697c5d6ab"
      },
      "execution_count": 79,
      "outputs": [
        {
          "output_type": "stream",
          "name": "stdout",
          "text": [
            "+------+-------+---+--------+-----------+-----------+-----------+---------------+-----------+-------------------+-------------------+\n",
            "|sirano|isim   |yas|cinsiyet|meslek     |sehir      |aylik_gelir|mal_mulk       |sehir_ist  |mal_mulk_split     |mal_mulk_ilk_eleman|\n",
            "+------+-------+---+--------+-----------+-----------+-----------+---------------+-----------+-------------------+-------------------+\n",
            "|1     |Cemal  |35 |E       |Isci       |Ankara     |3500.0     |araba          |Ankara     |[araba]            |araba              |\n",
            "|2     |ceyda  |42 |K       |Memur      |Kayseri    |4200.0     |araba|ev       |Kayseri    |[araba, ev]        |araba              |\n",
            "|3     |Timur  |30 |null    |Müzüsyen   |Istanbul   |9000.0     |araba|ev|yazlık|İSTanbul   |[araba, ev, yazlık]|araba              |\n",
            "|4     |Burcu  |29 |K       |Pazarlamacı|    Ankara |4200.0     |araba          |    Ankara |[araba]            |araba              |\n",
            "|5     |Yasemin|23 |K       |Pazarlamaci|Bursa      |4800.0     |araba          |Bursa      |[araba]            |araba              |\n",
            "+------+-------+---+--------+-----------+-----------+-----------+---------------+-----------+-------------------+-------------------+\n",
            "only showing top 5 rows\n",
            "\n"
          ]
        }
      ]
    },
    {
      "cell_type": "code",
      "source": [
        "df_replace.printSchema()"
      ],
      "metadata": {
        "colab": {
          "base_uri": "https://localhost:8080/"
        },
        "id": "pRs5mL82uaRW",
        "outputId": "dda89f6e-af16-4665-e2c1-43e72ab8f2f4"
      },
      "execution_count": 80,
      "outputs": [
        {
          "output_type": "stream",
          "name": "stdout",
          "text": [
            "root\n",
            " |-- sirano: integer (nullable = true)\n",
            " |-- isim: string (nullable = true)\n",
            " |-- yas: integer (nullable = true)\n",
            " |-- cinsiyet: string (nullable = true)\n",
            " |-- meslek: string (nullable = true)\n",
            " |-- sehir: string (nullable = true)\n",
            " |-- aylik_gelir: double (nullable = true)\n",
            " |-- mal_mulk: string (nullable = true)\n",
            " |-- sehir_ist: string (nullable = true)\n",
            " |-- mal_mulk_split: array (nullable = true)\n",
            " |    |-- element: string (containsNull = true)\n",
            " |-- mal_mulk_ilk_eleman: string (nullable = true)\n",
            "\n"
          ]
        }
      ]
    },
    {
      "cell_type": "markdown",
      "source": [
        "## *🔍Save DataFrame*"
      ],
      "metadata": {
        "id": "bHU5E-eCwbyX"
      }
    },
    {
      "cell_type": "code",
      "source": [
        "df = spark.read \\\n",
        ".option(\"header\",\"True\") \\\n",
        ".option(\"inferSchema\",\"True\") \\\n",
        ".option(\"sep\",\",\") \\\n",
        ".csv(\"/content/simple_dirty_data.csv\")"
      ],
      "metadata": {
        "id": "G4dhH4q-ub-v"
      },
      "execution_count": 82,
      "outputs": []
    },
    {
      "cell_type": "code",
      "source": [
        "df.show(10)"
      ],
      "metadata": {
        "colab": {
          "base_uri": "https://localhost:8080/"
        },
        "id": "QM-qzm5cw8Or",
        "outputId": "55937c34-0860-4422-99c1-677ce036f7ee"
      },
      "execution_count": 83,
      "outputs": [
        {
          "output_type": "stream",
          "name": "stdout",
          "text": [
            "+------+--------+---+--------+-----------+-----------+-----------+--------------------+\n",
            "|sirano|    isim|yas|cinsiyet|     meslek|      sehir|aylik_gelir|            mal_mulk|\n",
            "+------+--------+---+--------+-----------+-----------+-----------+--------------------+\n",
            "|     1|   Cemal| 35|       E|       Isci|     Ankara|     3500.0|               araba|\n",
            "|     2|  ceyda | 42|       K|      Memur|    Kayseri|     4200.0|            araba|ev|\n",
            "|     3|   Timur| 30|    null|   Müzüsyen|Istanbul   |     9000.0|     araba|ev|yazlık|\n",
            "|     4|  Burcu | 29|       K|Pazarlamacı|     Ankara|     4200.0|               araba|\n",
            "|     5| Yasemin| 23|       K|Pazarlamaci|      Bursa|     4800.0|               araba|\n",
            "|     6|     Ali| 33|       E|      Memur|     Ankara|     4250.0|                  ev|\n",
            "|     7|   Dilek| 29|       K|Pazarlamaci|   Istanbul|     7300.0|        araba|yazlık|\n",
            "|     8|   Murat| 31|       E|   Müzüsyen|   Istanbul|    12000.0|araba|ev|dükkan|y...|\n",
            "|     9|   Ahmet| 33|       E|     Doktor|     Ankara|   180000.0|     araba|ev|yazlık|\n",
            "|    10|Muhittin| 46|       E|     Berber|   Istanbul|    12000.0|     araba|ev|dükkan|\n",
            "+------+--------+---+--------+-----------+-----------+-----------+--------------------+\n",
            "only showing top 10 rows\n",
            "\n"
          ]
        }
      ]
    },
    {
      "cell_type": "code",
      "source": [
        "from pyspark.sql import functions as F\n",
        "df2 = df \\\n",
        ".withColumn(\"isim\", F.trim(F.initcap(df.isim))) \\\n",
        ".withColumn(\"cinsiyet\", F.when(df['cinsiyet'].isNull(), \"Unknown\").otherwise(df['cinsiyet'])) \\\n",
        ".withColumn(\"sehir\", F.when(df['sehir'].isNull(), \"UNKNOWN\").otherwise(F.trim(F.upper(df['sehir']))))\n",
        "\n",
        "\n",
        "df2.show(15)"
      ],
      "metadata": {
        "colab": {
          "base_uri": "https://localhost:8080/"
        },
        "id": "oDhu959Mw_Y_",
        "outputId": "c46bb5c9-d2a5-49c6-d52b-a3e30ad8b447"
      },
      "execution_count": 87,
      "outputs": [
        {
          "output_type": "stream",
          "name": "stdout",
          "text": [
            "+------+--------+---+--------+-----------+--------+-----------+--------------------+\n",
            "|sirano|    isim|yas|cinsiyet|     meslek|   sehir|aylik_gelir|            mal_mulk|\n",
            "+------+--------+---+--------+-----------+--------+-----------+--------------------+\n",
            "|     1|   Cemal| 35|       E|       Isci|  ANKARA|     3500.0|               araba|\n",
            "|     2|   Ceyda| 42|       K|      Memur| KAYSERI|     4200.0|            araba|ev|\n",
            "|     3|   Timur| 30| Unknown|   Müzüsyen|ISTANBUL|     9000.0|     araba|ev|yazlık|\n",
            "|     4|   Burcu| 29|       K|Pazarlamacı|  ANKARA|     4200.0|               araba|\n",
            "|     5| Yasemin| 23|       K|Pazarlamaci|   BURSA|     4800.0|               araba|\n",
            "|     6|     Ali| 33|       E|      Memur|  ANKARA|     4250.0|                  ev|\n",
            "|     7|   Dilek| 29|       K|Pazarlamaci|ISTANBUL|     7300.0|        araba|yazlık|\n",
            "|     8|   Murat| 31|       E|   Müzüsyen|ISTANBUL|    12000.0|araba|ev|dükkan|y...|\n",
            "|     9|   Ahmet| 33|       E|     Doktor|  ANKARA|   180000.0|     araba|ev|yazlık|\n",
            "|    10|Muhittin| 46|       E|     Berber|ISTANBUL|    12000.0|     araba|ev|dükkan|\n",
            "|    11|Hicaziye| 47|       K| Tuhafiyeci| UNKNOWN|        4.8|              dükkan|\n",
            "|    12|   Harun| 43|       E|    Tornacı|  ANKARA|     4200.0|               araba|\n",
            "|    13|   Hakkı| 33|       E|      memur|   ÇORUM|     3750.0|                  ev|\n",
            "|    14| Gülizar| 37|       K|     Doktor|   İZMIR|    14250.0|               araba|\n",
            "|    15|  Şehmuz| 41|       E|   Müzisyen|  ANKARA|     8700.0|               araba|\n",
            "+------+--------+---+--------+-----------+--------+-----------+--------------------+\n",
            "\n"
          ]
        }
      ]
    },
    {
      "cell_type": "code",
      "source": [
        "#coalesce()dagitik haldeki verileri birlestiriyor.\n",
        "df2.coalesce(1) \\\n",
        ".write \\\n",
        ".mode(\"overwrite\") \\\n",
        ".option(\"sep\",\",\") \\\n",
        ".option(\"header\",\"True\") \\\n",
        ".csv(\"Desktop/Udemy-ApacheSparkCourse/dataset\")"
      ],
      "metadata": {
        "id": "gBvNm32MxjGM"
      },
      "execution_count": null,
      "outputs": []
    },
    {
      "cell_type": "code",
      "source": [
        "df3 = spark.read \\\n",
        ".option(\"header\",\"True\") \\\n",
        ".option(\"inferSchema\",\"True\") \\\n",
        ".option(\"sep\",\",\") \\\n",
        ".csv(\"Desktop/Udemy-ApacheSparkCourse/dataset\")\n",
        "\n",
        "df3.show(15)"
      ],
      "metadata": {
        "colab": {
          "base_uri": "https://localhost:8080/"
        },
        "id": "G3CcI3H7zguT",
        "outputId": "232b1895-26de-45fe-d409-67e8a13bc8d4"
      },
      "execution_count": 91,
      "outputs": [
        {
          "output_type": "stream",
          "name": "stdout",
          "text": [
            "+------+--------+---+--------+-----------+--------+-----------+--------------------+\n",
            "|sirano|    isim|yas|cinsiyet|     meslek|   sehir|aylik_gelir|            mal_mulk|\n",
            "+------+--------+---+--------+-----------+--------+-----------+--------------------+\n",
            "|     1|   Cemal| 35|       E|       Isci|  ANKARA|     3500.0|               araba|\n",
            "|     2|   Ceyda| 42|       K|      Memur| KAYSERI|     4200.0|            araba|ev|\n",
            "|     3|   Timur| 30| Unknown|   Müzüsyen|ISTANBUL|     9000.0|     araba|ev|yazlık|\n",
            "|     4|   Burcu| 29|       K|Pazarlamacı|  ANKARA|     4200.0|               araba|\n",
            "|     5| Yasemin| 23|       K|Pazarlamaci|   BURSA|     4800.0|               araba|\n",
            "|     6|     Ali| 33|       E|      Memur|  ANKARA|     4250.0|                  ev|\n",
            "|     7|   Dilek| 29|       K|Pazarlamaci|ISTANBUL|     7300.0|        araba|yazlık|\n",
            "|     8|   Murat| 31|       E|   Müzüsyen|ISTANBUL|    12000.0|araba|ev|dükkan|y...|\n",
            "|     9|   Ahmet| 33|       E|     Doktor|  ANKARA|   180000.0|     araba|ev|yazlık|\n",
            "|    10|Muhittin| 46|       E|     Berber|ISTANBUL|    12000.0|     araba|ev|dükkan|\n",
            "|    11|Hicaziye| 47|       K| Tuhafiyeci| UNKNOWN|        4.8|              dükkan|\n",
            "|    12|   Harun| 43|       E|    Tornacı|  ANKARA|     4200.0|               araba|\n",
            "|    13|   Hakkı| 33|       E|      memur|   ÇORUM|     3750.0|                  ev|\n",
            "|    14| Gülizar| 37|       K|     Doktor|   İZMIR|    14250.0|               araba|\n",
            "|    15|  Şehmuz| 41|       E|   Müzisyen|  ANKARA|     8700.0|               araba|\n",
            "+------+--------+---+--------+-----------+--------+-----------+--------------------+\n",
            "\n"
          ]
        }
      ]
    },
    {
      "cell_type": "markdown",
      "source": [
        "## *🔍Manual Schema*"
      ],
      "metadata": {
        "id": "cGVwqZxV00BE"
      }
    },
    {
      "cell_type": "code",
      "source": [
        "df_schema = spark.read \\\n",
        ".option(\"header\",\"True\") \\\n",
        ".option(\"inferSchema\",\"True\") \\\n",
        ".option(\"sep\",\";\") \\\n",
        ".csv(\"/content/OnlineRetail.csv\")"
      ],
      "metadata": {
        "id": "g1EfFxzT0hav"
      },
      "execution_count": 93,
      "outputs": []
    },
    {
      "cell_type": "code",
      "source": [
        "df_schema.show(5)"
      ],
      "metadata": {
        "colab": {
          "base_uri": "https://localhost:8080/"
        },
        "id": "qEeMm3gT2PRU",
        "outputId": "63540078-7696-4738-aa1c-1196bd7343d6"
      },
      "execution_count": 102,
      "outputs": [
        {
          "output_type": "stream",
          "name": "stdout",
          "text": [
            "+---------+---------+--------------------+--------+---------------+---------+----------+--------------+\n",
            "|InvoiceNo|StockCode|         Description|Quantity|    InvoiceDate|UnitPrice|CustomerID|       Country|\n",
            "+---------+---------+--------------------+--------+---------------+---------+----------+--------------+\n",
            "|   536365|   85123A|WHITE HANGING HEA...|       6|1.12.2010 08:26|     2,55|     17850|United Kingdom|\n",
            "|   536365|    71053| WHITE METAL LANTERN|       6|1.12.2010 08:26|     3,39|     17850|United Kingdom|\n",
            "|   536365|   84406B|CREAM CUPID HEART...|       8|1.12.2010 08:26|     2,75|     17850|United Kingdom|\n",
            "|   536365|   84029G|KNITTED UNION FLA...|       6|1.12.2010 08:26|     3,39|     17850|United Kingdom|\n",
            "|   536365|   84029E|RED WOOLLY HOTTIE...|       6|1.12.2010 08:26|     3,39|     17850|United Kingdom|\n",
            "+---------+---------+--------------------+--------+---------------+---------+----------+--------------+\n",
            "only showing top 5 rows\n",
            "\n"
          ]
        }
      ]
    },
    {
      "cell_type": "code",
      "source": [
        "df_schema.printSchema()"
      ],
      "metadata": {
        "colab": {
          "base_uri": "https://localhost:8080/"
        },
        "id": "vt5guv-I0hWp",
        "outputId": "125bde78-2ba6-4f67-ca87-c3f1b57fef48"
      },
      "execution_count": 95,
      "outputs": [
        {
          "output_type": "stream",
          "name": "stdout",
          "text": [
            "root\n",
            " |-- InvoiceNo: string (nullable = true)\n",
            " |-- StockCode: string (nullable = true)\n",
            " |-- Description: string (nullable = true)\n",
            " |-- Quantity: integer (nullable = true)\n",
            " |-- InvoiceDate: string (nullable = true)\n",
            " |-- UnitPrice: string (nullable = true)\n",
            " |-- CustomerID: integer (nullable = true)\n",
            " |-- Country: string (nullable = true)\n",
            "\n"
          ]
        }
      ]
    },
    {
      "cell_type": "code",
      "source": [
        "#UnitPrice sutununun type uygun olmadigi icin manuel schema yapayagim.\n",
        "\n",
        "from pyspark.sql.types import StructType,StructField, StringType, IntegerType, FloatType, DateType,DoubleType\n",
        "\n",
        "manual_schema = StructType([\n",
        "    StructField(\"InvoiceNo\", StringType(), True),\n",
        "    StructField(\"StockCode\", StringType(), True),\n",
        "    StructField(\"Description\", StringType(), True),\n",
        "    StructField(\"Quantity\", IntegerType(), True),\n",
        "    StructField(\"InvoiceDate\", StringType(), True),\n",
        "    StructField(\"UnitPrice\", FloatType(), True),\n",
        "    StructField(\"CustomerID\", IntegerType(), True),\n",
        "    StructField(\"Country\", StringType(), True)\n",
        "\n",
        "])"
      ],
      "metadata": {
        "id": "tF-ASVEK0hSo"
      },
      "execution_count": 96,
      "outputs": []
    },
    {
      "cell_type": "code",
      "source": [
        "df_schema_1 = spark.read \\\n",
        ".option(\"header\",\"True\") \\\n",
        ".option(\"sep\",\";\") \\\n",
        ".schema(manual_schema) \\\n",
        ".csv(\"/content/OnlineRetail.csv\")"
      ],
      "metadata": {
        "id": "P1fOkqmI0hOj"
      },
      "execution_count": 97,
      "outputs": []
    },
    {
      "cell_type": "code",
      "source": [
        "df_schema_1.show(5)"
      ],
      "metadata": {
        "colab": {
          "base_uri": "https://localhost:8080/"
        },
        "id": "MK_H3rfH2DgX",
        "outputId": "2a0e20c5-c9d8-4deb-ae54-b02c7b6ddd37"
      },
      "execution_count": 100,
      "outputs": [
        {
          "output_type": "stream",
          "name": "stdout",
          "text": [
            "+---------+---------+--------------------+--------+---------------+---------+----------+--------------+\n",
            "|InvoiceNo|StockCode|         Description|Quantity|    InvoiceDate|UnitPrice|CustomerID|       Country|\n",
            "+---------+---------+--------------------+--------+---------------+---------+----------+--------------+\n",
            "|   536365|   85123A|WHITE HANGING HEA...|       6|1.12.2010 08:26|     null|     17850|United Kingdom|\n",
            "|   536365|    71053| WHITE METAL LANTERN|       6|1.12.2010 08:26|     null|     17850|United Kingdom|\n",
            "|   536365|   84406B|CREAM CUPID HEART...|       8|1.12.2010 08:26|     null|     17850|United Kingdom|\n",
            "|   536365|   84029G|KNITTED UNION FLA...|       6|1.12.2010 08:26|     null|     17850|United Kingdom|\n",
            "|   536365|   84029E|RED WOOLLY HOTTIE...|       6|1.12.2010 08:26|     null|     17850|United Kingdom|\n",
            "+---------+---------+--------------------+--------+---------------+---------+----------+--------------+\n",
            "only showing top 5 rows\n",
            "\n"
          ]
        }
      ]
    },
    {
      "cell_type": "code",
      "source": [
        "df_schema_1.printSchema()"
      ],
      "metadata": {
        "colab": {
          "base_uri": "https://localhost:8080/"
        },
        "id": "-QUn9U3V0hJ_",
        "outputId": "5d9e7eac-4cb6-4260-dfee-8a7f116fb679"
      },
      "execution_count": 99,
      "outputs": [
        {
          "output_type": "stream",
          "name": "stdout",
          "text": [
            "root\n",
            " |-- InvoiceNo: string (nullable = true)\n",
            " |-- StockCode: string (nullable = true)\n",
            " |-- Description: string (nullable = true)\n",
            " |-- Quantity: integer (nullable = true)\n",
            " |-- InvoiceDate: string (nullable = true)\n",
            " |-- UnitPrice: float (nullable = true)\n",
            " |-- CustomerID: integer (nullable = true)\n",
            " |-- Country: string (nullable = true)\n",
            "\n"
          ]
        }
      ]
    },
    {
      "cell_type": "code",
      "source": [
        "#yukaridaki islem sonucu UnitPrice uygun formata donusmedi,Sebebi virgullerle ayrilmis olmasi olabilir.\n",
        "df_schema = df_schema.withColumn(\"UnitPrice\",F.regexp_replace(F.col(\"UnitPrice\"), \",\",\".\"))"
      ],
      "metadata": {
        "id": "d56eWLx30hFC"
      },
      "execution_count": 103,
      "outputs": []
    },
    {
      "cell_type": "code",
      "source": [
        "df_schema.show(5)"
      ],
      "metadata": {
        "colab": {
          "base_uri": "https://localhost:8080/"
        },
        "id": "P9hlfj1Q2sqr",
        "outputId": "d76cb65a-95f3-40a3-aabe-5c488355aa2a"
      },
      "execution_count": 104,
      "outputs": [
        {
          "output_type": "stream",
          "name": "stdout",
          "text": [
            "+---------+---------+--------------------+--------+---------------+---------+----------+--------------+\n",
            "|InvoiceNo|StockCode|         Description|Quantity|    InvoiceDate|UnitPrice|CustomerID|       Country|\n",
            "+---------+---------+--------------------+--------+---------------+---------+----------+--------------+\n",
            "|   536365|   85123A|WHITE HANGING HEA...|       6|1.12.2010 08:26|     2.55|     17850|United Kingdom|\n",
            "|   536365|    71053| WHITE METAL LANTERN|       6|1.12.2010 08:26|     3.39|     17850|United Kingdom|\n",
            "|   536365|   84406B|CREAM CUPID HEART...|       8|1.12.2010 08:26|     2.75|     17850|United Kingdom|\n",
            "|   536365|   84029G|KNITTED UNION FLA...|       6|1.12.2010 08:26|     3.39|     17850|United Kingdom|\n",
            "|   536365|   84029E|RED WOOLLY HOTTIE...|       6|1.12.2010 08:26|     3.39|     17850|United Kingdom|\n",
            "+---------+---------+--------------------+--------+---------------+---------+----------+--------------+\n",
            "only showing top 5 rows\n",
            "\n"
          ]
        }
      ]
    },
    {
      "cell_type": "code",
      "source": [
        "df_schema \\\n",
        "    .coalesce(1) \\\n",
        "    .write \\\n",
        "    .mode(\"overwrite\") \\\n",
        "    .option(\"sep\",\";\") \\\n",
        "    .option(\"header\",\"true\") \\\n",
        "    .csv(\"/content/onlineretail.csv\")"
      ],
      "metadata": {
        "id": "6qD3I_3d3J9B"
      },
      "execution_count": 110,
      "outputs": []
    },
    {
      "cell_type": "code",
      "source": [
        "df_schema_1 = spark.read \\\n",
        ".option(\"header\",\"True\") \\\n",
        ".option(\"sep\",\";\") \\\n",
        ".schema(manual_schema) \\\n",
        ".csv(\"/content/onlineretail.csv/part-00000-ea16faa7-2a44-4e63-a6b0-87e650e8f8bb-c000.csv\")"
      ],
      "metadata": {
        "id": "K65AzTUx20Dh"
      },
      "execution_count": 111,
      "outputs": []
    },
    {
      "cell_type": "code",
      "source": [
        "df_schema_1.show(5)"
      ],
      "metadata": {
        "colab": {
          "base_uri": "https://localhost:8080/"
        },
        "id": "itqsPSCI23S9",
        "outputId": "9513b52f-7bfa-495f-a8ca-bcc9f42a0d78"
      },
      "execution_count": 112,
      "outputs": [
        {
          "output_type": "stream",
          "name": "stdout",
          "text": [
            "+---------+---------+--------------------+--------+---------------+---------+----------+--------------+\n",
            "|InvoiceNo|StockCode|         Description|Quantity|    InvoiceDate|UnitPrice|CustomerID|       Country|\n",
            "+---------+---------+--------------------+--------+---------------+---------+----------+--------------+\n",
            "|   536365|   85123A|WHITE HANGING HEA...|       6|1.12.2010 08:26|     2.55|     17850|United Kingdom|\n",
            "|   536365|    71053| WHITE METAL LANTERN|       6|1.12.2010 08:26|     3.39|     17850|United Kingdom|\n",
            "|   536365|   84406B|CREAM CUPID HEART...|       8|1.12.2010 08:26|     2.75|     17850|United Kingdom|\n",
            "|   536365|   84029G|KNITTED UNION FLA...|       6|1.12.2010 08:26|     3.39|     17850|United Kingdom|\n",
            "|   536365|   84029E|RED WOOLLY HOTTIE...|       6|1.12.2010 08:26|     3.39|     17850|United Kingdom|\n",
            "+---------+---------+--------------------+--------+---------------+---------+----------+--------------+\n",
            "only showing top 5 rows\n",
            "\n"
          ]
        }
      ]
    },
    {
      "cell_type": "code",
      "source": [
        "df_schema_1.printSchema()"
      ],
      "metadata": {
        "colab": {
          "base_uri": "https://localhost:8080/"
        },
        "id": "ZgNAAXA0272Y",
        "outputId": "d85b60cf-53c8-4375-eaf0-3b090f63cd3d"
      },
      "execution_count": 113,
      "outputs": [
        {
          "output_type": "stream",
          "name": "stdout",
          "text": [
            "root\n",
            " |-- InvoiceNo: string (nullable = true)\n",
            " |-- StockCode: string (nullable = true)\n",
            " |-- Description: string (nullable = true)\n",
            " |-- Quantity: integer (nullable = true)\n",
            " |-- InvoiceDate: string (nullable = true)\n",
            " |-- UnitPrice: float (nullable = true)\n",
            " |-- CustomerID: integer (nullable = true)\n",
            " |-- Country: string (nullable = true)\n",
            "\n"
          ]
        }
      ]
    },
    {
      "cell_type": "markdown",
      "source": [
        "## *🔍Time Operations*"
      ],
      "metadata": {
        "id": "iUvKFNdF8DbV"
      }
    },
    {
      "cell_type": "code",
      "source": [
        "df_time = spark.read \\\n",
        ".option(\"header\",\"True\") \\\n",
        ".option(\"inferSchema\",\"True\") \\\n",
        ".option(\"sep\",\";\") \\\n",
        ".csv(\"/content/OnlineRetail.csv\") \\\n",
        ".select(\"InvoiceDate\").distinct()"
      ],
      "metadata": {
        "id": "erVmrXTn4Ec0"
      },
      "execution_count": 130,
      "outputs": []
    },
    {
      "cell_type": "code",
      "source": [
        "df_time.show(10)"
      ],
      "metadata": {
        "colab": {
          "base_uri": "https://localhost:8080/"
        },
        "id": "x71NqsVz8ZHq",
        "outputId": "e77f0908-a463-4af8-c831-34ffb4ad5123"
      },
      "execution_count": 131,
      "outputs": [
        {
          "output_type": "stream",
          "name": "stdout",
          "text": [
            "+----------------+\n",
            "|     InvoiceDate|\n",
            "+----------------+\n",
            "| 3.12.2010 16:50|\n",
            "| 7.12.2010 12:28|\n",
            "| 8.12.2010 15:02|\n",
            "|10.12.2010 09:53|\n",
            "|12.12.2010 13:32|\n",
            "|15.12.2010 13:21|\n",
            "|16.12.2010 08:41|\n",
            "|17.12.2010 09:52|\n",
            "| 9.01.2011 11:43|\n",
            "|11.01.2011 11:38|\n",
            "+----------------+\n",
            "only showing top 10 rows\n",
            "\n"
          ]
        }
      ]
    },
    {
      "cell_type": "code",
      "source": [
        "df_time.printSchema()"
      ],
      "metadata": {
        "colab": {
          "base_uri": "https://localhost:8080/"
        },
        "id": "4Gu8rTiN-Liz",
        "outputId": "115fb5b6-49f8-4aaf-ead2-48fb8e8ac40f"
      },
      "execution_count": 132,
      "outputs": [
        {
          "output_type": "stream",
          "name": "stdout",
          "text": [
            "root\n",
            " |-- InvoiceDate: string (nullable = true)\n",
            "\n"
          ]
        }
      ]
    },
    {
      "cell_type": "code",
      "source": [
        "time_format = 'dd.MM.yyyy HH:mm'"
      ],
      "metadata": {
        "id": "4Plms1Xt8d0b"
      },
      "execution_count": 133,
      "outputs": []
    },
    {
      "cell_type": "code",
      "source": [
        "from pyspark.sql import functions as F\n",
        "\n",
        "df_time_format1 = df_time.withColumn(\"InvoiceDate\", F.trim(F.col(\"InvoiceDate\"))) \\\n",
        ".withColumn(\"normal_tarih\", F.to_date(F.col(\"InvoiceDate\"), time_format)) \\\n",
        ".withColumn(\"standart_ts\", F.to_timestamp(F.col(\"InvoiceDate\"), time_format)) \\\n",
        "\n",
        "df_time_format1.show(10)"
      ],
      "metadata": {
        "id": "CoWH1Ev68unT"
      },
      "execution_count": null,
      "outputs": []
    },
    {
      "cell_type": "code",
      "source": [
        "df2.printSchema()"
      ],
      "metadata": {
        "colab": {
          "base_uri": "https://localhost:8080/"
        },
        "id": "iM6AOY2K8uZw",
        "outputId": "ae1c827e-3b0c-4ccf-e4e8-39ae10166263"
      },
      "execution_count": 119,
      "outputs": [
        {
          "output_type": "stream",
          "name": "stdout",
          "text": [
            "root\n",
            " |-- sirano: integer (nullable = true)\n",
            " |-- isim: string (nullable = true)\n",
            " |-- yas: integer (nullable = true)\n",
            " |-- cinsiyet: string (nullable = true)\n",
            " |-- meslek: string (nullable = true)\n",
            " |-- sehir: string (nullable = true)\n",
            " |-- aylik_gelir: double (nullable = true)\n",
            " |-- mal_mulk: string (nullable = true)\n",
            "\n"
          ]
        }
      ]
    },
    {
      "cell_type": "code",
      "source": [
        "format_tr = \"dd/MM/yyyy HH:mm:ss\"\n",
        "format_eng = \"MM-dd-yyyy HH:mm:ss\"\n",
        "\n",
        "df_time_format2 = df_time_format1 \\\n",
        ".withColumn(\"TSTR\", F.date_format(F.col(\"standart_ts\"), format_tr)) \\\n",
        ".withColumn(\"TSENG\", F.date_format(F.col(\"standart_ts\"), format_eng)) \\\n",
        ".withColumn(\"unix_time\", F.unix_timestamp(F.col(\"standart_ts\"))) \\\n",
        "\n",
        "df_time_format2.show(10)"
      ],
      "metadata": {
        "id": "GEgTdA-K8xvG"
      },
      "execution_count": null,
      "outputs": []
    },
    {
      "cell_type": "code",
      "source": [
        "df_time_format2.printSchema()"
      ],
      "metadata": {
        "id": "YHTbdzFq8xjV"
      },
      "execution_count": null,
      "outputs": []
    },
    {
      "cell_type": "code",
      "source": [
        "df_time_format3 = df_time_format2\\\n",
        ".withColumn(\"bir_yil\", F.date_add(F.col(\"standart_ts\"), 365)) \\\n",
        ".withColumn(\"yil\", F.year(F.col(\"standart_ts\"))) \\\n",
        ".withColumn(\"fark\", F.datediff(F.col(\"bir_yil\"), F.col(\"standart_ts\")))\n",
        "\n",
        "\n",
        "df_time_format3.show(10)"
      ],
      "metadata": {
        "id": "Jyr_aXbgBPSL"
      },
      "execution_count": null,
      "outputs": []
    },
    {
      "cell_type": "code",
      "source": [
        ""
      ],
      "metadata": {
        "id": "LFmgasrQBPNG"
      },
      "execution_count": null,
      "outputs": []
    },
    {
      "cell_type": "code",
      "source": [
        ""
      ],
      "metadata": {
        "id": "uS3C5gqdBPIT"
      },
      "execution_count": null,
      "outputs": []
    },
    {
      "cell_type": "code",
      "source": [
        ""
      ],
      "metadata": {
        "id": "auySqKpHBO9n"
      },
      "execution_count": null,
      "outputs": []
    }
  ]
}